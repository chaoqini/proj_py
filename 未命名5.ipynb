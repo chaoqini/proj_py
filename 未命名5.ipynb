{
 "cells": [
  {
   "cell_type": "code",
   "execution_count": null,
   "id": "0af7b38b",
   "metadata": {},
   "outputs": [
    {
     "name": "stdout",
     "output_type": "stream",
     "text": [
      "-- use slope grade function\n",
      "==========  0/200 :\n",
      "train number is  2/30 at 0/200 batchs\n",
      "train number is  3/30 at 0/200 batchs\n",
      "train number is  4/30 at 0/200 batchs\n",
      "train number is  5/30 at 0/200 batchs\n",
      "train number is  6/30 at 0/200 batchs\n",
      "train number is  7/30 at 0/200 batchs\n",
      "train number is  8/30 at 0/200 batchs\n",
      "train number is  9/30 at 0/200 batchs\n",
      "train number is  10/30 at 0/200 batchs\n",
      "train number is  11/30 at 0/200 batchs\n",
      "train number is  12/30 at 0/200 batchs\n",
      "train number is  13/30 at 0/200 batchs\n",
      "train number is  14/30 at 0/200 batchs\n",
      "train number is  15/30 at 0/200 batchs\n",
      "train number is  16/30 at 0/200 batchs\n",
      "train number is  17/30 at 0/200 batchs\n",
      "train number is  18/30 at 0/200 batchs\n",
      "train number is  19/30 at 0/200 batchs\n",
      "train number is  20/30 at 0/200 batchs\n",
      "train number is  21/30 at 0/200 batchs\n",
      "train number is  22/30 at 0/200 batchs\n",
      "train number is  23/30 at 0/200 batchs\n",
      "train number is  24/30 at 0/200 batchs\n",
      "train number is  25/30 at 0/200 batchs\n",
      "train number is  26/30 at 0/200 batchs\n",
      "train number is  27/30 at 0/200 batchs\n",
      "train number is  28/30 at 0/200 batchs\n",
      "train number is  29/30 at 0/200 batchs\n",
      "train number is  30/30 at 0/200 batchs\n",
      "==========  1/200 :\n",
      "train number is  2/30 at 1/200 batchs\n",
      "train number is  3/30 at 1/200 batchs\n",
      "train number is  4/30 at 1/200 batchs\n"
     ]
    }
   ],
   "source": [
    "import ann2\n",
    "import imp\n",
    "imp.reload(ann2)"
   ]
  }
 ],
 "metadata": {
  "kernelspec": {
   "display_name": "Python 3 (ipykernel)",
   "language": "python",
   "name": "python3"
  },
  "language_info": {
   "codemirror_mode": {
    "name": "ipython",
    "version": 3
   },
   "file_extension": ".py",
   "mimetype": "text/x-python",
   "name": "python",
   "nbconvert_exporter": "python",
   "pygments_lexer": "ipython3",
   "version": "3.10.2"
  }
 },
 "nbformat": 4,
 "nbformat_minor": 5
}
