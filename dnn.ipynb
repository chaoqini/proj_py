{
 "cells": [
  {
   "cell_type": "code",
   "execution_count": 1,
   "id": "d1f675c5",
   "metadata": {},
   "outputs": [
    {
     "name": "stdout",
     "output_type": "stream",
     "text": [
      "hyperparams_test runing iteration=1/6\n",
      "Training running ...\n",
      "Train layers = 5\n",
      "Train learning rate lr0 = 0.003\n",
      "Train learning rate klr = 0.999\n",
      "Train batch = 30\n",
      "Train input X.shape=(1666, 30, 784, 1), LAB.shape=(1666, 30, 1, 1)\n",
      "params b0.shape= (200, 1)\n",
      "params w0.shape= (200, 784)\n",
      "params b1.shape= (200, 1)\n",
      "params w1.shape= (200, 200)\n",
      "params b2.shape= (200, 1)\n",
      "params w2.shape= (200, 200)\n",
      "params b3.shape= (200, 1)\n",
      "params w3.shape= (200, 200)\n",
      "params b4.shape= (200, 1)\n",
      "params w4.shape= (200, 200)\n",
      "active function g[0] is: relu\n",
      "active function g[1] is: relu\n",
      "active function g[2] is: softmax\n",
      "active function g[3] is: log_loss\n",
      "Training bath running ...\n",
      "Training iteration number = 0/1666\n"
     ]
    },
    {
     "ename": "TypeError",
     "evalue": "log_loss() missing 2 required positional arguments: 'params' and 'LAB'",
     "output_type": "error",
     "traceback": [
      "\u001b[0;31m---------------------------------------------------------------------------\u001b[0m",
      "\u001b[0;31mTypeError\u001b[0m                                 Traceback (most recent call last)",
      "Input \u001b[0;32mIn [1]\u001b[0m, in \u001b[0;36m<module>\u001b[0;34m\u001b[0m\n\u001b[1;32m      4\u001b[0m imp\u001b[38;5;241m.\u001b[39mreload(dnn)\n\u001b[1;32m      5\u001b[0m \u001b[38;5;66;03m# def hyperparams_test(nloop=0,lr0=0,klr=0,batch=0,batches=0,lays=0):\u001b[39;00m\n\u001b[0;32m----> 6\u001b[0m \u001b[43mdnn\u001b[49m\u001b[38;5;241;43m.\u001b[39;49m\u001b[43mhyperparams_test\u001b[49m\u001b[43m(\u001b[49m\u001b[43mnloop\u001b[49m\u001b[38;5;241;43m=\u001b[39;49m\u001b[38;5;241;43m6\u001b[39;49m\u001b[43m,\u001b[49m\u001b[43mlays\u001b[49m\u001b[38;5;241;43m=\u001b[39;49m\u001b[38;5;241;43m5\u001b[39;49m\u001b[43m,\u001b[49m\u001b[43mnnode\u001b[49m\u001b[38;5;241;43m=\u001b[39;49m\u001b[38;5;241;43m200\u001b[39;49m\u001b[43m,\u001b[49m\u001b[43mlr0\u001b[49m\u001b[38;5;241;43m=\u001b[39;49m\u001b[38;5;241;43m0.003\u001b[39;49m\u001b[43m,\u001b[49m\u001b[43mklr\u001b[49m\u001b[38;5;241;43m=\u001b[39;49m\u001b[38;5;241;43m0.999\u001b[39;49m\u001b[43m,\u001b[49m\u001b[43mbatch\u001b[49m\u001b[38;5;241;43m=\u001b[39;49m\u001b[38;5;241;43m30\u001b[39;49m\u001b[43m)\u001b[49m\n",
      "File \u001b[0;32m~/proj_py/dnn.py:404\u001b[0m, in \u001b[0;36mhyperparams_test\u001b[0;34m(nloop, lays, nnode, lr0, klr, batch, batches)\u001b[0m\n\u001b[1;32m    402\u001b[0m         lri\u001b[38;5;241m=\u001b[39mlr0\u001b[38;5;241m*\u001b[39m(\u001b[38;5;241m1\u001b[39m\u001b[38;5;241m-\u001b[39mi\u001b[38;5;241m/\u001b[39mnloop)\n\u001b[1;32m    403\u001b[0m \u001b[38;5;66;03m#        klr=klr-0.001*i\u001b[39;00m\n\u001b[0;32m--> 404\u001b[0m         (v1,v2)\u001b[38;5;241m=\u001b[39m\u001b[43mdnn_train\u001b[49m\u001b[43m(\u001b[49m\u001b[43mparams\u001b[49m\u001b[43m,\u001b[49m\u001b[43mlri\u001b[49m\u001b[43m,\u001b[49m\u001b[43mklr\u001b[49m\u001b[43m,\u001b[49m\u001b[43mbatch\u001b[49m\u001b[43m,\u001b[49m\u001b[43mbatches\u001b[49m\u001b[43m,\u001b[49m\u001b[38;5;241;43m1\u001b[39;49m\u001b[43m)\u001b[49m\n\u001b[1;32m    405\u001b[0m         v1a\u001b[38;5;241m.\u001b[39mappend(v1)\n\u001b[1;32m    406\u001b[0m         v2a\u001b[38;5;241m.\u001b[39mappend(v2)\n",
      "File \u001b[0;32m~/proj_py/dnn.py:369\u001b[0m, in \u001b[0;36mdnn_train\u001b[0;34m(params, lr0, klr, batch, batches, isplot, istime, ischeck)\u001b[0m\n\u001b[1;32m    361\u001b[0m \u001b[38;5;28;01mdef\u001b[39;00m \u001b[38;5;21mdnn_train\u001b[39m(params,lr0\u001b[38;5;241m=\u001b[39m\u001b[38;5;241m0\u001b[39m,klr\u001b[38;5;241m=\u001b[39m\u001b[38;5;241m0\u001b[39m,batch\u001b[38;5;241m=\u001b[39m\u001b[38;5;241m0\u001b[39m,batches\u001b[38;5;241m=\u001b[39m\u001b[38;5;241m0\u001b[39m,isplot\u001b[38;5;241m=\u001b[39m\u001b[38;5;241m0\u001b[39m,istime\u001b[38;5;241m=\u001b[39m\u001b[38;5;241m0\u001b[39m,ischeck\u001b[38;5;241m=\u001b[39m\u001b[38;5;241m0\u001b[39m):\n\u001b[1;32m    362\u001b[0m \u001b[38;5;66;03m#    params=params_ref.copy()\u001b[39;00m\n\u001b[1;32m    363\u001b[0m \u001b[38;5;66;03m#    params=copy.deepcopy(params)\u001b[39;00m\n\u001b[0;32m   (...)\u001b[0m\n\u001b[1;32m    366\u001b[0m \u001b[38;5;66;03m#        iseq=iseq&(np.all(params[k]==params_init[k])) \u001b[39;00m\n\u001b[1;32m    367\u001b[0m \u001b[38;5;66;03m#        print('params[%s] iseq=%s'%(k,iseq))\u001b[39;00m\n\u001b[1;32m    368\u001b[0m     \u001b[38;5;28mprint\u001b[39m(\u001b[38;5;124m'\u001b[39m\u001b[38;5;124mTraining running ...\u001b[39m\u001b[38;5;124m'\u001b[39m)\n\u001b[0;32m--> 369\u001b[0m     params\u001b[38;5;241m=\u001b[39m\u001b[43mbatch_train\u001b[49m\u001b[43m(\u001b[49m\u001b[43mparams\u001b[49m\u001b[43m,\u001b[49m\u001b[43mlr0\u001b[49m\u001b[43m,\u001b[49m\u001b[43mklr\u001b[49m\u001b[43m,\u001b[49m\u001b[43mbatch\u001b[49m\u001b[43m,\u001b[49m\u001b[43mbatches\u001b[49m\u001b[43m,\u001b[49m\u001b[43misplot\u001b[49m\u001b[43m,\u001b[49m\u001b[43mistime\u001b[49m\u001b[43m)\u001b[49m\n\u001b[1;32m    370\u001b[0m     \u001b[38;5;28mprint\u001b[39m(\u001b[38;5;124m'\u001b[39m\u001b[38;5;124mValid running ...\u001b[39m\u001b[38;5;124m'\u001b[39m)\n\u001b[1;32m    371\u001b[0m     (valid_per,correct)\u001b[38;5;241m=\u001b[39mvalid(params)\n",
      "File \u001b[0;32m~/proj_py/dnn.py:238\u001b[0m, in \u001b[0;36mbatch_train\u001b[0;34m(params, lr0, klr, batch, batches, isplot, istime)\u001b[0m\n\u001b[1;32m    236\u001b[0m             \u001b[38;5;28mprint\u001b[39m(\u001b[38;5;124m'\u001b[39m\u001b[38;5;124mTraining iteration number = \u001b[39m\u001b[38;5;132;01m%s\u001b[39;00m\u001b[38;5;124m/\u001b[39m\u001b[38;5;132;01m%s\u001b[39;00m\u001b[38;5;124m'\u001b[39m\u001b[38;5;241m%\u001b[39m(i,\u001b[38;5;28mlen\u001b[39m(X)))\n\u001b[1;32m    237\u001b[0m             \u001b[38;5;28;01mif\u001b[39;00m istime\u001b[38;5;241m!=\u001b[39m\u001b[38;5;241m0\u001b[39m:tb\u001b[38;5;241m=\u001b[39mtime\u001b[38;5;241m.\u001b[39mtime()\n\u001b[0;32m--> 238\u001b[0m         grad\u001b[38;5;241m=\u001b[39m\u001b[43mdnn\u001b[49m\u001b[38;5;241;43m.\u001b[39;49m\u001b[43mbp\u001b[49m\u001b[43m(\u001b[49m\u001b[43mX\u001b[49m\u001b[43m[\u001b[49m\u001b[43mi\u001b[49m\u001b[43m]\u001b[49m\u001b[43m,\u001b[49m\u001b[43mparams\u001b[49m\u001b[43m,\u001b[49m\u001b[43mLAB\u001b[49m\u001b[43m[\u001b[49m\u001b[43mi\u001b[49m\u001b[43m]\u001b[49m\u001b[43m)\u001b[49m\n\u001b[1;32m    239\u001b[0m \u001b[38;5;66;03m#        lr=lr0/(1+i/100)\u001b[39;00m\n\u001b[1;32m    240\u001b[0m         lr\u001b[38;5;241m=\u001b[39mlr0\u001b[38;5;241m*\u001b[39mklr\u001b[38;5;241m*\u001b[39m\u001b[38;5;241m*\u001b[39mi\n",
      "File \u001b[0;32m~/proj_py/dnn.py:113\u001b[0m, in \u001b[0;36mdnn.bp\u001b[0;34m(X, params, LAB)\u001b[0m\n\u001b[1;32m    111\u001b[0m \u001b[38;5;28;01mif\u001b[39;00m LAB\u001b[38;5;241m.\u001b[39mndim\u001b[38;5;241m==\u001b[39m\u001b[38;5;241m2\u001b[39m: LAB\u001b[38;5;241m=\u001b[39mLAB\u001b[38;5;241m.\u001b[39mreshape(\u001b[38;5;28mtuple\u001b[39m([\u001b[38;5;241m1\u001b[39m])\u001b[38;5;241m+\u001b[39mLAB\u001b[38;5;241m.\u001b[39mshape)\n\u001b[1;32m    112\u001b[0m \u001b[38;5;28;01massert\u001b[39;00m(X\u001b[38;5;241m.\u001b[39mndim\u001b[38;5;241m==\u001b[39m\u001b[38;5;241m3\u001b[39m); \u001b[38;5;28;01massert\u001b[39;00m(LAB\u001b[38;5;241m.\u001b[39mndim\u001b[38;5;241m==\u001b[39m\u001b[38;5;241m3\u001b[39m)\n\u001b[0;32m--> 113\u001b[0m (Y,OP)\u001b[38;5;241m=\u001b[39m\u001b[43mdnn\u001b[49m\u001b[38;5;241;43m.\u001b[39;49m\u001b[43mfp\u001b[49m\u001b[43m(\u001b[49m\u001b[43mX\u001b[49m\u001b[43m,\u001b[49m\u001b[43mparams\u001b[49m\u001b[43m,\u001b[49m\u001b[38;5;241;43m1\u001b[39;49m\u001b[43m)\u001b[49m\n\u001b[1;32m    114\u001b[0m meye\u001b[38;5;241m=\u001b[39mnp\u001b[38;5;241m.\u001b[39marray([np\u001b[38;5;241m.\u001b[39meye(Y\u001b[38;5;241m.\u001b[39mshape[\u001b[38;5;241m1\u001b[39m])]\u001b[38;5;241m*\u001b[39m\u001b[38;5;28mlen\u001b[39m(LAB))\n\u001b[1;32m    115\u001b[0m lab\u001b[38;5;241m=\u001b[39mLAB\u001b[38;5;241m.\u001b[39mreshape(\u001b[38;5;241m-\u001b[39m\u001b[38;5;241m1\u001b[39m)\n",
      "File \u001b[0;32m~/proj_py/dnn.py:102\u001b[0m, in \u001b[0;36mdnn.fp\u001b[0;34m(X, params, isop)\u001b[0m\n\u001b[1;32m    100\u001b[0m \u001b[38;5;28;01mfor\u001b[39;00m i \u001b[38;5;129;01min\u001b[39;00m \u001b[38;5;28mrange\u001b[39m(l):\n\u001b[1;32m    101\u001b[0m     OP[\u001b[38;5;124m'\u001b[39m\u001b[38;5;124mZ\u001b[39m\u001b[38;5;124m'\u001b[39m\u001b[38;5;241m+\u001b[39m\u001b[38;5;28mstr\u001b[39m(i)]\u001b[38;5;241m=\u001b[39mp[\u001b[38;5;124m'\u001b[39m\u001b[38;5;124mw\u001b[39m\u001b[38;5;124m'\u001b[39m\u001b[38;5;241m+\u001b[39m\u001b[38;5;28mstr\u001b[39m(i)]\u001b[38;5;129m@OP\u001b[39m[\u001b[38;5;124m'\u001b[39m\u001b[38;5;124mA\u001b[39m\u001b[38;5;124m'\u001b[39m\u001b[38;5;241m+\u001b[39m\u001b[38;5;28mstr\u001b[39m(i\u001b[38;5;241m-\u001b[39m\u001b[38;5;241m1\u001b[39m)]\u001b[38;5;241m+\u001b[39mp[\u001b[38;5;124m'\u001b[39m\u001b[38;5;124mb\u001b[39m\u001b[38;5;124m'\u001b[39m\u001b[38;5;241m+\u001b[39m\u001b[38;5;28mstr\u001b[39m(i)]\n\u001b[0;32m--> 102\u001b[0m     OP[\u001b[38;5;124m'\u001b[39m\u001b[38;5;124mA\u001b[39m\u001b[38;5;124m'\u001b[39m\u001b[38;5;241m+\u001b[39m\u001b[38;5;28mstr\u001b[39m(i)]\u001b[38;5;241m=\u001b[39m\u001b[43mdnn\u001b[49m\u001b[38;5;241;43m.\u001b[39;49m\u001b[43mg\u001b[49m\u001b[43m[\u001b[49m\u001b[43mi\u001b[49m\u001b[43m]\u001b[49m\u001b[43m(\u001b[49m\u001b[43mOP\u001b[49m\u001b[43m[\u001b[49m\u001b[38;5;124;43m'\u001b[39;49m\u001b[38;5;124;43mZ\u001b[39;49m\u001b[38;5;124;43m'\u001b[39;49m\u001b[38;5;241;43m+\u001b[39;49m\u001b[38;5;28;43mstr\u001b[39;49m\u001b[43m(\u001b[49m\u001b[43mi\u001b[49m\u001b[43m)\u001b[49m\u001b[43m]\u001b[49m\u001b[43m)\u001b[49m\n\u001b[1;32m    103\u001b[0m Y\u001b[38;5;241m=\u001b[39mOP[\u001b[38;5;124m'\u001b[39m\u001b[38;5;124mA\u001b[39m\u001b[38;5;124m'\u001b[39m\u001b[38;5;241m+\u001b[39m\u001b[38;5;28mstr\u001b[39m(l\u001b[38;5;241m-\u001b[39m\u001b[38;5;241m1\u001b[39m)]\n\u001b[1;32m    104\u001b[0m \u001b[38;5;28;01mif\u001b[39;00m isop\u001b[38;5;241m==\u001b[39m\u001b[38;5;241m0\u001b[39m: \n",
      "\u001b[0;31mTypeError\u001b[0m: log_loss() missing 2 required positional arguments: 'params' and 'LAB'"
     ]
    }
   ],
   "source": [
    "import dnn\n",
    "import numpy as np\n",
    "import imp\n",
    "imp.reload(dnn)\n",
    "# def hyperparams_test(nloop=0,lr0=0,klr=0,batch=0,batches=0,lays=0):\n",
    "dnn.hyperparams_test(nloop=6,lays=5,nnode=200,lr0=0.003,klr=0.999,batch=30)"
   ]
  }
 ],
 "metadata": {
  "kernelspec": {
   "display_name": "Python 3 (ipykernel)",
   "language": "python",
   "name": "python3"
  },
  "language_info": {
   "codemirror_mode": {
    "name": "ipython",
    "version": 3
   },
   "file_extension": ".py",
   "mimetype": "text/x-python",
   "name": "python",
   "nbconvert_exporter": "python",
   "pygments_lexer": "ipython3",
   "version": "3.10.2"
  }
 },
 "nbformat": 4,
 "nbformat_minor": 5
}
