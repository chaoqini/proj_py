{
 "cells": [
  {
   "cell_type": "code",
   "execution_count": 3,
   "id": "d1f675c5",
   "metadata": {},
   "outputs": [
    {
     "name": "stdout",
     "output_type": "stream",
     "text": [
      "Training running ...\n",
      "params b0.shape= (200, 1)\n",
      "params b1.shape= (100, 1)\n",
      "params b2.shape= (10, 1)\n",
      "params w0.shape= (200, 784)\n",
      "params w1.shape= (100, 200)\n",
      "params w2.shape= (10, 100)\n",
      "active function g[0] is: relu\n",
      "active function g[1] is: relu\n",
      "active function g[2] is: softmax\n",
      "active function g[3] is: log_loss\n",
      "Train learning rate = 0.1\n",
      "Train batch = 20\n",
      "Train input X.shape=(2500, 20, 784, 1), LAB.shape=(2500, 20, 1, 1)\n",
      "Training bath running ...\n",
      "Training iteration number = 0/2500\n",
      "the spending time of 0/2500 batch is 196.10309600830078 mS\n",
      "Training iteration number = 250/2500\n",
      "the spending time of 250/2500 batch is 85.80207824707031 mS\n",
      "Training iteration number = 500/2500\n",
      "the spending time of 500/2500 batch is 38.046836853027344 mS\n",
      "Training iteration number = 750/2500\n",
      "the spending time of 750/2500 batch is 187.42632865905762 mS\n",
      "Training iteration number = 1000/2500\n",
      "the spending time of 1000/2500 batch is 97.83482551574707 mS\n",
      "Training iteration number = 1250/2500\n",
      "the spending time of 1250/2500 batch is 120.92256546020508 mS\n",
      "Training iteration number = 1500/2500\n",
      "the spending time of 1500/2500 batch is 100.21686553955078 mS\n",
      "Training iteration number = 1750/2500\n",
      "the spending time of 1750/2500 batch is 117.49744415283203 mS\n",
      "Training iteration number = 2000/2500\n",
      "the spending time of 2000/2500 batch is 108.0617904663086 mS\n",
      "Training iteration number = 2250/2500\n",
      "the spending time of 2250/2500 batch is 61.09619140625 mS\n",
      "Training iteration number = 2499/2500\n",
      "the spending time of 2499/2500 batch is 41.60809516906738 mS\n"
     ]
    },
    {
     "data": {
      "image/png": "[encoded data removed]",
      "text/plain": [
       "<Figure size 432x288 with 1 Axes>"
      ]
     },
     "metadata": {
      "needs_background": "light"
     },
     "output_type": "display_data"
    },
    {
     "name": "stdout",
     "output_type": "stream",
     "text": [
      "Valid running ...\n",
      "Valid Input X.shape=(100, 100, 784, 1), LAB.shape=(100, 100, 1, 1)\n",
      "Valid batch running ...\n",
      "Valid iteration number = 0/100\n",
      "Valid iteration number = 10/100\n",
      "Valid iteration number = 20/100\n",
      "Valid iteration number = 30/100\n",
      "Valid iteration number = 40/100\n",
      "Valid iteration number = 50/100\n",
      "Valid iteration number = 60/100\n",
      "Valid iteration number = 70/100\n",
      "Valid iteration number = 80/100\n",
      "Valid iteration number = 90/100\n",
      "Valid iteration number = 99/100\n",
      "Valid L2 norm:\n",
      "Valid L2_normalize_b0 = 0.0005485208005568304\n",
      "Valid L2_normalize_b1 = 0.002730594817532451\n",
      "Valid L2_normalize_b2 = 0.1434174141994245\n",
      "Valid L2_normalize_w0 = 4.8795484543132915e-05\n",
      "Valid L2_normalize_w1 = 0.0002103324639608439\n",
      "Valid L2_normalize_w2 = 0.004386707720585826\n",
      "Valid percent is : 94.66%\n",
      "Valid_train Input X.shape=(500, 100, 784, 1), LAB.shape=(500, 100, 1, 1)\n",
      "Valid_train batch running ...\n",
      "Valid_train iteration number = 0/500\n",
      "Valid_train iteration number = 50/500\n",
      "Valid_train iteration number = 100/500\n",
      "Valid_train iteration number = 150/500\n",
      "Valid_train iteration number = 200/500\n",
      "Valid_train iteration number = 250/500\n",
      "Valid_train iteration number = 300/500\n",
      "Valid_train iteration number = 350/500\n",
      "Valid_train iteration number = 400/500\n",
      "Valid_train iteration number = 450/500\n",
      "Valid_train iteration number = 499/500\n",
      "Valid_train L2_normalize_b0 = 0.0005485208005568304\n",
      "Valid_train L2_normalize_b1 = 0.002730594817532451\n",
      "Valid_train L2_normalize_b2 = 0.1434174141994245\n",
      "Valid_train L2_normalize_w0 = 4.8795484543132915e-05\n",
      "Valid_train L2_normalize_w1 = 0.0002103324639608439\n",
      "Valid_train L2_normalize_w2 = 0.004386707720585826\n",
      "Valid_train percent is : 94.14%\n",
      "params write in dnn_p1.pkl\n",
      "Grade check running ...\n"
     ]
    },
    {
     "data": {
      "text/plain": [
       "<module 'dnn' from '/home/qc/proj_py/dnn.py'>"
      ]
     },
     "execution_count": 3,
     "metadata": {},
     "output_type": "execute_result"
    }
   ],
   "source": [
    "import dnn\n",
    "import numpy as np\n",
    "import imp\n",
    "imp.reload(dnn)"
   ]
  },
  {
   "cell_type": "code",
   "execution_count": 26,
   "id": "017ba2e4",
   "metadata": {},
   "outputs": [
    {
     "name": "stdout",
     "output_type": "stream",
     "text": [
      "Real lab number is :\t7\n",
      "Precdict number is :\t7\n"
     ]
    },
    {
     "data": {
      "image/png": "[encoded data removed]",
      "text/plain": [
       "<Figure size 432x288 with 1 Axes>"
      ]
     },
     "metadata": {
      "needs_background": "light"
     },
     "output_type": "display_data"
    }
   ],
   "source": [
    "dnn.show()"
   ]
  }
 ],
 "metadata": {
  "kernelspec": {
   "display_name": "Python 3 (ipykernel)",
   "language": "python",
   "name": "python3"
  },
  "language_info": {
   "codemirror_mode": {
    "name": "ipython",
    "version": 3
   },
   "file_extension": ".py",
   "mimetype": "text/x-python",
   "name": "python",
   "nbconvert_exporter": "python",
   "pygments_lexer": "ipython3",
   "version": "3.10.2"
  }
 },
 "nbformat": 4,
 "nbformat_minor": 5
}
