{
 "cells": [
  {
   "cell_type": "code",
   "execution_count": null,
   "id": "d1f675c5",
   "metadata": {},
   "outputs": [
    {
     "name": "stdout",
     "output_type": "stream",
     "text": [
      "hyperparams_test runing iteration=1/5\n",
      "Training running ...\n",
      "Train learning rate lr0 = 0.8\n",
      "Train learning rate klr = 1.0\n",
      "Train batch = 30\n",
      "Train input X.shape=(1666, 30, 784, 1), LAB.shape=(1666, 30, 1, 1)\n",
      "params b0.shape= (200, 1)\n",
      "params b1.shape= (100, 1)\n",
      "params b2.shape= (100, 1)\n",
      "params b3.shape= (10, 1)\n",
      "params w0.shape= (200, 784)\n",
      "params w1.shape= (100, 200)\n",
      "params w2.shape= (100, 100)\n",
      "params w3.shape= (10, 100)\n",
      "active function g[0] is: relu\n",
      "active function g[1] is: relu\n",
      "active function g[2] is: relu\n",
      "active function g[3] is: softmax\n",
      "active function g[4] is: log_loss\n",
      "Training bath running ...\n",
      "Training iteration number = 0/1666\n"
     ]
    }
   ],
   "source": [
    "import dnn\n",
    "import numpy as np\n",
    "import imp\n",
    "imp.reload(dnn)\n",
    "dnn.hyperparams_test(dnn.params_init,batch=30)"
   ]
  }
 ],
 "metadata": {
  "kernelspec": {
   "display_name": "Python 3 (ipykernel)",
   "language": "python",
   "name": "python3"
  },
  "language_info": {
   "codemirror_mode": {
    "name": "ipython",
    "version": 3
   },
   "file_extension": ".py",
   "mimetype": "text/x-python",
   "name": "python",
   "nbconvert_exporter": "python",
   "pygments_lexer": "ipython3",
   "version": "3.10.2"
  }
 },
 "nbformat": 4,
 "nbformat_minor": 5
}
