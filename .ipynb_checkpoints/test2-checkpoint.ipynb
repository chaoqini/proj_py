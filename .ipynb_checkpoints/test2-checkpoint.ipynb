{
 "cells": [
  {
   "cell_type": "code",
   "execution_count": 12,
   "id": "db707aab",
   "metadata": {},
   "outputs": [
    {
     "name": "stdout",
     "output_type": "stream",
     "text": [
      "[[[0 3]\n",
      "  [6 9]]\n",
      "\n",
      " [[0 1]\n",
      "  [2 3]]]\n",
      "[[[1. 0.]\n",
      "  [0. 1.]]\n",
      "\n",
      " [[2. 0.]\n",
      "  [0. 2.]]]\n",
      "[[[0. 3.]\n",
      "  [6. 9.]]\n",
      "\n",
      " [[0. 2.]\n",
      "  [4. 6.]]]\n"
     ]
    }
   ],
   "source": [
    "import numpy as np\n",
    "\n",
    "a1=np.arange(2*2).reshape(2,2)\n",
    "A1=np.array([a1*3,a1])\n",
    "b1=np.eye(2)\n",
    "b2=np.eye(2)*2\n",
    "B1=np.array([b1,b2])\n",
    "Y1=A1@B1\n",
    "print(A1)\n",
    "print(B1)\n",
    "print(Y1)"
   ]
  },
  {
   "cell_type": "code",
   "execution_count": 30,
   "id": "858f35c6",
   "metadata": {},
   "outputs": [],
   "source": [
    "import numpy as np\n",
    "\n",
    "def softmax(x): \n",
    "    exp=np.exp(x-x.max())\n",
    "    return exp/exp.sum()\n",
    "def softmax_d(x): \n",
    "    print('softmax x shape:',x.shape)\n",
    "    y=softmax(x)\n",
    "    print('softmax y shape:',y.shape)\n",
    "    return np.diag(y[:,0])-np.outer(y,y)\n"
   ]
  },
  {
   "cell_type": "code",
   "execution_count": null,
   "id": "9afc96d7",
   "metadata": {},
   "outputs": [],
   "source": []
  }
 ],
 "metadata": {
  "kernelspec": {
   "display_name": "Python 3 (ipykernel)",
   "language": "python",
   "name": "python3"
  },
  "language_info": {
   "codemirror_mode": {
    "name": "ipython",
    "version": 3
   },
   "file_extension": ".py",
   "mimetype": "text/x-python",
   "name": "python",
   "nbconvert_exporter": "python",
   "pygments_lexer": "ipython3",
   "version": "3.10.2"
  }
 },
 "nbformat": 4,
 "nbformat_minor": 5
}
