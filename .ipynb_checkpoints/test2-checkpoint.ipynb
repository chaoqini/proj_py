{
 "cells": [
  {
   "cell_type": "code",
   "execution_count": 26,
   "id": "db707aab",
   "metadata": {
    "collapsed": true
   },
   "outputs": [
    {
     "name": "stdout",
     "output_type": "stream",
     "text": [
      "a1=\n",
      " [[[ 0  1  2  3]\n",
      "  [ 4  5  6  7]\n",
      "  [ 8  9 10 11]\n",
      "  [12 13 14 15]]\n",
      "\n",
      " [[16 17 18 19]\n",
      "  [20 21 22 23]\n",
      "  [24 25 26 27]\n",
      "  [28 29 30 31]]]\n",
      "b1=\n",
      " [[[[[[ 0  1  2]\n",
      "     [ 4  5  6]\n",
      "     [ 8  9 10]]]\n",
      "\n",
      "\n",
      "   [[[ 1  2  3]\n",
      "     [ 5  6  7]\n",
      "     [ 9 10 11]]]]\n",
      "\n",
      "\n",
      "\n",
      "  [[[[ 4  5  6]\n",
      "     [ 8  9 10]\n",
      "     [12 13 14]]]\n",
      "\n",
      "\n",
      "   [[[ 5  6  7]\n",
      "     [ 9 10 11]\n",
      "     [13 14 15]]]]]\n",
      "\n",
      "\n",
      "\n",
      "\n",
      " [[[[[16 17 18]\n",
      "     [20 21 22]\n",
      "     [24 25 26]]]\n",
      "\n",
      "\n",
      "   [[[17 18 19]\n",
      "     [21 22 23]\n",
      "     [25 26 27]]]]\n",
      "\n",
      "\n",
      "\n",
      "  [[[[20 21 22]\n",
      "     [24 25 26]\n",
      "     [28 29 30]]]\n",
      "\n",
      "\n",
      "   [[[21 22 23]\n",
      "     [25 26 27]\n",
      "     [29 30 31]]]]]]\n",
      "a1.shape= (2, 4, 4)\n",
      "b1.shape= (2, 2, 2, 1, 3, 3)\n"
     ]
    }
   ],
   "source": [
    "import numpy as np\n",
    "from skimage.util import view_as_windows as vw\n",
    "(ba,hi,wi)=(2,4,4)\n",
    "a1=np.arange(ba*hi*wi,dtype=np.uint8).reshape(ba,hi,wi)\n",
    "# a1=np.arange(hi*wi,dtype=np.uint8).reshape(hi,wi)+1\n",
    "# b1=vw(a1,(3,3))\n",
    "b1=vw(a1,(1,3,3))\n",
    "# b1=b1.reshape(ba,hi,wi)\n",
    "print('a1=\\n',a1)\n",
    "print('b1=\\n',b1)\n",
    "print('a1.shape=',a1.shape)\n",
    "print('b1.shape=',b1.shape)\n",
    "# viewW(A, (BSZ[0],BSZ[1])).reshape(-1,BSZ[0]*BSZ[1]).T[:,::stepsize]\n",
    "# b1="
   ]
  },
  {
   "cell_type": "code",
   "execution_count": 7,
   "id": "954b1d22",
   "metadata": {},
   "outputs": [
    {
     "name": "stdout",
     "output_type": "stream",
     "text": [
      "[[[[[[ 1  2  3]\n",
      "     [ 3  4  5]\n",
      "     [ 5  6  7]]\n",
      "\n",
      "    [[ 2  3  4]\n",
      "     [ 4  5  6]\n",
      "     [ 6  7  8]]]\n",
      "\n",
      "\n",
      "   [[[ 3  4  5]\n",
      "     [ 5  6  7]\n",
      "     [ 7  8  9]]\n",
      "\n",
      "    [[ 4  5  6]\n",
      "     [ 6  7  8]\n",
      "     [ 8  9 10]]]]\n",
      "\n",
      "\n",
      "\n",
      "  [[[[ 5  6  7]\n",
      "     [ 7  8  9]\n",
      "     [ 9 10 11]]\n",
      "\n",
      "    [[ 6  7  8]\n",
      "     [ 8  9 10]\n",
      "     [10 11 12]]]\n",
      "\n",
      "\n",
      "   [[[ 7  8  9]\n",
      "     [ 9 10 11]\n",
      "     [11 12 13]]\n",
      "\n",
      "    [[ 8  9 10]\n",
      "     [10 11 12]\n",
      "     [12 13 14]]]]]]\n"
     ]
    }
   ],
   "source": [
    "import numpy as np\n",
    "a1=np.arange(1*2*4*4).reshape(1,2,4,4)+1\n",
    "(ba,c,h,w)=a1.shape\n",
    "(ba,cp,hp,wp)=(ba,c,h-2,w-2)\n",
    "strd=(cp*hp*wp,hp*wp,wp,1,wp,1)\n",
    "strd=(i*a1.itemsize for i in strd)\n",
    "col=np.lib.stride_tricks.as_strided(a1,shape=(ba,cp,hp,wp,3,3),strides=strd)\n",
    "print('a1=\\n',a1)\n",
    "print('col=\\n',col)\n"
   ]
  },
  {
   "cell_type": "code",
   "execution_count": 13,
   "id": "cbfbf9b8",
   "metadata": {},
   "outputs": [
    {
     "name": "stdout",
     "output_type": "stream",
     "text": [
      "a1=\n",
      " [[[ 0  1  2]\n",
      "  [ 3  4  5]\n",
      "  [ 6  7  8]]\n",
      "\n",
      " [[ 9 10 11]\n",
      "  [12 13 14]\n",
      "  [15 16 17]]]\n",
      "b1=\n",
      " [[[17 16 15]\n",
      "  [14 13 12]\n",
      "  [11 10  9]]\n",
      "\n",
      " [[ 8  7  6]\n",
      "  [ 5  4  3]\n",
      "  [ 2  1  0]]]\n",
      "a1.shape= (2, 3, 3)\n",
      "b1.shape= (2, 3, 3)\n"
     ]
    }
   ],
   "source": [
    "import numpy as np\n",
    "# a1=np.arange(3*3*2).reshape(3,3,2)\n",
    "a1=np.arange(2*3*3).reshape(2,3,3)\n",
    "# b1=np.flip(a1,(1,2))\n",
    "b1=np.flip(a1)\n",
    "print('a1=\\n',a1)\n",
    "print('b1=\\n',b1)\n",
    "print('a1.shape=',a1.shape)\n",
    "print('b1.shape=',b1.shape)"
   ]
  },
  {
   "cell_type": "code",
   "execution_count": 14,
   "id": "b152e867",
   "metadata": {},
   "outputs": [
    {
     "name": "stdout",
     "output_type": "stream",
     "text": [
      "a1=\n",
      " [[[ 0  1]\n",
      "  [ 2  3]\n",
      "  [ 4  5]]\n",
      "\n",
      " [[ 6  7]\n",
      "  [ 8  9]\n",
      "  [10 11]]\n",
      "\n",
      " [[12 13]\n",
      "  [14 15]\n",
      "  [16 17]]]\n",
      "b1=\n",
      " [[[17 16]\n",
      "  [15 14]\n",
      "  [13 12]]\n",
      "\n",
      " [[11 10]\n",
      "  [ 9  8]\n",
      "  [ 7  6]]\n",
      "\n",
      " [[ 5  4]\n",
      "  [ 3  2]\n",
      "  [ 1  0]]]\n",
      "a1.shape= (3, 3, 2)\n",
      "b1.shape= (3, 3, 2)\n"
     ]
    }
   ],
   "source": [
    "import numpy as np\n",
    "a1=np.arange(3*3*2).reshape(3,3,2)\n",
    "# b1=np.flip(a1,(0,1))\n",
    "b1=np.flip(a1)\n",
    "print('a1=\\n',a1)\n",
    "print('b1=\\n',b1)\n",
    "print('a1.shape=',a1.shape)\n",
    "print('b1.shape=',b1.shape)"
   ]
  }
 ],
 "metadata": {
  "kernelspec": {
   "display_name": "Python 3",
   "language": "python",
   "name": "python3"
  },
  "language_info": {
   "codemirror_mode": {
    "name": "ipython",
    "version": 3
   },
   "file_extension": ".py",
   "mimetype": "text/x-python",
   "name": "python",
   "nbconvert_exporter": "python",
   "pygments_lexer": "ipython3",
   "version": "3.8.8"
  }
 },
 "nbformat": 4,
 "nbformat_minor": 5
}
