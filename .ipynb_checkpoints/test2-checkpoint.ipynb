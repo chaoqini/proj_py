{
 "cells": [
  {
   "cell_type": "code",
   "execution_count": 290,
   "id": "db707aab",
   "metadata": {},
   "outputs": [
    {
     "name": "stdout",
     "output_type": "stream",
     "text": [
      "a1.shape= (3, 3, 3)\n",
      "b1.shape= (3, 3, 3)\n",
      "a1=\n",
      "[[[ 0  1  2]\n",
      "  [ 3  4  5]\n",
      "  [ 6  7  8]]\n",
      "\n",
      " [[ 9 10 11]\n",
      "  [12 13 14]\n",
      "  [15 16 17]]\n",
      "\n",
      " [[18 19 20]\n",
      "  [21 22 23]\n",
      "  [24 25 26]]]\n",
      "b1=\n",
      "[[[1. 1. 1.]\n",
      "  [1. 1. 1.]\n",
      "  [1. 1. 1.]]\n",
      "\n",
      " [[1. 1. 1.]\n",
      "  [1. 1. 1.]\n",
      "  [1. 1. 1.]]\n",
      "\n",
      " [[1. 1. 1.]\n",
      "  [1. 1. 1.]\n",
      "  [1. 1. 1.]]]\n"
     ]
    }
   ],
   "source": [
    "import numpy as np\n",
    "mm=3;rr=3;cc=3\n",
    "a1=np.arange(mm*rr*cc).reshape(mm,rr,cc)\n",
    "b1=np.ones((3,3,3))\n",
    "# o1=np.ones((3,1))\n",
    "# b2=np.array([o1,o1*3,o1*21])\n",
    "print('a1.shape=',a1.shape)\n",
    "print('b1.shape=',b1.shape)\n",
    "print('a1=')\n",
    "print(a1)\n",
    "print('b1=')\n",
    "print(b1)"
   ]
  },
  {
   "cell_type": "code",
   "execution_count": 289,
   "id": "7919a58e",
   "metadata": {},
   "outputs": [
    {
     "data": {
      "text/plain": [
       "array([[[1., 1., 1.],\n",
       "        [1., 1., 1.],\n",
       "        [1., 1., 1.]],\n",
       "\n",
       "       [[1., 1., 1.],\n",
       "        [0., 0., 0.],\n",
       "        [1., 1., 1.]],\n",
       "\n",
       "       [[1., 1., 1.],\n",
       "        [1., 1., 1.],\n",
       "        [1., 1., 1.]]])"
      ]
     },
     "execution_count": 289,
     "metadata": {},
     "output_type": "execute_result"
    }
   ],
   "source": [
    "b1[1,1,:]=0\n",
    "b1"
   ]
  },
  {
   "cell_type": "code",
   "execution_count": 85,
   "id": "597e5ea1",
   "metadata": {},
   "outputs": [
    {
     "name": "stdout",
     "output_type": "stream",
     "text": [
      "(2, 3)\n",
      "[[0 1 2]\n",
      " [3 4 5]]\n"
     ]
    }
   ],
   "source": [
    "import numpy as np\n",
    "\n",
    "a1=np.arange(2*3).reshape(2,3)\n",
    "print(a1.shape)\n",
    "print(a1)"
   ]
  },
  {
   "cell_type": "code",
   "execution_count": 86,
   "id": "9b58ec90",
   "metadata": {},
   "outputs": [
    {
     "name": "stdout",
     "output_type": "stream",
     "text": [
      "(3, 2)\n",
      "[[1. 2.]\n",
      " [1. 2.]\n",
      " [1. 2.]]\n"
     ]
    }
   ],
   "source": [
    "# b1=np.ones((1,1)+(a1.shape))\n",
    "b1=np.ones((3))\n",
    "b2=np.array([b1,b1*2]).T\n",
    "print(b2.shape)\n",
    "print(b2)"
   ]
  },
  {
   "cell_type": "code",
   "execution_count": 90,
   "id": "b918369f",
   "metadata": {},
   "outputs": [
    {
     "name": "stdout",
     "output_type": "stream",
     "text": [
      "(2, 3, 2)\n",
      "[[[ 0.  0.]\n",
      "  [ 1.  2.]\n",
      "  [ 2.  4.]]\n",
      "\n",
      " [[ 3.  6.]\n",
      "  [ 4.  8.]\n",
      "  [ 5. 10.]]]\n"
     ]
    }
   ],
   "source": [
    "# d1=np.einsum('ijk,lmn->ijklmn',a1,b2)\n",
    "d1=np.einsum('ij,jl->ijl',a1,b2)\n",
    "print(d1.shape)\n",
    "print(d1)"
   ]
  },
  {
   "cell_type": "code",
   "execution_count": 93,
   "id": "15adfb89",
   "metadata": {},
   "outputs": [
    {
     "data": {
      "text/plain": [
       "array([[[1.00000000e+00, 1.00000000e+00],\n",
       "        [2.71828183e+00, 7.38905610e+00],\n",
       "        [7.38905610e+00, 5.45981500e+01]],\n",
       "\n",
       "       [[2.00855369e+01, 4.03428793e+02],\n",
       "        [5.45981500e+01, 2.98095799e+03],\n",
       "        [1.48413159e+02, 2.20264658e+04]]])"
      ]
     },
     "execution_count": 93,
     "metadata": {},
     "output_type": "execute_result"
    }
   ],
   "source": [
    "np.exp(d1)"
   ]
  },
  {
   "cell_type": "code",
   "execution_count": 30,
   "id": "2313a086",
   "metadata": {
    "collapsed": true
   },
   "outputs": [
    {
     "name": "stdout",
     "output_type": "stream",
     "text": [
      "(2, 3, 4, 2, 4, 2)\n",
      "[[[[[[ 0.  0.]\n",
      "     [ 0.  0.]\n",
      "     [ 0.  0.]\n",
      "     [ 0.  0.]]\n",
      "\n",
      "    [[ 0.  0.]\n",
      "     [ 0.  0.]\n",
      "     [ 0.  0.]\n",
      "     [ 0.  0.]]]\n",
      "\n",
      "\n",
      "   [[[ 1.  1.]\n",
      "     [ 1.  1.]\n",
      "     [ 1.  1.]\n",
      "     [ 1.  1.]]\n",
      "\n",
      "    [[ 2.  2.]\n",
      "     [ 2.  2.]\n",
      "     [ 2.  2.]\n",
      "     [ 2.  2.]]]\n",
      "\n",
      "\n",
      "   [[[ 2.  2.]\n",
      "     [ 2.  2.]\n",
      "     [ 2.  2.]\n",
      "     [ 2.  2.]]\n",
      "\n",
      "    [[ 4.  4.]\n",
      "     [ 4.  4.]\n",
      "     [ 4.  4.]\n",
      "     [ 4.  4.]]]\n",
      "\n",
      "\n",
      "   [[[ 3.  3.]\n",
      "     [ 3.  3.]\n",
      "     [ 3.  3.]\n",
      "     [ 3.  3.]]\n",
      "\n",
      "    [[ 6.  6.]\n",
      "     [ 6.  6.]\n",
      "     [ 6.  6.]\n",
      "     [ 6.  6.]]]]\n",
      "\n",
      "\n",
      "\n",
      "  [[[[ 4.  4.]\n",
      "     [ 4.  4.]\n",
      "     [ 4.  4.]\n",
      "     [ 4.  4.]]\n",
      "\n",
      "    [[ 8.  8.]\n",
      "     [ 8.  8.]\n",
      "     [ 8.  8.]\n",
      "     [ 8.  8.]]]\n",
      "\n",
      "\n",
      "   [[[ 5.  5.]\n",
      "     [ 5.  5.]\n",
      "     [ 5.  5.]\n",
      "     [ 5.  5.]]\n",
      "\n",
      "    [[10. 10.]\n",
      "     [10. 10.]\n",
      "     [10. 10.]\n",
      "     [10. 10.]]]\n",
      "\n",
      "\n",
      "   [[[ 6.  6.]\n",
      "     [ 6.  6.]\n",
      "     [ 6.  6.]\n",
      "     [ 6.  6.]]\n",
      "\n",
      "    [[12. 12.]\n",
      "     [12. 12.]\n",
      "     [12. 12.]\n",
      "     [12. 12.]]]\n",
      "\n",
      "\n",
      "   [[[ 7.  7.]\n",
      "     [ 7.  7.]\n",
      "     [ 7.  7.]\n",
      "     [ 7.  7.]]\n",
      "\n",
      "    [[14. 14.]\n",
      "     [14. 14.]\n",
      "     [14. 14.]\n",
      "     [14. 14.]]]]\n",
      "\n",
      "\n",
      "\n",
      "  [[[[ 8.  8.]\n",
      "     [ 8.  8.]\n",
      "     [ 8.  8.]\n",
      "     [ 8.  8.]]\n",
      "\n",
      "    [[16. 16.]\n",
      "     [16. 16.]\n",
      "     [16. 16.]\n",
      "     [16. 16.]]]\n",
      "\n",
      "\n",
      "   [[[ 9.  9.]\n",
      "     [ 9.  9.]\n",
      "     [ 9.  9.]\n",
      "     [ 9.  9.]]\n",
      "\n",
      "    [[18. 18.]\n",
      "     [18. 18.]\n",
      "     [18. 18.]\n",
      "     [18. 18.]]]\n",
      "\n",
      "\n",
      "   [[[10. 10.]\n",
      "     [10. 10.]\n",
      "     [10. 10.]\n",
      "     [10. 10.]]\n",
      "\n",
      "    [[20. 20.]\n",
      "     [20. 20.]\n",
      "     [20. 20.]\n",
      "     [20. 20.]]]\n",
      "\n",
      "\n",
      "   [[[11. 11.]\n",
      "     [11. 11.]\n",
      "     [11. 11.]\n",
      "     [11. 11.]]\n",
      "\n",
      "    [[22. 22.]\n",
      "     [22. 22.]\n",
      "     [22. 22.]\n",
      "     [22. 22.]]]]]\n",
      "\n",
      "\n",
      "\n",
      "\n",
      " [[[[[12. 12.]\n",
      "     [12. 12.]\n",
      "     [12. 12.]\n",
      "     [12. 12.]]\n",
      "\n",
      "    [[24. 24.]\n",
      "     [24. 24.]\n",
      "     [24. 24.]\n",
      "     [24. 24.]]]\n",
      "\n",
      "\n",
      "   [[[13. 13.]\n",
      "     [13. 13.]\n",
      "     [13. 13.]\n",
      "     [13. 13.]]\n",
      "\n",
      "    [[26. 26.]\n",
      "     [26. 26.]\n",
      "     [26. 26.]\n",
      "     [26. 26.]]]\n",
      "\n",
      "\n",
      "   [[[14. 14.]\n",
      "     [14. 14.]\n",
      "     [14. 14.]\n",
      "     [14. 14.]]\n",
      "\n",
      "    [[28. 28.]\n",
      "     [28. 28.]\n",
      "     [28. 28.]\n",
      "     [28. 28.]]]\n",
      "\n",
      "\n",
      "   [[[15. 15.]\n",
      "     [15. 15.]\n",
      "     [15. 15.]\n",
      "     [15. 15.]]\n",
      "\n",
      "    [[30. 30.]\n",
      "     [30. 30.]\n",
      "     [30. 30.]\n",
      "     [30. 30.]]]]\n",
      "\n",
      "\n",
      "\n",
      "  [[[[16. 16.]\n",
      "     [16. 16.]\n",
      "     [16. 16.]\n",
      "     [16. 16.]]\n",
      "\n",
      "    [[32. 32.]\n",
      "     [32. 32.]\n",
      "     [32. 32.]\n",
      "     [32. 32.]]]\n",
      "\n",
      "\n",
      "   [[[17. 17.]\n",
      "     [17. 17.]\n",
      "     [17. 17.]\n",
      "     [17. 17.]]\n",
      "\n",
      "    [[34. 34.]\n",
      "     [34. 34.]\n",
      "     [34. 34.]\n",
      "     [34. 34.]]]\n",
      "\n",
      "\n",
      "   [[[18. 18.]\n",
      "     [18. 18.]\n",
      "     [18. 18.]\n",
      "     [18. 18.]]\n",
      "\n",
      "    [[36. 36.]\n",
      "     [36. 36.]\n",
      "     [36. 36.]\n",
      "     [36. 36.]]]\n",
      "\n",
      "\n",
      "   [[[19. 19.]\n",
      "     [19. 19.]\n",
      "     [19. 19.]\n",
      "     [19. 19.]]\n",
      "\n",
      "    [[38. 38.]\n",
      "     [38. 38.]\n",
      "     [38. 38.]\n",
      "     [38. 38.]]]]\n",
      "\n",
      "\n",
      "\n",
      "  [[[[20. 20.]\n",
      "     [20. 20.]\n",
      "     [20. 20.]\n",
      "     [20. 20.]]\n",
      "\n",
      "    [[40. 40.]\n",
      "     [40. 40.]\n",
      "     [40. 40.]\n",
      "     [40. 40.]]]\n",
      "\n",
      "\n",
      "   [[[21. 21.]\n",
      "     [21. 21.]\n",
      "     [21. 21.]\n",
      "     [21. 21.]]\n",
      "\n",
      "    [[42. 42.]\n",
      "     [42. 42.]\n",
      "     [42. 42.]\n",
      "     [42. 42.]]]\n",
      "\n",
      "\n",
      "   [[[22. 22.]\n",
      "     [22. 22.]\n",
      "     [22. 22.]\n",
      "     [22. 22.]]\n",
      "\n",
      "    [[44. 44.]\n",
      "     [44. 44.]\n",
      "     [44. 44.]\n",
      "     [44. 44.]]]\n",
      "\n",
      "\n",
      "   [[[23. 23.]\n",
      "     [23. 23.]\n",
      "     [23. 23.]\n",
      "     [23. 23.]]\n",
      "\n",
      "    [[46. 46.]\n",
      "     [46. 46.]\n",
      "     [46. 46.]\n",
      "     [46. 46.]]]]]]\n"
     ]
    }
   ],
   "source": [
    "d1=np.einsum('ijk,mln->ijkmln',a1,b2)\n",
    "print(d1.shape)\n",
    "print(d1)"
   ]
  },
  {
   "cell_type": "code",
   "execution_count": 29,
   "id": "ddfdc2d4",
   "metadata": {},
   "outputs": [
    {
     "name": "stdout",
     "output_type": "stream",
     "text": [
      "(2, 3, 4, 2, 4)\n",
      "[[[[[ 0.  0.  0.  0.]\n",
      "    [ 0.  0.  0.  0.]]\n",
      "\n",
      "   [[ 1.  1.  1.  1.]\n",
      "    [ 2.  2.  2.  2.]]\n",
      "\n",
      "   [[ 2.  2.  2.  2.]\n",
      "    [ 4.  4.  4.  4.]]\n",
      "\n",
      "   [[ 3.  3.  3.  3.]\n",
      "    [ 6.  6.  6.  6.]]]\n",
      "\n",
      "\n",
      "  [[[ 4.  4.  4.  4.]\n",
      "    [ 8.  8.  8.  8.]]\n",
      "\n",
      "   [[ 5.  5.  5.  5.]\n",
      "    [10. 10. 10. 10.]]\n",
      "\n",
      "   [[ 6.  6.  6.  6.]\n",
      "    [12. 12. 12. 12.]]\n",
      "\n",
      "   [[ 7.  7.  7.  7.]\n",
      "    [14. 14. 14. 14.]]]\n",
      "\n",
      "\n",
      "  [[[ 8.  8.  8.  8.]\n",
      "    [16. 16. 16. 16.]]\n",
      "\n",
      "   [[ 9.  9.  9.  9.]\n",
      "    [18. 18. 18. 18.]]\n",
      "\n",
      "   [[10. 10. 10. 10.]\n",
      "    [20. 20. 20. 20.]]\n",
      "\n",
      "   [[11. 11. 11. 11.]\n",
      "    [22. 22. 22. 22.]]]]\n",
      "\n",
      "\n",
      "\n",
      " [[[[12. 12. 12. 12.]\n",
      "    [24. 24. 24. 24.]]\n",
      "\n",
      "   [[13. 13. 13. 13.]\n",
      "    [26. 26. 26. 26.]]\n",
      "\n",
      "   [[14. 14. 14. 14.]\n",
      "    [28. 28. 28. 28.]]\n",
      "\n",
      "   [[15. 15. 15. 15.]\n",
      "    [30. 30. 30. 30.]]]\n",
      "\n",
      "\n",
      "  [[[16. 16. 16. 16.]\n",
      "    [32. 32. 32. 32.]]\n",
      "\n",
      "   [[17. 17. 17. 17.]\n",
      "    [34. 34. 34. 34.]]\n",
      "\n",
      "   [[18. 18. 18. 18.]\n",
      "    [36. 36. 36. 36.]]\n",
      "\n",
      "   [[19. 19. 19. 19.]\n",
      "    [38. 38. 38. 38.]]]\n",
      "\n",
      "\n",
      "  [[[20. 20. 20. 20.]\n",
      "    [40. 40. 40. 40.]]\n",
      "\n",
      "   [[21. 21. 21. 21.]\n",
      "    [42. 42. 42. 42.]]\n",
      "\n",
      "   [[22. 22. 22. 22.]\n",
      "    [44. 44. 44. 44.]]\n",
      "\n",
      "   [[23. 23. 23. 23.]\n",
      "    [46. 46. 46. 46.]]]]]\n"
     ]
    }
   ],
   "source": [
    "c1=np.einsum('ijk,mli->ijkml',a1,b2)\n",
    "print(c1.shape)\n",
    "print(c1)"
   ]
  },
  {
   "cell_type": "code",
   "execution_count": 251,
   "id": "0dc16625",
   "metadata": {},
   "outputs": [
    {
     "data": {
      "text/plain": [
       "array([[[2]],\n",
       "\n",
       "       [[5]],\n",
       "\n",
       "       [[8]]])"
      ]
     },
     "execution_count": 251,
     "metadata": {},
     "output_type": "execute_result"
    }
   ],
   "source": [
    "c=np.max(a1,axis=1,keepdims=1)\n",
    "c"
   ]
  },
  {
   "cell_type": "code",
   "execution_count": 255,
   "id": "bbacc80a",
   "metadata": {},
   "outputs": [
    {
     "data": {
      "text/plain": [
       "array([[[0.   ],\n",
       "        [0.5  ],\n",
       "        [1.   ]],\n",
       "\n",
       "       [[0.6  ],\n",
       "        [0.8  ],\n",
       "        [1.   ]],\n",
       "\n",
       "       [[0.75 ],\n",
       "        [0.875],\n",
       "        [1.   ]]])"
      ]
     },
     "execution_count": 255,
     "metadata": {},
     "output_type": "execute_result"
    }
   ],
   "source": [
    "d=a1/c\n",
    "d"
   ]
  },
  {
   "cell_type": "code",
   "execution_count": 237,
   "id": "752f3c92",
   "metadata": {},
   "outputs": [
    {
     "name": "stdout",
     "output_type": "stream",
     "text": [
      "(3, 3, 1)\n"
     ]
    },
    {
     "data": {
      "text/plain": [
       "array([[[False],\n",
       "        [ True],\n",
       "        [False]],\n",
       "\n",
       "       [[ True],\n",
       "        [False],\n",
       "        [False]],\n",
       "\n",
       "       [[False],\n",
       "        [False],\n",
       "        [False]]])"
      ]
     },
     "execution_count": 237,
     "metadata": {},
     "output_type": "execute_result"
    }
   ],
   "source": [
    "# c = a1[axis=1]==b1[axis=1]\n",
    "# b1=a1\n",
    "c = a1==b1\n",
    "print(c.shape)\n",
    "c"
   ]
  },
  {
   "cell_type": "code",
   "execution_count": 239,
   "id": "29c414a5",
   "metadata": {},
   "outputs": [
    {
     "data": {
      "text/plain": [
       "array([[0.33333333],\n",
       "       [0.33333333],\n",
       "       [0.        ]])"
      ]
     },
     "execution_count": 239,
     "metadata": {},
     "output_type": "execute_result"
    }
   ],
   "source": [
    "d=np.einsum('ijk->ik',c)\n",
    "d"
   ]
  },
  {
   "cell_type": "code",
   "execution_count": 244,
   "id": "4f73f3ae",
   "metadata": {},
   "outputs": [
    {
     "data": {
      "text/plain": [
       "array([[0.33333333],\n",
       "       [0.33333333],\n",
       "       [0.        ]])"
      ]
     },
     "execution_count": 244,
     "metadata": {},
     "output_type": "execute_result"
    }
   ],
   "source": [
    "d=np.sum(c,axis=1)/c.shape[1]\n"
   ]
  },
  {
   "cell_type": "code",
   "execution_count": 171,
   "id": "1654791e",
   "metadata": {},
   "outputs": [
    {
     "data": {
      "text/plain": [
       "array([[[ 0,  1,  2],\n",
       "        [12, 13, 14]]])"
      ]
     },
     "execution_count": 171,
     "metadata": {},
     "output_type": "execute_result"
    }
   ],
   "source": [
    "a1[[0,1],[t2],:]"
   ]
  },
  {
   "cell_type": "code",
   "execution_count": 169,
   "id": "64a137d9",
   "metadata": {},
   "outputs": [
    {
     "name": "stdout",
     "output_type": "stream",
     "text": [
      "(2, 1, 1)\n"
     ]
    },
    {
     "data": {
      "text/plain": [
       "array([0, 1])"
      ]
     },
     "execution_count": 169,
     "metadata": {},
     "output_type": "execute_result"
    }
   ],
   "source": [
    "t1=np.arange(2*1*1).reshape(2,1,1)\n",
    "print(t1.shape)\n",
    "t1\n",
    "t2=t1.reshape(-1)\n",
    "# print(t2.shape)\n",
    "t2\n"
   ]
  },
  {
   "cell_type": "code",
   "execution_count": 174,
   "id": "0969644b",
   "metadata": {},
   "outputs": [
    {
     "data": {
      "text/plain": [
       "(20, 10, 1)"
      ]
     },
     "execution_count": 174,
     "metadata": {},
     "output_type": "execute_result"
    }
   ],
   "source": [
    "(20,10)+(1,)"
   ]
  },
  {
   "cell_type": "code",
   "execution_count": 34,
   "id": "46f1422f",
   "metadata": {},
   "outputs": [
    {
     "name": "stdout",
     "output_type": "stream",
     "text": [
      "(2, 10, 1)\n"
     ]
    },
    {
     "data": {
      "text/plain": [
       "array([[[ 0],\n",
       "        [ 1],\n",
       "        [ 2],\n",
       "        [ 3],\n",
       "        [ 4],\n",
       "        [ 5],\n",
       "        [ 6],\n",
       "        [ 7],\n",
       "        [ 8],\n",
       "        [ 9]],\n",
       "\n",
       "       [[10],\n",
       "        [11],\n",
       "        [12],\n",
       "        [13],\n",
       "        [14],\n",
       "        [15],\n",
       "        [16],\n",
       "        [17],\n",
       "        [18],\n",
       "        [19]]])"
      ]
     },
     "execution_count": 34,
     "metadata": {},
     "output_type": "execute_result"
    }
   ],
   "source": [
    "xx=np.arange(2*10*1).reshape(2,10,1)\n",
    "print(xx.shape)\n",
    "xx"
   ]
  },
  {
   "cell_type": "code",
   "execution_count": null,
   "id": "aa76604c",
   "metadata": {},
   "outputs": [],
   "source": [
    "ss=np.max(xx,axis=1,keepdims=1)\n",
    "print(ss.shape)\n",
    "ss"
   ]
  },
  {
   "cell_type": "code",
   "execution_count": 38,
   "id": "b1cc16aa",
   "metadata": {},
   "outputs": [
    {
     "name": "stdout",
     "output_type": "stream",
     "text": [
      "(2, 1, 1)\n"
     ]
    },
    {
     "data": {
      "text/plain": [
       "array([[[ 9]],\n",
       "\n",
       "       [[19]]])"
      ]
     },
     "execution_count": 38,
     "metadata": {},
     "output_type": "execute_result"
    }
   ],
   "source": [
    "ss=np.max(xx,axis=1,keepdims=1)\n",
    "print(ss.shape)\n",
    "ss"
   ]
  },
  {
   "cell_type": "code",
   "execution_count": 40,
   "id": "54b2c25a",
   "metadata": {},
   "outputs": [
    {
     "name": "stdout",
     "output_type": "stream",
     "text": [
      "(2, 10, 1)\n"
     ]
    },
    {
     "data": {
      "text/plain": [
       "array([[[-9],\n",
       "        [-8],\n",
       "        [-7],\n",
       "        [-6],\n",
       "        [-5],\n",
       "        [-4],\n",
       "        [-3],\n",
       "        [-2],\n",
       "        [-1],\n",
       "        [ 0]],\n",
       "\n",
       "       [[-9],\n",
       "        [-8],\n",
       "        [-7],\n",
       "        [-6],\n",
       "        [-5],\n",
       "        [-4],\n",
       "        [-3],\n",
       "        [-2],\n",
       "        [-1],\n",
       "        [ 0]]])"
      ]
     },
     "execution_count": 40,
     "metadata": {},
     "output_type": "execute_result"
    }
   ],
   "source": [
    "yy=xx-ss\n",
    "print(yy.shape)\n",
    "yy"
   ]
  },
  {
   "cell_type": "code",
   "execution_count": 45,
   "id": "cfa276e4",
   "metadata": {},
   "outputs": [
    {
     "name": "stdout",
     "output_type": "stream",
     "text": [
      "(2, 1, 1)\n"
     ]
    },
    {
     "data": {
      "text/plain": [
       "array([[[-45]],\n",
       "\n",
       "       [[-45]]])"
      ]
     },
     "execution_count": 45,
     "metadata": {},
     "output_type": "execute_result"
    }
   ],
   "source": [
    "zz=np.sum(yy,axis=1,keepdims=1)\n",
    "print(zz.shape)\n",
    "zz\n",
    "# zz.squeeze\n",
    "# zz"
   ]
  },
  {
   "cell_type": "code",
   "execution_count": 52,
   "id": "be10508c",
   "metadata": {},
   "outputs": [
    {
     "name": "stdout",
     "output_type": "stream",
     "text": [
      "(2, 10, 1)\n",
      "(2, 10, 1)\n"
     ]
    }
   ],
   "source": [
    "ll=yy/zz\n",
    "print(ll.shape)\n",
    "ll\n",
    "mm=ll.reshape((1,)+ll.shape)\n",
    "print(ll.shape)"
   ]
  },
  {
   "cell_type": "code",
   "execution_count": 256,
   "id": "93c3058e",
   "metadata": {},
   "outputs": [
    {
     "data": {
      "text/plain": [
       "array([[[0.],\n",
       "        [0.],\n",
       "        [1.]],\n",
       "\n",
       "       [[0.],\n",
       "        [0.],\n",
       "        [1.]],\n",
       "\n",
       "       [[0.],\n",
       "        [0.],\n",
       "        [1.]]])"
      ]
     },
     "execution_count": 256,
     "metadata": {},
     "output_type": "execute_result"
    }
   ],
   "source": [
    "np.trunc(d)"
   ]
  },
  {
   "cell_type": "code",
   "execution_count": 167,
   "id": "f434ee0b",
   "metadata": {},
   "outputs": [
    {
     "data": {
      "text/plain": [
       "array([[[[ 0,  1,  2],\n",
       "         [12, 13, 14]]]])"
      ]
     },
     "execution_count": 167,
     "metadata": {},
     "output_type": "execute_result"
    }
   ],
   "source": [
    "# xx=(1,1,1)\n",
    "# xx = (:,1,1)\n",
    "# a1[1,1,1]dd"
   ]
  }
 ],
 "metadata": {
  "kernelspec": {
   "display_name": "Python 3 (ipykernel)",
   "language": "python",
   "name": "python3"
  },
  "language_info": {
   "codemirror_mode": {
    "name": "ipython",
    "version": 3
   },
   "file_extension": ".py",
   "mimetype": "text/x-python",
   "name": "python",
   "nbconvert_exporter": "python",
   "pygments_lexer": "ipython3",
   "version": "3.10.2"
  }
 },
 "nbformat": 4,
 "nbformat_minor": 5
}
