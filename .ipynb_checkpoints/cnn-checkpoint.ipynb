{
 "cells": [
  {
   "cell_type": "code",
   "execution_count": 1,
   "id": "b9c25211",
   "metadata": {},
   "outputs": [
    {
     "name": "stdout",
     "output_type": "stream",
     "text": [
      "x=\n",
      " [[ 0  1  2  3  4  5  6  7  8]\n",
      " [ 9 10 11 12 13 14 15 16 17]\n",
      " [18 19 20 21 22 23 24 25 26]\n",
      " [27 28 29 30 31 32 33 34 35]]\n",
      "y=\n",
      " [[ 20.  33.  39.  45.  51.  57.  63.  69.  48.]\n",
      " [ 57.  90.  99. 108. 117. 126. 135. 144.  99.]\n",
      " [111. 171. 180. 189. 198. 207. 216. 225. 153.]\n",
      " [ 92. 141. 147. 153. 159. 165. 171. 177. 120.]]\n",
      "p=\n",
      " [[ 90. 108. 126. 144.]\n",
      " [171. 189. 207. 225.]]\n",
      "a=\n",
      " [[ 90. 108. 126. 144.]\n",
      " [171. 189. 207. 225.]]\n",
      "x.shape= (4, 9)\n",
      "y.shape= (4, 9)\n",
      "p.shape= (2, 4)\n",
      "a.shape= (2, 4)\n",
      "x=\n",
      " [[ 0  1  2  3  4  5  6  7  8]\n",
      " [ 9 10 11 12 13 14 15 16 17]\n",
      " [18 19 20 21 22 23 24 25 26]\n",
      " [27 28 29 30 31 32 33 34 35]]\n",
      "y=\n",
      " [[ 20.  33.  39.  45.  51.  57.  63.  69.  48.]\n",
      " [ 57.  90.  99. 108. 117. 126. 135. 144.  99.]\n",
      " [111. 171. 180. 189. 198. 207. 216. 225. 153.]\n",
      " [ 92. 141. 147. 153. 159. 165. 171. 177. 120.]]\n",
      "p=\n",
      " [[ 90. 108. 126. 144.]\n",
      " [171. 189. 207. 225.]]\n",
      "a=\n",
      " [[ 90. 108. 126. 144.]\n",
      " [171. 189. 207. 225.]]\n",
      "x.shape= (4, 9)\n",
      "y.shape= (4, 9)\n",
      "p.shape= (2, 4)\n",
      "a.shape= (2, 4)\n"
     ]
    },
    {
     "data": {
      "text/plain": [
       "<module 'cnn' from '/home/qc/proj_py/cnn.py'>"
      ]
     },
     "execution_count": 1,
     "metadata": {},
     "output_type": "execute_result"
    }
   ],
   "source": [
    "import cnn\n",
    "import numpy as np\n",
    "import imp\n",
    "imp.reload(cnn)"
   ]
  }
 ],
 "metadata": {
  "kernelspec": {
   "display_name": "Python 3",
   "language": "python",
   "name": "python3"
  },
  "language_info": {
   "codemirror_mode": {
    "name": "ipython",
    "version": 3
   },
   "file_extension": ".py",
   "mimetype": "text/x-python",
   "name": "python",
   "nbconvert_exporter": "python",
   "pygments_lexer": "ipython3",
   "version": "3.8.8"
  }
 },
 "nbformat": 4,
 "nbformat_minor": 5
}
