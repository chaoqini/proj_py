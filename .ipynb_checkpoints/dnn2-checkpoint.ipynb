{
 "cells": [
  {
   "cell_type": "code",
   "execution_count": null,
   "id": "d1f675c5",
   "metadata": {},
   "outputs": [
    {
     "name": "stdout",
     "output_type": "stream",
     "text": [
      "Training running ...\n",
      "iteration number = 0/1000\n",
      "iteration number = 100/1000\n",
      "iteration number = 200/1000\n",
      "iteration number = 300/1000\n",
      "iteration number = 400/1000\n",
      "iteration number = 500/1000\n",
      "iteration number = 600/1000\n"
     ]
    }
   ],
   "source": [
    "import dnn\n",
    "import numpy as np\n",
    "import imp\n",
    "imp.reload(dnn)"
   ]
  },
  {
   "cell_type": "code",
   "execution_count": 2,
   "id": "017ba2e4",
   "metadata": {},
   "outputs": [
    {
     "ename": "NameError",
     "evalue": "name 'ann' is not defined",
     "output_type": "error",
     "traceback": [
      "\u001b[0;31m---------------------------------------------------------------------------\u001b[0m",
      "\u001b[0;31mNameError\u001b[0m                                 Traceback (most recent call last)",
      "Input \u001b[0;32mIn [2]\u001b[0m, in \u001b[0;36m<module>\u001b[0;34m\u001b[0m\n\u001b[0;32m----> 1\u001b[0m \u001b[43mann\u001b[49m\u001b[38;5;241m.\u001b[39mshow()\n",
      "\u001b[0;31mNameError\u001b[0m: name 'ann' is not defined"
     ]
    }
   ],
   "source": [
    "dnn.show()"
   ]
  }
 ],
 "metadata": {
  "kernelspec": {
   "display_name": "Python 3 (ipykernel)",
   "language": "python",
   "name": "python3"
  },
  "language_info": {
   "codemirror_mode": {
    "name": "ipython",
    "version": 3
   },
   "file_extension": ".py",
   "mimetype": "text/x-python",
   "name": "python",
   "nbconvert_exporter": "python",
   "pygments_lexer": "ipython3",
   "version": "3.10.2"
  }
 },
 "nbformat": 4,
 "nbformat_minor": 5
}
