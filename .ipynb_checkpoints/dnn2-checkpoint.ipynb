{
 "cells": [
  {
   "cell_type": "code",
   "execution_count": 2,
   "id": "d1f675c5",
   "metadata": {},
   "outputs": [
    {
     "name": "stdout",
     "output_type": "stream",
     "text": [
      "Training running ...\n",
      "Valid running ...\n",
      "valid percent is : 50.99%\n",
      "train_valid percent is : 50.48%\n"
     ]
    },
    {
     "data": {
      "text/plain": [
       "<module 'dnn' from '/home/qc/proj_py/dnn.py'>"
      ]
     },
     "execution_count": 2,
     "metadata": {},
     "output_type": "execute_result"
    }
   ],
   "source": [
    "import dnn\n",
    "import numpy as np\n",
    "import imp\n",
    "imp.reload(dnn)"
   ]
  },
  {
   "cell_type": "code",
   "execution_count": 6,
   "id": "017ba2e4",
   "metadata": {},
   "outputs": [
    {
     "name": "stdout",
     "output_type": "stream",
     "text": [
      "Real lab number is :\t7\n",
      "Precdict number is :\t7\n"
     ]
    },
    {
     "data": {
      "image/png": "[encoded data removed]",
      "text/plain": [
       "<Figure size 432x288 with 1 Axes>"
      ]
     },
     "metadata": {
      "needs_background": "light"
     },
     "output_type": "display_data"
    }
   ],
   "source": [
    "dnn.show()"
   ]
  },
  {
   "cell_type": "code",
   "execution_count": 13,
   "id": "2db0f9c8",
   "metadata": {},
   "outputs": [
    {
     "name": "stdout",
     "output_type": "stream",
     "text": [
      "(500, 784)\n",
      "4.649028735192074\n",
      "0.4129973220879926\n",
      "1.1441058352566615\n"
     ]
    }
   ],
   "source": [
    "pw1=dnn.params['w1']\n",
    "print(pw1.shape)\n",
    "print(np.linalg.norm(pw1))\n",
    "print(np.linalg.norm(dnn.params['b1']))\n",
    "print(np.linalg.norm(dnn.params['b0']))"
   ]
  }
 ],
 "metadata": {
  "kernelspec": {
   "display_name": "Python 3 (ipykernel)",
   "language": "python",
   "name": "python3"
  },
  "language_info": {
   "codemirror_mode": {
    "name": "ipython",
    "version": 3
   },
   "file_extension": ".py",
   "mimetype": "text/x-python",
   "name": "python",
   "nbconvert_exporter": "python",
   "pygments_lexer": "ipython3",
   "version": "3.10.2"
  }
 },
 "nbformat": 4,
 "nbformat_minor": 5
}
