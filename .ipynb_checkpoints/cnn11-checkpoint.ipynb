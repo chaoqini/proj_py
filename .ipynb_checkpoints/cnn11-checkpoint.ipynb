{
 "cells": [
  {
   "cell_type": "code",
   "execution_count": 82,
   "id": "1ad28ce2",
   "metadata": {},
   "outputs": [
    {
     "name": "stdout",
     "output_type": "stream",
     "text": [
      "params.keys()=\n",
      " dict_keys(['k0', 'gama0', 'beta0', 'k1', 'gama1', 'beta1', 'k2', 'gama2', 'beta2', 'k3', 'gama3', 'beta3', 'k4', 'gama4', 'beta4', 'w5'])\n",
      "d_.keys()=\n",
      " dict_keys(['Y4', 'X4', 'M4', 'ZdM4', 'Z4', 'Z4_2col', 'A3', 'Y3', 'X3', 'M3', 'ZdM3', 'Z3', 'Z3_2col', 'A2', 'Y2', 'X2', 'M2', 'ZdM2', 'Z2', 'Z2_2col', 'A1', 'Y1', 'X1', 'M1', 'ZdM1', 'Z1', 'Z1_2col', 'A0', 'Y0', 'X0', 'M0', 'ZdM0', 'Z0', 'Z0_2col', 'A-1'])\n"
     ]
    },
    {
     "data": {
      "text/plain": [
       "<module 'cnn11' from '/home/qc/proj_py/cnn11.py'>"
      ]
     },
     "execution_count": 82,
     "metadata": {},
     "output_type": "execute_result"
    }
   ],
   "source": [
    "import cnn11\n",
    "import numpy as np\n",
    "import imp\n",
    "imp.reload(cnn11)\n",
    "# (params,params_init,g,g_d)=cnn11.init_params(lays=4)\n",
    "# params=cnn11.hyperparams_test(params,params_init,g,g_d,nloop=9,lr0=2e-3,klr=0.9995,batch=64,isupdate=1,isl2grad=1)\n",
    "# cnn.show(params,g)"
   ]
  }
 ],
 "metadata": {
  "kernelspec": {
   "display_name": "Python 3",
   "language": "python",
   "name": "python3"
  },
  "language_info": {
   "codemirror_mode": {
    "name": "ipython",
    "version": 3
   },
   "file_extension": ".py",
   "mimetype": "text/x-python",
   "name": "python",
   "nbconvert_exporter": "python",
   "pygments_lexer": "ipython3",
   "version": "3.8.8"
  }
 },
 "nbformat": 4,
 "nbformat_minor": 5
}
