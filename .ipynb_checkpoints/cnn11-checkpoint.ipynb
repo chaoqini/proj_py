{
 "cells": [
  {
   "cell_type": "code",
   "execution_count": null,
   "id": "2d820d1f",
   "metadata": {},
   "outputs": [],
   "source": [
    "import cnn11\n",
    "import numpy as np\n",
    "import imp\n",
    "imp.reload(cnn11)\n",
    "# (params,params_init,g,g_d)=cnn11.init_params(lays=3)\n",
    "# params=cnn11.hyperparams_test(params,params_init,g,g_d,nloop=2,lr0=2e-3,klr=0.9995,batch=64,isupdate=1,isl2grad=1)\n",
    "# cnn.show(params,g)"
   ]
  }
 ],
 "metadata": {
  "kernelspec": {
   "display_name": "Python 3",
   "language": "python",
   "name": "python3"
  },
  "language_info": {
   "codemirror_mode": {
    "name": "ipython",
    "version": 3
   },
   "file_extension": ".py",
   "mimetype": "text/x-python",
   "name": "python",
   "nbconvert_exporter": "python",
   "pygments_lexer": "ipython3",
   "version": "3.8.8"
  }
 },
 "nbformat": 4,
 "nbformat_minor": 5
}
