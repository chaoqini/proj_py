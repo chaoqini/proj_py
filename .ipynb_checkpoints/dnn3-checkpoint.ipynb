{
 "cells": [
  {
   "cell_type": "code",
   "execution_count": null,
   "id": "d1f675c5",
   "metadata": {},
   "outputs": [
    {
     "name": "stdout",
     "output_type": "stream",
     "text": [
      "Training running ...\n",
      "params b0.shape= (300, 1)\n",
      "params b1.shape= (200, 1)\n",
      "params b2.shape= (10, 1)\n",
      "params w0.shape= (300, 784)\n",
      "params w1.shape= (200, 300)\n",
      "params w2.shape= (10, 200)\n",
      "active function g[0] is: relu\n",
      "active function g[1] is: relu\n",
      "active function g[2] is: softmax\n",
      "active function g[3] is: log_loss\n",
      "Batch training running ...\n",
      "iteration number = 0/500\n",
      "the spending time of 0/500 batch is 377.1216869354248 mS\n"
     ]
    },
    {
     "name": "stderr",
     "output_type": "stream",
     "text": [
      "/home/qc/proj_py/dnn.py:69: RuntimeWarning: divide by zero encountered in log\n",
      "  LOSS=-YL*np.log(Y)\n",
      "/home/qc/proj_py/dnn.py:69: RuntimeWarning: invalid value encountered in multiply\n",
      "  LOSS=-YL*np.log(Y)\n",
      "/home/qc/proj_py/dnn.py:101: RuntimeWarning: overflow encountered in matmul\n",
      "  Z1=w1@A0+b1\n",
      "/home/qc/proj_py/dnn.py:37: RuntimeWarning: invalid value encountered in subtract\n",
      "  exp=np.exp(X-np.max(X,axis=1,keepdims=1))\n"
     ]
    }
   ],
   "source": [
    "import dnn\n",
    "import numpy as np\n",
    "import imp\n",
    "imp.reload(dnn)"
   ]
  }
 ],
 "metadata": {
  "kernelspec": {
   "display_name": "Python 3 (ipykernel)",
   "language": "python",
   "name": "python3"
  },
  "language_info": {
   "codemirror_mode": {
    "name": "ipython",
    "version": 3
   },
   "file_extension": ".py",
   "mimetype": "text/x-python",
   "name": "python",
   "nbconvert_exporter": "python",
   "pygments_lexer": "ipython3",
   "version": "3.10.2"
  }
 },
 "nbformat": 4,
 "nbformat_minor": 5
}
