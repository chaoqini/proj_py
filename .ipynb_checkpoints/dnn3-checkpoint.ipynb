{
 "cells": [
  {
   "cell_type": "code",
   "execution_count": null,
   "id": "d1f675c5",
   "metadata": {},
   "outputs": [
    {
     "name": "stdout",
     "output_type": "stream",
     "text": [
      "Training running ...\n",
      "params b0.shape= (784, 1)\n",
      "params b1.shape= (784, 1)\n",
      "params b2.shape= (784, 1)\n",
      "params w0.shape= (784, 784)\n",
      "params w1.shape= (784, 784)\n",
      "params w2.shape= (784, 784)\n",
      "active function g[0] is: relu\n",
      "active function g[1] is: relu\n",
      "active function g[2] is: softmax\n",
      "active function g[3] is: log_loss\n",
      "Train input X.shape=(2500, 20, 784, 1), LAB.shape=(2500, 20, 1, 1)\n",
      "Training bath running ...\n",
      "Training iteration number = 0/2500\n",
      "the spending time of 0/2500 batch is 1157.9294204711914 mS\n",
      "Training iteration number = 250/2500\n",
      "the spending time of 250/2500 batch is 853.001594543457 mS\n",
      "Training iteration number = 500/2500\n",
      "the spending time of 500/2500 batch is 1125.8509159088135 mS\n",
      "Training iteration number = 750/2500\n",
      "the spending time of 750/2500 batch is 1016.077995300293 mS\n",
      "Training iteration number = 1000/2500\n",
      "the spending time of 1000/2500 batch is 1144.0656185150146 mS\n",
      "Training iteration number = 1250/2500\n",
      "the spending time of 1250/2500 batch is 1063.920259475708 mS\n",
      "Training iteration number = 1500/2500\n",
      "the spending time of 1500/2500 batch is 920.0613498687744 mS\n",
      "Training iteration number = 1750/2500\n",
      "the spending time of 1750/2500 batch is 869.0507411956787 mS\n",
      "Training iteration number = 2000/2500\n",
      "the spending time of 2000/2500 batch is 960.5891704559326 mS\n",
      "Training iteration number = 2250/2500\n",
      "the spending time of 2250/2500 batch is 803.4346103668213 mS\n",
      "Training iteration number = 2499/2500\n",
      "the spending time of 2499/2500 batch is 874.9053478240967 mS\n"
     ]
    },
    {
     "data": {
      "image/png": "[encoded data removed]",
      "text/plain": [
       "<Figure size 432x288 with 1 Axes>"
      ]
     },
     "metadata": {
      "needs_background": "light"
     },
     "output_type": "display_data"
    },
    {
     "name": "stdout",
     "output_type": "stream",
     "text": [
      "Valid running ...\n",
      "Valid Input X.shape=(100, 100, 784, 1), LAB.shape=(100, 100, 1, 1)\n",
      "Valid batch running ...\n",
      "Valid iteration number = 0/100\n",
      "Valid iteration number = 10/100\n",
      "Valid iteration number = 20/100\n",
      "Valid iteration number = 30/100\n",
      "Valid iteration number = 40/100\n",
      "Valid iteration number = 50/100\n",
      "Valid iteration number = 60/100\n",
      "Valid iteration number = 70/100\n",
      "Valid iteration number = 80/100\n",
      "Valid iteration number = 90/100\n",
      "Valid iteration number = 99/100\n",
      "Valid L2 norm:\n",
      "Valid L2_normalize_b0 = 0.00017381243509894547\n",
      "Valid L2_normalize_b1 = 0.0009587864975966713\n",
      "Valid L2_normalize_b2 = 0.004496022610318461\n",
      "Valid L2_normalize_w0 = 1.4335974964255933e-05\n",
      "Valid L2_normalize_w1 = 8.024330109026761e-06\n",
      "Valid L2_normalize_w2 = 9.834922772492308e-06\n",
      "Valid percent is : 95.60%\n",
      "Valid_train Input X.shape=(500, 100, 784, 1), LAB.shape=(500, 100, 1, 1)\n",
      "Valid_train batch running ...\n",
      "Valid_train iteration number = 0/500\n",
      "Valid_train iteration number = 50/500\n",
      "Valid_train iteration number = 100/500\n",
      "Valid_train iteration number = 150/500\n",
      "Valid_train iteration number = 200/500\n",
      "Valid_train iteration number = 250/500\n",
      "Valid_train iteration number = 300/500\n",
      "Valid_train iteration number = 350/500\n",
      "Valid_train iteration number = 400/500\n",
      "Valid_train iteration number = 450/500\n",
      "Valid_train iteration number = 499/500\n",
      "Valid_train L2_normalize_b0 = 0.00017381243509894547\n",
      "Valid_train L2_normalize_b1 = 0.0009587864975966713\n",
      "Valid_train L2_normalize_b2 = 0.004496022610318461\n",
      "Valid_train L2_normalize_w0 = 1.4335974964255933e-05\n",
      "Valid_train L2_normalize_w1 = 8.024330109026761e-06\n",
      "Valid_train L2_normalize_w2 = 9.834922772492308e-06\n",
      "Valid_train percent is : 95.29%\n"
     ]
    }
   ],
   "source": [
    "import dnn\n",
    "import numpy as np\n",
    "import imp\n",
    "imp.reload(dnn)"
   ]
  },
  {
   "cell_type": "code",
   "execution_count": null,
   "id": "2bd30849",
   "metadata": {},
   "outputs": [],
   "source": [
    "dnn.show()"
   ]
  },
  {
   "cell_type": "code",
   "execution_count": null,
   "id": "4f7d829a",
   "metadata": {},
   "outputs": [],
   "source": []
  }
 ],
 "metadata": {
  "kernelspec": {
   "display_name": "Python 3 (ipykernel)",
   "language": "python",
   "name": "python3"
  },
  "language_info": {
   "codemirror_mode": {
    "name": "ipython",
    "version": 3
   },
   "file_extension": ".py",
   "mimetype": "text/x-python",
   "name": "python",
   "nbconvert_exporter": "python",
   "pygments_lexer": "ipython3",
   "version": "3.10.2"
  }
 },
 "nbformat": 4,
 "nbformat_minor": 5
}
