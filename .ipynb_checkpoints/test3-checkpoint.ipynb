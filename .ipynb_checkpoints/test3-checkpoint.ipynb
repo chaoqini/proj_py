{
 "cells": [
  {
   "cell_type": "code",
   "execution_count": 1,
   "id": "ec94a22e",
   "metadata": {},
   "outputs": [],
   "source": [
    "import numpy as np"
   ]
  },
  {
   "cell_type": "code",
   "execution_count": 4,
   "id": "b58360bf",
   "metadata": {},
   "outputs": [
    {
     "data": {
      "text/plain": [
       "array([[2., 2.],\n",
       "       [2., 2.],\n",
       "       [2., 2.]])"
      ]
     },
     "execution_count": 4,
     "metadata": {},
     "output_type": "execute_result"
    }
   ],
   "source": [
    "a1=np.arange(2*3*1).reshape(2,3)\n",
    "a1\n",
    "b1=np.ones((3,2))\n",
    "b1\n",
    "b2=b1*2\n",
    "b2"
   ]
  },
  {
   "cell_type": "code",
   "execution_count": 22,
   "id": "7687f462",
   "metadata": {},
   "outputs": [
    {
     "data": {
      "text/plain": [
       "array([[[0, 1, 2],\n",
       "        [3, 4, 5]],\n",
       "\n",
       "       [[0, 1, 2],\n",
       "        [3, 4, 5]],\n",
       "\n",
       "       [[0, 1, 2],\n",
       "        [3, 4, 5]]])"
      ]
     },
     "execution_count": 22,
     "metadata": {},
     "output_type": "execute_result"
    }
   ],
   "source": [
    "A1=np.array([a1,a1,a1] )\n",
    "A1\n",
    "# A1.shape"
   ]
  },
  {
   "cell_type": "code",
   "execution_count": 25,
   "id": "8aa5e603",
   "metadata": {},
   "outputs": [
    {
     "data": {
      "text/plain": [
       "array([[[1., 1.],\n",
       "        [1., 1.],\n",
       "        [1., 1.]],\n",
       "\n",
       "       [[2., 2.],\n",
       "        [2., 2.],\n",
       "        [2., 2.]],\n",
       "\n",
       "       [[1., 1.],\n",
       "        [1., 1.],\n",
       "        [1., 1.]]])"
      ]
     },
     "execution_count": 25,
     "metadata": {},
     "output_type": "execute_result"
    }
   ],
   "source": [
    "B1=np.array([b1,b2,b1])\n",
    "B1\n",
    "# B1.shape"
   ]
  },
  {
   "cell_type": "code",
   "execution_count": 27,
   "id": "9817bf40",
   "metadata": {},
   "outputs": [
    {
     "data": {
      "text/plain": [
       "(3, 2, 2)"
      ]
     },
     "execution_count": 27,
     "metadata": {},
     "output_type": "execute_result"
    }
   ],
   "source": [
    "C1=A1@B1\n",
    "C1.shape\n",
    "# C1"
   ]
  },
  {
   "cell_type": "code",
   "execution_count": 20,
   "id": "04e6d574",
   "metadata": {},
   "outputs": [],
   "source": [
    "D1=[a1@b1,a1@b2]\n",
    "# D1=np.arr"
   ]
  },
  {
   "cell_type": "code",
   "execution_count": 28,
   "id": "5323403d",
   "metadata": {},
   "outputs": [
    {
     "ename": "ValueError",
     "evalue": "operands could not be broadcast together with shapes (3,2,2) (2,2,2) ",
     "output_type": "error",
     "traceback": [
      "\u001b[0;31m---------------------------------------------------------------------------\u001b[0m",
      "\u001b[0;31mValueError\u001b[0m                                Traceback (most recent call last)",
      "Input \u001b[0;32mIn [28]\u001b[0m, in \u001b[0;36m<module>\u001b[0;34m\u001b[0m\n\u001b[0;32m----> 1\u001b[0m \u001b[43mC1\u001b[49m\u001b[38;5;241;43m-\u001b[39;49m\u001b[43mD1\u001b[49m\n",
      "\u001b[0;31mValueError\u001b[0m: operands could not be broadcast together with shapes (3,2,2) (2,2,2) "
     ]
    }
   ],
   "source": [
    "C1-D1"
   ]
  }
 ],
 "metadata": {
  "kernelspec": {
   "display_name": "Python 3 (ipykernel)",
   "language": "python",
   "name": "python3"
  },
  "language_info": {
   "codemirror_mode": {
    "name": "ipython",
    "version": 3
   },
   "file_extension": ".py",
   "mimetype": "text/x-python",
   "name": "python",
   "nbconvert_exporter": "python",
   "pygments_lexer": "ipython3",
   "version": "3.10.2"
  }
 },
 "nbformat": 4,
 "nbformat_minor": 5
}
