{
 "cells": [
  {
   "cell_type": "code",
   "execution_count": 104,
   "id": "5a5fc2ef",
   "metadata": {},
   "outputs": [
    {
     "name": "stdout",
     "output_type": "stream",
     "text": [
      "before padding :a.shape= (13, 11)\n",
      "after padding : ap.shape= (15, 13)\n",
      "a=\n",
      " [[  0   1   2   3   4   5   6   7   8   9  10]\n",
      " [ 11  12  13  14  15  16  17  18  19  20  21]\n",
      " [ 22  23  24  25  26  27  28  29  30  31  32]\n",
      " [ 33  34  35  36  37  38  39  40  41  42  43]\n",
      " [ 44  45  46  47  48  49  50  51  52  53  54]\n",
      " [ 55  56  57  58  59  60  61  62  63  64  65]\n",
      " [ 66  67  68  69  70  71  72  73  74  75  76]\n",
      " [ 77  78  79  80  81  82  83  84  85  86  87]\n",
      " [ 88  89  90  91  92  93  94  95  96  97  98]\n",
      " [ 99 100 101 102 103 104 105 106 107 108 109]\n",
      " [110 111 112 113 114 115 116 117 118 119 120]\n",
      " [121 122 123 124 125 126 127 128 129 130 131]\n",
      " [132 133 134 135 136 137 138 139 140 141 142]]\n",
      "b=\n",
      " [[  0.   0.   0.   0.   0.   0.   0.   0.   0.   0.   0.]\n",
      " [  0.   0.   1.   2.   3.   4.   5.   6.   7.   8.   9.]\n",
      " [  0.  11.  12.  13.  14.  15.  16.  17.  18.  19.  20.]\n",
      " [  0.  22.  23.  24.  25.  26.  27.  28.  29.  30.  31.]\n",
      " [  0.  33.  34.  35.  36.  37.  38.  39.  40.  41.  42.]\n",
      " [  0.  44.  45.  46.  47.  48.  49.  50.  51.  52.  53.]\n",
      " [  0.  55.  56.  57.  58.  59.  60.  61.  62.  63.  64.]\n",
      " [  0.  66.  67.  68.  69.  70.  71.  72.  73.  74.  75.]\n",
      " [  0.  77.  78.  79.  80.  81.  82.  83.  84.  85.  86.]\n",
      " [  0.  88.  89.  90.  91.  92.  93.  94.  95.  96.  97.]\n",
      " [  0.  99. 100. 101. 102. 103. 104. 105. 106. 107. 108.]\n",
      " [  0. 110. 111. 112. 113. 114. 115. 116. 117. 118. 119.]\n",
      " [  0. 121. 122. 123. 124. 125. 126. 127. 128. 129. 130.]]\n",
      "cols.shape= (13, 11, 9)\n",
      "ap.shape= (15, 13)\n",
      "a.shape= (13, 11)\n",
      "b.shape= (13, 11)\n"
     ]
    }
   ],
   "source": [
    "import numpy as np\n",
    "(h,w,kf,p)=(13,11,3,int(kf/2))\n",
    "a=np.arange(1*h*w*1).reshape(h,w)\n",
    "print('before padding :a.shape=',a.shape)\n",
    "# a=np.pad(a,1)\n",
    "ap=np.pad(a,p)\n",
    "print('after padding : ap.shape=',ap.shape)\n",
    "(hp,wp)=ap.shape\n",
    "(cols_r,cols_c)=(hp-kf+1,wp-kf+1)\n",
    "cols=np.zeros((cols_r,cols_c,kf*kf))\n",
    "for r in range(cols_r) :\n",
    "    for c in range(cols_c) :\n",
    "        cols[r,c,:]=ap[r:r+kf,c:c+kf].reshape(1,-1)\n",
    "\n",
    "# b=np.zeros(ap.shape)        \n",
    "b=np.zeros(a.shape)    \n",
    "for r in range(cols.shape[0]):\n",
    "    for c in range(cols.shape[1]):\n",
    "            b[r,c]=cols[r,c,0]\n",
    "\n",
    "            \n",
    "# a=a[p:-p,p:-p]   \n",
    "# b=b[p:-p,p:-p]   \n",
    "# cols=cols[int(p/2+0.5):-int(p/2+0.5),int(p/2+0.5):-int(p/2+0.5)]   \n",
    "# print('cols.shape=',cols.shape)\n",
    "print('a=\\n',a)\n",
    "print('b=\\n',b)        \n",
    "# print('cols=\\n',cols)       \n",
    "print('cols.shape=',cols.shape)\n",
    "print('ap.shape=',ap.shape)\n",
    "print('a.shape=',a.shape)\n",
    "print('b.shape=',b.shape)\n"
   ]
  }
 ],
 "metadata": {
  "kernelspec": {
   "display_name": "Python 3",
   "language": "python",
   "name": "python3"
  },
  "language_info": {
   "codemirror_mode": {
    "name": "ipython",
    "version": 3
   },
   "file_extension": ".py",
   "mimetype": "text/x-python",
   "name": "python",
   "nbconvert_exporter": "python",
   "pygments_lexer": "ipython3",
   "version": "3.8.8"
  }
 },
 "nbformat": 4,
 "nbformat_minor": 5
}
