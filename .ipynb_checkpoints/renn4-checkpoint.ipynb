{
 "cells": [
  {
   "cell_type": "code",
   "execution_count": null,
   "id": "589cfa08",
   "metadata": {},
   "outputs": [
    {
     "name": "stdout",
     "output_type": "stream",
     "text": [
      "init_params: ch= [1, 2, 4, 6, 8, 10]\n",
      "init_params: ch= [1, 2, 4, 6, 8, 10]\n",
      "init_params: ch= [1, 8, 9, 10, 10]\n",
      "heyperparams_test: ...\n",
      "heyperparams_test: layers = 4\n",
      "heyperparams_test: learning rate lr0 = 0.002\n",
      "heyperparams_test: learning rate klr = 0.9995\n",
      "heyperparams_test: batch = 64\n",
      "heyperparams_test: isupdate = 0\n",
      "params k0.shape= (8, 1, 3, 3)\n",
      "params gama0.shape= (8, 1, 1)\n",
      "params beta0.shape= (8, 1, 1)\n",
      "params k1.shape= (9, 8, 3, 3)\n",
      "params gama1.shape= (9, 1, 1)\n",
      "params beta1.shape= (9, 1, 1)\n",
      "params k2.shape= (10, 9, 3, 3)\n",
      "params gama2.shape= (10, 1, 1)\n",
      "params beta2.shape= (10, 1, 1)\n",
      "params w3.shape= (10, 10, 14, 14)\n",
      "active function g[0] is: relu\n",
      "active function g[1] is: relu\n",
      "active function g[2] is: relu\n",
      "active function g[3] is: softmax\n",
      "active function g[4] is: cross_entropy\n",
      "============================================================\n",
      "hyperparams_test runing iteration = 1/18\n",
      "hyperparams_test runing: lri = 2.000e-03\n",
      "Hyperparams_test: L2_normalize_k0 = 1.18e-01\n",
      "Hyperparams_test: L2_normalize_gama0 = 3.54e-01\n",
      "Hyperparams_test: L2_normalize_beta0 = 0.00e+00\n",
      "Hyperparams_test: L2_normalize_k1 = 3.98e-02\n",
      "Hyperparams_test: L2_normalize_gama1 = 3.33e-01\n",
      "Hyperparams_test: L2_normalize_beta1 = 0.00e+00\n",
      "Hyperparams_test: L2_normalize_k2 = 3.50e-02\n",
      "Hyperparams_test: L2_normalize_gama2 = 3.16e-01\n",
      "Hyperparams_test: L2_normalize_beta2 = 0.00e+00\n",
      "Hyperparams_test: L2_normalize_w3 = 7.15e-03\n",
      "Train input X.shape=(781, 64, 1, 28, 28), LAB.shape=(781, 64, 1, 1)\n",
      "Training bath running ...\n",
      "Training iteration number = 0/781\n"
     ]
    }
   ],
   "source": [
    "import renn\n",
    "import numpy as np\n",
    "import pickle\n",
    "import imp\n",
    "# imp.reload(renn)\n",
    "(params,params_init,g,g_d)=renn.init_params(lays=4,imchin=8,dimch=1)\n",
    "params=renn.hyperparams_test(params,params_init,g,g_d,nloop=18,batch=64,isl2grad=1)\n",
    "with open('renn_p4.pkl', 'wb') as f: pickle.dump(params,f)\n",
    "with open('renn_p4.pkl', 'rb') as f: params2=pickle.load(f)\n",
    "for k,v in params2.items(): print('%s.shape='%k,v.shape)\n",
    "renn.show(params,g)\n"
   ]
  }
 ],
 "metadata": {
  "kernelspec": {
   "display_name": "Python 3",
   "language": "python",
   "name": "python3"
  },
  "language_info": {
   "codemirror_mode": {
    "name": "ipython",
    "version": 3
   },
   "file_extension": ".py",
   "mimetype": "text/x-python",
   "name": "python",
   "nbconvert_exporter": "python",
   "pygments_lexer": "ipython3",
   "version": "3.8.8"
  }
 },
 "nbformat": 4,
 "nbformat_minor": 5
}
