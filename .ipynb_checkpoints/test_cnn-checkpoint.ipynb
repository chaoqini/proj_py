{
 "cells": [
  {
   "cell_type": "code",
   "execution_count": 106,
   "id": "029265ea",
   "metadata": {
    "scrolled": true
   },
   "outputs": [
    {
     "name": "stdout",
     "output_type": "stream",
     "text": [
      "params: ch= [1, 2, 3, 4, 10]\n",
      "params: lays= 4\n",
      "params: k0.shape= (2, 1, 3, 3)\n",
      "params: gama0.shape= (2, 1, 1)\n",
      "params: beta0.shape= (2, 1, 1)\n",
      "params: k1.shape= (3, 2, 3, 3)\n",
      "params: gama1.shape= (3, 1, 1)\n",
      "params: beta1.shape= (3, 1, 1)\n",
      "params: k2.shape= (4, 3, 3, 3)\n",
      "params: gama2.shape= (4, 1, 1)\n",
      "params: beta2.shape= (4, 1, 1)\n",
      "params: w3.shape= (10, 4, 5, 6)\n",
      "x.shape= (2, 1, 5, 6)\n",
      "bp: gama2.shape= (4, 1, 1)\n",
      "bp: d_Y2.shape= (2, 4, 5, 6)\n",
      "bp: d_X2.shape= (2, 4, 5, 6)\n",
      "bp: k2.shape= (4, 3, 3, 3)\n",
      "bp: k2_fl.shape= (4, 3, 3, 3)\n",
      "bp: gama1.shape= (3, 1, 1)\n",
      "bp: d_Y1.shape= (2, 3, 5, 6)\n",
      "bp: d_X1.shape= (2, 3, 5, 6)\n",
      "bp: k1.shape= (3, 2, 3, 3)\n",
      "bp: k1_fl.shape= (3, 2, 3, 3)\n",
      "bp: gama0.shape= (2, 1, 1)\n",
      "bp: d_Y0.shape= (2, 2, 5, 6)\n",
      "bp: d_X0.shape= (2, 2, 5, 6)\n",
      "bp: k0.shape= (2, 1, 3, 3)\n",
      "bp: k0_fl.shape= (2, 1, 3, 3)\n",
      "x=\n",
      " [[[ 0.01624345 -0.00611756 -0.00528172 -0.01072969  0.00865408\n",
      "   -0.02301539]\n",
      "  [ 0.01744812 -0.00761207  0.00319039 -0.0024937   0.01462108\n",
      "   -0.02060141]\n",
      "  [-0.00322417 -0.00384054  0.01133769 -0.01099891 -0.00172428\n",
      "   -0.00877858]\n",
      "  [ 0.00042214  0.00582815 -0.01100619  0.01144724  0.00901591\n",
      "    0.00502494]\n",
      "  [ 0.00900856 -0.00683728 -0.0012289  -0.00935769 -0.00267888\n",
      "    0.00530355]]\n",
      "\n",
      " [[-0.00691661 -0.00396754 -0.00687173 -0.00845206 -0.00671246\n",
      "   -0.00012665]\n",
      "  [-0.0111731   0.00234416  0.01659802  0.00742044 -0.00191836\n",
      "   -0.00887629]\n",
      "  [-0.00747158  0.01692455  0.00050808 -0.00636996  0.00190915\n",
      "    0.02100255]\n",
      "  [ 0.00120159  0.00617203  0.0030017  -0.0035225  -0.01142518\n",
      "   -0.00349343]\n",
      "  [-0.00208894  0.00586623  0.00838983  0.00931102  0.00285587\n",
      "    0.00885141]]]\n",
      "x.shape= (2, 1, 5, 6)\n"
     ]
    },
    {
     "data": {
      "text/plain": [
       "<module 'cnn' from '/home/qc/proj_py/cnn.py'>"
      ]
     },
     "execution_count": 106,
     "metadata": {},
     "output_type": "execute_result"
    }
   ],
   "source": [
    "import cnn\n",
    "import numpy as np\n",
    "import imp\n",
    "imp.reload(cnn)\n",
    "# (params,params_init,g,g_d)=cnn.init_params(lays=2)\n",
    "# params=cnn.hyperparams_test(params,params_init,g,g_d,nloop=4,lr0=2e-3,klr=0.9995,batch=64,isupdate=1,isl2grad=1)\n",
    "# cnn.show(params,g)"
   ]
  }
 ],
 "metadata": {
  "kernelspec": {
   "display_name": "Python 3",
   "language": "python",
   "name": "python3"
  },
  "language_info": {
   "codemirror_mode": {
    "name": "ipython",
    "version": 3
   },
   "file_extension": ".py",
   "mimetype": "text/x-python",
   "name": "python",
   "nbconvert_exporter": "python",
   "pygments_lexer": "ipython3",
   "version": "3.8.8"
  }
 },
 "nbformat": 4,
 "nbformat_minor": 5
}
