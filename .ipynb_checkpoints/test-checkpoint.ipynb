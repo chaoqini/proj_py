{
 "cells": [
  {
   "cell_type": "code",
   "execution_count": 118,
   "id": "c4b40ddb",
   "metadata": {},
   "outputs": [
    {
     "name": "stdout",
     "output_type": "stream",
     "text": [
      "valid percent is : 10.21%\n",
      "average loss is : 0.899999999999831\n",
      "derivative:\n",
      "[[-1.38777878e-16]\n",
      " [-1.38777878e-16]\n",
      " [-1.38777878e-16]\n",
      " [-1.38777878e-16]\n",
      " [-1.38777878e-16]\n",
      " [-1.38777878e-16]\n",
      " [-1.38777878e-16]\n",
      " [-1.38777878e-16]\n",
      " [-1.11022302e-16]\n",
      " [-1.11022302e-16]]\n",
      "slope:\n",
      "[[ 0.11111111]\n",
      " [ 0.11111111]\n",
      " [ 0.11111111]\n",
      " [ 0.11111111]\n",
      " [-1.        ]\n",
      " [ 0.11111111]\n",
      " [ 0.11111111]\n",
      " [ 0.11111111]\n",
      " [ 0.11111111]\n",
      " [ 0.11111111]]\n"
     ]
    },
    {
     "data": {
      "text/plain": [
       "<module 'ann2' from '/home/qc/proj_py/ann2.py'>"
      ]
     },
     "execution_count": 118,
     "metadata": {},
     "output_type": "execute_result"
    }
   ],
   "source": [
    "import ann2\n",
    "import imp\n",
    "imp.reload(ann2)"
   ]
  },
  {
   "cell_type": "code",
   "execution_count": 129,
   "id": "b09ca7ec",
   "metadata": {},
   "outputs": [
    {
     "ename": "NameError",
     "evalue": "name 'params' is not defined",
     "output_type": "error",
     "traceback": [
      "\u001b[0;31m---------------------------------------------------------------------------\u001b[0m",
      "\u001b[0;31mNameError\u001b[0m                                 Traceback (most recent call last)",
      "Input \u001b[0;32mIn [129]\u001b[0m, in \u001b[0;36m<module>\u001b[0;34m\u001b[0m\n\u001b[1;32m      4\u001b[0m x\u001b[38;5;241m=\u001b[39mmnist\u001b[38;5;241m.\u001b[39mtrain_img[num]\n\u001b[1;32m      5\u001b[0m lab\u001b[38;5;241m=\u001b[39mmnist\u001b[38;5;241m.\u001b[39mtrain_lab[num]\n\u001b[0;32m----> 6\u001b[0m ann2\u001b[38;5;241m.\u001b[39mann\u001b[38;5;241m.\u001b[39mcmp(x,\u001b[43mparams\u001b[49m,lab,\u001b[38;5;124m'\u001b[39m\u001b[38;5;124mb0\u001b[39m\u001b[38;5;124m'\u001b[39m)\n",
      "\u001b[0;31mNameError\u001b[0m: name 'params' is not defined"
     ]
    }
   ],
   "source": [
    "import ann2\n",
    "import mnist\n",
    "num=np.random.randint(mnist.test_num)\n",
    "x=mnist.train_img[num]\n",
    "lab=mnist.train_lab[num]\n",
    "ann2.ann.cmp(x,params,lab,'b0')\n"
   ]
  }
 ],
 "metadata": {
  "kernelspec": {
   "display_name": "Python 3 (ipykernel)",
   "language": "python",
   "name": "python3"
  },
  "language_info": {
   "codemirror_mode": {
    "name": "ipython",
    "version": 3
   },
   "file_extension": ".py",
   "mimetype": "text/x-python",
   "name": "python",
   "nbconvert_exporter": "python",
   "pygments_lexer": "ipython3",
   "version": "3.10.2"
  }
 },
 "nbformat": 4,
 "nbformat_minor": 5
}
