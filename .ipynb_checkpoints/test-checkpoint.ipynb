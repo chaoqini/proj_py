{
 "cells": [
  {
   "cell_type": "code",
   "execution_count": 1,
   "id": "c4b40ddb",
   "metadata": {},
   "outputs": [],
   "source": [
    "import numpy as np\n",
    "import mnist\n",
    "import copy\n",
    "from matplotlib import pyplot as plt \n",
    "import pickle\n",
    "import sys\n",
    "import time\n"
   ]
  },
  {
   "cell_type": "code",
   "execution_count": 3,
   "id": "6522be9f",
   "metadata": {},
   "outputs": [
    {
     "data": {
      "text/plain": [
       "array([[ 0,  1,  4],\n",
       "       [ 9, 16, 25]])"
      ]
     },
     "execution_count": 3,
     "metadata": {},
     "output_type": "execute_result"
    }
   ],
   "source": [
    "import numpy as np\n",
    "a1=np.arange(2*3).reshape(2,3)\n",
    "b1=a1**2\n",
    "b1"
   ]
  },
  {
   "cell_type": "code",
   "execution_count": 54,
   "id": "14aff644",
   "metadata": {},
   "outputs": [
    {
     "name": "stdout",
     "output_type": "stream",
     "text": [
      "66\n",
      "33\n",
      "11\n"
     ]
    }
   ],
   "source": [
    "d1={}\n",
    "# d1['a-1']=66\n",
    "d1['a0']=33\n",
    "d1['a1']=11\n",
    "d1['a2']=22\n",
    "d1['b0']=55\n",
    "d1['b1']=66\n",
    "d1['b2']=77\n",
    "for i in range(3):\n",
    "#     print(d1['a'+'i'])\n",
    "    print(d1['a'+str(i-1)])\n",
    "#     (('b'+'i' ))= 55\n",
    "    \n",
    "# print(b0,b1,b2)\n",
    "\n"
   ]
  },
  {
   "cell_type": "code",
   "execution_count": 16,
   "id": "2dc4b684",
   "metadata": {},
   "outputs": [
    {
     "data": {
      "image/png": "[encoded data removed]",
      "text/plain": [
       "<Figure size 432x288 with 1 Axes>"
      ]
     },
     "metadata": {
      "needs_background": "light"
     },
     "output_type": "display_data"
    }
   ],
   "source": [
    "lra1=[]\n",
    "lra2=[]\n",
    "for i in range(2000):\n",
    "    lr1=0.4*0.998**i\n",
    "    lr2=1/(1+i/100)\n",
    "    #        lr=lr0*0.1\n",
    "    lra1.append(lr1)\n",
    "    lra2.append(lr2)\n",
    "lra1=np.array(lra1)\n",
    "lra2=np.array(lra2)\n",
    "#    cost=np.array(cost)[50:-1]\n",
    "plt.plot(lra1)\n",
    "plt.ylabel('lra1')\n",
    "plt.plot(lra2)\n",
    "plt.ylabel('lra2')\n",
    "plt.xlabel('Iterations')\n",
    "plt.show()\n",
    "\n",
    "\n",
    "\n",
    "\n",
    "\n"
   ]
  },
  {
   "cell_type": "code",
   "execution_count": 38,
   "id": "c41c67fe",
   "metadata": {},
   "outputs": [
    {
     "name": "stdout",
     "output_type": "stream",
     "text": [
      "[[0 1 2 3 4 5 6 7 8 9]]\n",
      "[[1.        ]\n",
      " [0.50118723]\n",
      " [0.25118864]\n",
      " [0.12589254]\n",
      " [0.06309573]\n",
      " [0.03162278]\n",
      " [0.01584893]\n",
      " [0.00794328]\n",
      " [0.00398107]\n",
      " [0.00199526]]\n"
     ]
    },
    {
     "data": {
      "image/png": "[encoded data removed]",
      "text/plain": [
       "<Figure size 432x288 with 1 Axes>"
      ]
     },
     "metadata": {
      "needs_background": "light"
     },
     "output_type": "display_data"
    }
   ],
   "source": [
    "from matplotlib import pyplot as plt \n",
    "a=np.arange(10).reshape(-1,1)\n",
    "print(a.T)\n",
    "# b=10**(-a/10*3)\n",
    "b=10**(-a/10*3)\n",
    "print(b)\n",
    "plt.plot(b)\n",
    "plt.show()\n"
   ]
  }
 ],
 "metadata": {
  "kernelspec": {
   "display_name": "Python 3 (ipykernel)",
   "language": "python",
   "name": "python3"
  },
  "language_info": {
   "codemirror_mode": {
    "name": "ipython",
    "version": 3
   },
   "file_extension": ".py",
   "mimetype": "text/x-python",
   "name": "python",
   "nbconvert_exporter": "python",
   "pygments_lexer": "ipython3",
   "version": "3.10.2"
  }
 },
 "nbformat": 4,
 "nbformat_minor": 5
}
