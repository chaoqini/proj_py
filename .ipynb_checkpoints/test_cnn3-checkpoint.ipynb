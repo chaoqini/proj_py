{
 "cells": [
  {
   "cell_type": "code",
   "execution_count": 36,
   "id": "029265ea",
   "metadata": {},
   "outputs": [
    {
     "name": "stdout",
     "output_type": "stream",
     "text": [
      "params: ch= [1, 2, 3, 4, 10]\n",
      "params: lays= 4\n",
      "params: k0.shape= (2, 1, 3, 3)\n",
      "params: gama0.shape= (2, 1, 1)\n",
      "params: beta0.shape= (2, 1, 1)\n",
      "params: k1.shape= (3, 2, 3, 3)\n",
      "params: gama1.shape= (3, 1, 1)\n",
      "params: beta1.shape= (3, 1, 1)\n",
      "params: k2.shape= (4, 3, 3, 3)\n",
      "params: gama2.shape= (4, 1, 1)\n",
      "params: beta2.shape= (4, 1, 1)\n",
      "params: w3.shape= (10, 4, 5, 6)\n",
      "x.shape= (1, 1, 5, 6)\n",
      "d_.keys()= dict_keys(['Y2', 'X2', 'Z2', 'A1', 'Y1', 'X1', 'Z1', 'A0', 'Y0', 'X0', 'Z0', 'A-1'])\n",
      "d_[A1].shape= (1, 3, 5, 6)\n",
      "d_[A1]=\n",
      " [[[ 0.07185396  1.57218379 -0.67700592  2.35259899 -0.0137186\n",
      "    1.22588259]\n",
      "  [-1.60513775  1.69688662  2.14852719 -1.58671983  0.09078957\n",
      "    0.37979083]\n",
      "  [-1.5594391   1.63499014 -2.40553689 -2.68201212 -0.41202606\n",
      "   -0.96312938]\n",
      "  [ 1.97482691 -0.77439809  1.7538267   0.12812205  2.11627974\n",
      "   -2.27173472]\n",
      "  [ 0.99528958 -0.92572345  0.83576432  1.03330019 -0.4210716\n",
      "   -3.07390609]]\n",
      "\n",
      " [[ 0.16020318  1.87612329  0.13251729 -0.60601887 -0.51253884\n",
      "   -1.02785629]\n",
      "  [ 1.05757879  0.86816656  6.26833004  0.50420701 -2.07078283\n",
      "   -1.78961943]\n",
      "  [ 1.20388133 -5.81217484 -2.06468441 -0.92441614  0.47222572\n",
      "    1.1487211 ]\n",
      "  [-0.14353344  2.29510657 -1.22139136  3.01014126  4.32840148\n",
      "    0.80931224]\n",
      "  [-1.44063131 -1.35154535 -0.96295534 -1.66565262  1.16064504\n",
      "    2.85799079]]\n",
      "\n",
      " [[ 0.65153189  1.3380115  -0.26448617  1.69250668 -0.79141282\n",
      "   -0.41195956]\n",
      "  [ 2.16244413  2.59901584  1.82812793 -0.10677302 -2.13202449\n",
      "    0.19364618]\n",
      "  [-2.6618123   1.80293837 -4.14852753 -0.77142689  1.36689923\n",
      "    0.67700944]\n",
      "  [ 3.51761152 -4.46169147  1.00069623 -0.85942649  0.85799292\n",
      "    2.91503451]\n",
      "  [ 1.43041677 -2.22530254 -2.71873948  1.27171347  0.30478567\n",
      "    1.51415904]]]\n",
      "lkk= 0.0\n"
     ]
    },
    {
     "data": {
      "text/plain": [
       "<module 'cnn' from '/home/qc/proj_py/cnn.py'>"
      ]
     },
     "execution_count": 36,
     "metadata": {},
     "output_type": "execute_result"
    }
   ],
   "source": [
    "import cnn\n",
    "import numpy as np\n",
    "import imp\n",
    "imp.reload(cnn)\n",
    "# (params,params_init,g,g_d)=cnn.init_params(lays=2)\n",
    "# params=cnn.hyperparams_test(params,params_init,g,g_d,nloop=4,lr0=2e-3,klr=0.9995,batch=64,isupdate=1,isl2grad=1)\n",
    "# cnn.show(params,g)"
   ]
  },
  {
   "cell_type": "code",
   "execution_count": 8,
   "id": "8cde0968",
   "metadata": {
    "collapsed": true
   },
   "outputs": [
    {
     "name": "stdout",
     "output_type": "stream",
     "text": [
      "params: ch= [1, 2, 3, 4, 10]\n",
      "params: k0.shape= (2, 1, 3, 3)\n",
      "params: gama0.shape= (2, 1, 1)\n",
      "params: beta0.shape= (2, 1, 1)\n",
      "params: k1.shape= (3, 2, 3, 3)\n",
      "params: gama1.shape= (3, 1, 1)\n",
      "params: beta1.shape= (3, 1, 1)\n",
      "params: k2.shape= (4, 3, 3, 3)\n",
      "params: gama2.shape= (4, 1, 1)\n",
      "params: beta2.shape= (4, 1, 1)\n",
      "params: w3.shape= (10, 4, 5, 6)\n",
      "params: gama3.shape= (10, 1, 1)\n",
      "params: beta3.shape= (10, 1, 1)\n",
      "x.shape= (2, 1, 5, 6)\n",
      "cross_entropy\n",
      "fp: Y.shape= (2, 10, 1, 1)\n",
      "Y.shape= (2, 10, 1, 1)\n",
      "Y=\n",
      " [[1. 1. 1. 1. 1. 1. 1. 1. 1. 1.]\n",
      " [1. 1. 1. 1. 1. 1. 1. 1. 1. 1.]]\n",
      "YL=\n",
      " [[0. 0. 0. 0. 0. 1. 0. 0. 0. 0.]\n",
      " [1. 0. 0. 0. 0. 0. 0. 0. 0. 0.]]\n"
     ]
    },
    {
     "data": {
      "text/plain": [
       "<module 'cnn' from '/home/qc/proj_py/cnn.py'>"
      ]
     },
     "execution_count": 8,
     "metadata": {},
     "output_type": "execute_result"
    }
   ],
   "source": [
    "bp: ki=\n",
    " [[[[ 1.13940068 -1.23482582  0.40234164]\n",
    "   [-0.68481009 -0.87079715 -0.57884966]\n",
    "   [-0.31155253  0.05616534 -1.16514984]]\n",
    "\n",
    "  [[ 0.90082649  0.46566244 -1.53624369]\n",
    "   [ 1.48825219  1.89588918  1.17877957]\n",
    "   [-0.17992484 -1.07075262  1.05445173]]\n",
    "\n",
    "  [[-0.40317695  1.22244507  0.20827498]\n",
    "   [ 0.97663904  0.3563664   0.70657317]\n",
    "   [ 0.01050002  1.78587049  0.12691209]]]"
   ]
  },
  {
   "cell_type": "code",
   "execution_count": null,
   "id": "147d418d",
   "metadata": {},
   "outputs": [],
   "source": [
    "lkk= 0.07185395887177037\n",
    "lkk= 1.572183794085191"
   ]
  },
  {
   "cell_type": "code",
   "execution_count": 24,
   "id": "b98afbf6",
   "metadata": {},
   "outputs": [
    {
     "data": {
      "text/plain": [
       "-0.023350642308628263"
      ]
     },
     "execution_count": 24,
     "metadata": {},
     "output_type": "execute_result"
    }
   ],
   "source": [
    "-0.011675321154314132*2"
   ]
  }
 ],
 "metadata": {
  "kernelspec": {
   "display_name": "Python 3",
   "language": "python",
   "name": "python3"
  },
  "language_info": {
   "codemirror_mode": {
    "name": "ipython",
    "version": 3
   },
   "file_extension": ".py",
   "mimetype": "text/x-python",
   "name": "python",
   "nbconvert_exporter": "python",
   "pygments_lexer": "ipython3",
   "version": "3.8.8"
  }
 },
 "nbformat": 4,
 "nbformat_minor": 5
}
