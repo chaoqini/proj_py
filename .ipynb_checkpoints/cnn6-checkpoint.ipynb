{
 "cells": [
  {
   "cell_type": "code",
   "execution_count": null,
   "id": "01e59d02",
   "metadata": {},
   "outputs": [],
   "source": [
    "import cnn\n",
    "import numpy as np\n",
    "import pickle\n",
    "import imp\n",
    "imp.reload(cnn)\n",
    "(params,params_init,g,g_d)=cnn.init_params(lays=4,imch=4)\n",
    "params=cnn.hyperparams_test(params,params_init,g,g_d,nloop=18,lr0=2e-3,klr=0.9995,batch=64,isupdate=1,isl2grad=1)\n",
    "with open('cnn_p6.pkl', 'wb') as f: pickle.dump(params,f)\n",
    "with open('cnn_p6.pkl', 'rb') as f: params2=pickle.load(f)\n",
    "for k,v in params2.items(): print('%s.shape='%k,v.shape)\n",
    "cnn.show(params,g)\n"
   ]
  }
 ],
 "metadata": {
  "kernelspec": {
   "display_name": "Python 3",
   "language": "python",
   "name": "python3"
  },
  "language_info": {
   "codemirror_mode": {
    "name": "ipython",
    "version": 3
   },
   "file_extension": ".py",
   "mimetype": "text/x-python",
   "name": "python",
   "nbconvert_exporter": "python",
   "pygments_lexer": "ipython3",
   "version": "3.8.8"
  }
 },
 "nbformat": 4,
 "nbformat_minor": 5
}
