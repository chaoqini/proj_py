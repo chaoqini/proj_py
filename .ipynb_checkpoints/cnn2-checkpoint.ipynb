{
 "cells": [
  {
   "cell_type": "code",
   "execution_count": null,
   "id": "3ab438bd",
   "metadata": {},
   "outputs": [
    {
     "name": "stdout",
     "output_type": "stream",
     "text": [
      "heyperparams_test: ...\n",
      "heyperparams_test: layers = 2\n",
      "heyperparams_test: learning rate lr0 = 0.002\n",
      "heyperparams_test: learning rate klr = 0.9995\n",
      "heyperparams_test: batch = 64\n",
      "heyperparams_test: isupdate = 1\n",
      "params k0.shape= (2, 1, 3, 3)\n",
      "params gama0.shape= (2, 1, 1)\n",
      "params beta0.shape= (2, 1, 1)\n",
      "params k1.shape= (3, 2, 3, 3)\n",
      "params gama1.shape= (3, 1, 1)\n",
      "params beta1.shape= (3, 1, 1)\n",
      "params w2.shape= (10, 3, 28, 28)\n",
      "active function g[0] is: relu\n",
      "active function g[1] is: relu\n",
      "active function g[2] is: softmax\n",
      "active function g[3] is: cross_entropy\n",
      "============================================================\n",
      "hyperparams_test runing iteration = 1/18\n",
      "hyperparams_test runing: lri = 2.000e-03\n",
      "Hyperparams_test: L2_normalize_k0 = 2.49e-01\n",
      "Hyperparams_test: L2_normalize_gama0 = 7.07e-01\n",
      "Hyperparams_test: L2_normalize_beta0 = 0.00e+00\n",
      "Hyperparams_test: L2_normalize_k1 = 1.39e-01\n",
      "Hyperparams_test: L2_normalize_gama1 = 5.77e-01\n",
      "Hyperparams_test: L2_normalize_beta1 = 0.00e+00\n",
      "Hyperparams_test: L2_normalize_w2 = 6.46e-03\n",
      "Train input X.shape=(781, 64, 1, 28, 28), LAB.shape=(781, 64, 1, 1)\n",
      "Training bath running ...\n",
      "Training iteration number = 0/781\n"
     ]
    }
   ],
   "source": [
    "import cnn\n",
    "import numpy as np\n",
    "import imp\n",
    "imp.reload(cnn)\n",
    "(params,params_init,g,g_d)=cnn.init_params(lays=3)\n",
    "params=cnn.hyperparams_test(params,params_init,g,g_d,nloop=18,lr0=2e-3,klr=0.9995,batch=64,isupdate=1,isl2grad=1)\n",
    "# cnn.show(params,g)\n",
    "with open('cnn_p1.pkl', 'wb') as f: pickle.dump(params,f)\n",
    "with open('cnn_p1.pkl', 'rb') as f: params2=pickle.load(f)\n",
    "for k,v in params2.key():  print('%s.shape='%k,v.shape)"
   ]
  },
  {
   "cell_type": "code",
   "execution_count": null,
   "id": "1f610a8e",
   "metadata": {},
   "outputs": [
    {
     "name": "stdout",
     "output_type": "stream",
     "text": [
      "heyperparams_test: ...\n",
      "heyperparams_test: layers = 2\n",
      "heyperparams_test: learning rate lr0 = 0.002\n",
      "heyperparams_test: learning rate klr = 0.9995\n",
      "heyperparams_test: batch = 64\n",
      "heyperparams_test: isupdate = 1\n",
      "params k0.shape= (2, 1, 3, 3)\n",
      "params gama0.shape= (2, 1, 1)\n",
      "params beta0.shape= (2, 1, 1)\n",
      "params k1.shape= (3, 2, 3, 3)\n",
      "params gama1.shape= (3, 1, 1)\n",
      "params beta1.shape= (3, 1, 1)\n",
      "params w2.shape= (10, 3, 28, 28)\n",
      "active function g[0] is: relu\n",
      "active function g[1] is: relu\n",
      "active function g[2] is: softmax\n",
      "active function g[3] is: cross_entropy\n",
      "============================================================\n",
      "hyperparams_test runing iteration = 1/18\n",
      "hyperparams_test runing: lri = 2.000e-03\n",
      "Hyperparams_test: L2_normalize_k0 = 2.49e-01\n",
      "Hyperparams_test: L2_normalize_gama0 = 7.07e-01\n",
      "Hyperparams_test: L2_normalize_beta0 = 0.00e+00\n",
      "Hyperparams_test: L2_normalize_k1 = 1.39e-01\n",
      "Hyperparams_test: L2_normalize_gama1 = 5.77e-01\n",
      "Hyperparams_test: L2_normalize_beta1 = 0.00e+00\n",
      "Hyperparams_test: L2_normalize_w2 = 6.46e-03\n",
      "Train input X.shape=(781, 64, 1, 28, 28), LAB.shape=(781, 64, 1, 1)\n",
      "Training bath running ...\n",
      "Training iteration number = 0/781\n"
     ]
    }
   ],
   "source": [
    "import cnn\n",
    "import numpy as np\n",
    "import imp\n",
    "imp.reload(cnn)\n",
    "(params,params_init,g,g_d)=cnn.init_params(lays=3)\n",
    "params=cnn.hyperparams_test(params,params_init,g,g_d,nloop=18,lr0=2e-3,klr=0.9995,batch=64,isupdate=1,isl2grad=1)\n",
    "cnn.show(params,g)\n",
    "with open('cnn_p1.pkl', 'wb') as f: pickle.dump(params,f)\n",
    "with open('cnn_p1.pkl', 'rb') as f: params2=pickle.load(f)\n",
    "for k,v in params2.key():  print('%s.shape='%k,v.shape)"
   ]
  }
 ],
 "metadata": {
  "kernelspec": {
   "display_name": "Python 3",
   "language": "python",
   "name": "python3"
  },
  "language_info": {
   "codemirror_mode": {
    "name": "ipython",
    "version": 3
   },
   "file_extension": ".py",
   "mimetype": "text/x-python",
   "name": "python",
   "nbconvert_exporter": "python",
   "pygments_lexer": "ipython3",
   "version": "3.8.8"
  }
 },
 "nbformat": 4,
 "nbformat_minor": 5
}
