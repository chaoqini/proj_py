{
 "cells": [
  {
   "cell_type": "code",
   "execution_count": 44,
   "id": "3ab438bd",
   "metadata": {},
   "outputs": [
    {
     "name": "stdout",
     "output_type": "stream",
     "text": [
      "grad[d_gama3]=\n",
      " 0.03423845663407783\n",
      "slope[d_gama3]=\n",
      " [[0.03423846]]\n",
      "grad[d_beta3]=\n",
      " 3.469446951953614e-18\n",
      "slope[d_beta3]=\n",
      " [[0.]]\n",
      "grad[d_k2]=\n",
      " [[ 0.06129589 -0.07156778 -0.06099453]\n",
      " [ 0.13706319 -0.0488897  -0.07323006]\n",
      " [-0.12204251  0.05397396  0.38892632]]\n",
      "slope[d_k2]=\n",
      " [[ 0.06129589 -0.07156778 -0.06099453]\n",
      " [ 0.13706319 -0.0488897  -0.07323006]\n",
      " [-0.12204251  0.05397396  0.38892632]]\n",
      "grad[d_gama2]=\n",
      " -0.00032783123137069176\n",
      "slope[d_gama2]=\n",
      " [[-0.00032783]]\n",
      "grad[d_beta2]=\n",
      " 1.1159634911432554\n",
      "slope[d_beta2]=\n",
      " [[1.11596349]]\n",
      "grad[d_k1]=\n",
      " [[ 0.37832263  0.37135345  0.01250482]\n",
      " [-0.01702234 -0.02567321 -0.37334012]\n",
      " [-0.43757477  0.07908059  0.08466649]]\n",
      "slope[d_k1]=\n",
      " [[ 0.37832263  0.37135345  0.01250482]\n",
      " [-0.01702234 -0.02567321 -0.37334012]\n",
      " [-0.43757477  0.07908059  0.08466649]]\n",
      "grad[d_gama1]=\n",
      " -6.824540932370837e-13\n",
      "slope[d_gama1]=\n",
      " [[0.]]\n",
      "grad[d_beta1]=\n",
      " -0.18094241238417264\n",
      "slope[d_beta1]=\n",
      " [[-0.18094241]]\n",
      "grad[d_k0]=\n",
      " [[ 0.42053794  0.22811704 -0.21188318]\n",
      " [-0.2498632  -0.21609993 -0.49973849]\n",
      " [-0.16076423 -0.05064851  0.053951  ]]\n",
      "slope[d_k0]=\n",
      " [[ 0.42053794  0.22811704 -0.21188318]\n",
      " [-0.2498632  -0.21609993 -0.49973849]\n",
      " [-0.16076423 -0.05064851  0.053951  ]]\n",
      "grad[d_gama0]=\n",
      " 3.515706244646329e-16\n",
      "slope[d_gama0]=\n",
      " [[-3.33066907e-11]]\n",
      "grad[d_beta0]=\n",
      " 0.26022443785791677\n",
      "slope[d_beta0]=\n",
      " [[0.26022444]]\n",
      "grad_check: abs_error=\n",
      " {'d_w3': 0.0016524774715931802, 'd_gama3': 2.4483054472668186e-12, 'd_beta3': 3.469446951953614e-18, 'd_k2': 5.680738987322967e-11, 'd_gama2': 2.540514077321171e-12, 'd_beta2': 1.9358803449165407e-10, 'd_k1': 4.7019305244287776e-11, 'd_gama1': 6.824540932370837e-13, 'd_beta1': 3.5776132056852816e-11, 'd_k0': 5.661859071760471e-11, 'd_gama0': 3.330704230937916e-11, 'd_beta0': 1.5456691482285123e-11}\n",
      "grad_check: ratio_error=\n",
      " {'d_w3': 1.3802651431002464e-06, 'd_gama3': 3.575373553407286e-11, 'd_beta3': 1.0, 'd_k2': 6.224782541656964e-11, 'd_gama2': 3.8747285860210094e-09, 'd_beta2': 8.673582784958434e-11, 'd_k1': 2.97040537161994e-11, 'd_gama1': 1.0, 'd_beta1': 9.886054790006041e-11, 'd_k0': 3.474188351061766e-11, 'd_gama0': 1.0, 'd_beta0': 2.9698770050151016e-11}\n"
     ]
    },
    {
     "data": {
      "text/plain": [
       "<module 'cnn' from '/home/qc/proj_py/cnn.py'>"
      ]
     },
     "execution_count": 44,
     "metadata": {},
     "output_type": "execute_result"
    }
   ],
   "source": [
    "import cnn\n",
    "import numpy as np\n",
    "import imp\n",
    "imp.reload(cnn)\n",
    "(params,params_init,g,g_d)=cnn.init_params(lays=3)\n",
    "params=cnn.hyperparams_test(params,params_init,g,g_d,nloop=2,lr0=2e-3,klr=0.9995,batch=64,isupdate=1,isl2grad=1)\n",
    "cnn.show(params,g)"
   ]
  },
  {
   "cell_type": "code",
   "execution_count": null,
   "id": "5e71dbd6",
   "metadata": {
    "collapsed": true
   },
   "outputs": [
    {
     "name": "stdout",
     "output_type": "stream",
     "text": [
      "heyperparams_test: ...\n",
      "heyperparams_test: layers = 4\n",
      "heyperparams_test: learning rate lr0 = 0.002\n",
      "heyperparams_test: learning rate klr = 0.9995\n",
      "heyperparams_test: batch = 64\n",
      "heyperparams_test: isupdate = 1\n",
      "params k0.shape= (3, 3)\n",
      "params gama0.shape= (1, 1)\n",
      "params beta0.shape= (1, 1)\n",
      "params k1.shape= (3, 3)\n",
      "params gama1.shape= (1, 1)\n",
      "params beta1.shape= (1, 1)\n",
      "params k2.shape= (3, 3)\n",
      "params gama2.shape= (1, 1)\n",
      "params beta2.shape= (1, 1)\n",
      "params w3.shape= (28, 28, 10)\n",
      "params gama3.shape= (1, 1)\n",
      "params beta3.shape= (1, 1)\n",
      "active function g[0] is: relu\n",
      "active function g[1] is: relu\n",
      "active function g[2] is: relu\n",
      "active function g[3] is: softmax\n",
      "active function g[4] is: cross_entropy\n",
      "============================================================\n",
      "hyperparams_test runing iteration = 1/1\n",
      "hyperparams_test runing: lri = 2.000e-03\n",
      "Hyperparams_test: L2_normalize_k0 = 4.25e-01\n",
      "Hyperparams_test: L2_normalize_gama0 = 1.00e+00\n",
      "Hyperparams_test: L2_normalize_beta0 = 0.00e+00\n",
      "Hyperparams_test: L2_normalize_k1 = 2.60e-01\n",
      "Hyperparams_test: L2_normalize_gama1 = 1.00e+00\n",
      "Hyperparams_test: L2_normalize_beta1 = 0.00e+00\n",
      "Hyperparams_test: L2_normalize_k2 = 4.49e-01\n",
      "Hyperparams_test: L2_normalize_gama2 = 1.00e+00\n",
      "Hyperparams_test: L2_normalize_beta2 = 0.00e+00\n",
      "Hyperparams_test: L2_normalize_w3 = 1.12e-05\n",
      "Hyperparams_test: L2_normalize_gama3 = 1.00e+00\n",
      "Hyperparams_test: L2_normalize_beta3 = 0.00e+00\n",
      "Train input X.shape=(781, 64, 28, 28), LAB.shape=(781, 64, 1, 1)\n",
      "Training bath running ...\n",
      "Training iteration number = 0/781\n"
     ]
    },
    {
     "name": "stderr",
     "output_type": "stream",
     "text": [
      "/home/qc/proj_py/cnn.py:158: RuntimeWarning: overflow encountered in matmul\n",
      "  ba=Y.shape[0]\n",
      "/home/qc/proj_py/cnn.py:158: RuntimeWarning: invalid value encountered in matmul\n",
      "  ba=Y.shape[0]\n",
      "/home/qc/.local/lib/python3.8/site-packages/numpy/core/_methods.py:179: RuntimeWarning: overflow encountered in reduce\n",
      "  ret = umr_sum(arr, axis, dtype, out, keepdims, where=where)\n",
      "/home/qc/.local/lib/python3.8/site-packages/numpy/core/_methods.py:179: RuntimeWarning: invalid value encountered in reduce\n",
      "  ret = umr_sum(arr, axis, dtype, out, keepdims, where=where)\n",
      "/home/qc/.local/lib/python3.8/site-packages/numpy/core/_methods.py:212: RuntimeWarning: overflow encountered in reduce\n",
      "  arrmean = umr_sum(arr, axis, dtype, keepdims=True, where=where)\n",
      "/home/qc/.local/lib/python3.8/site-packages/numpy/core/_methods.py:212: RuntimeWarning: invalid value encountered in reduce\n",
      "  arrmean = umr_sum(arr, axis, dtype, keepdims=True, where=where)\n",
      "/home/qc/.local/lib/python3.8/site-packages/numpy/core/_methods.py:232: RuntimeWarning: invalid value encountered in subtract\n",
      "  x = asanyarray(arr - arrmean)\n",
      "/home/qc/.local/lib/python3.8/site-packages/numpy/core/_methods.py:235: RuntimeWarning: overflow encountered in multiply\n",
      "  x = um.multiply(x, x, out=x)\n",
      "/home/qc/proj_py/cnn.py:164: RuntimeWarning: invalid value encountered in subtract\n",
      "  else: ki=params['k'+str(i)]\n",
      "/home/qc/proj_py/cnn.py:164: RuntimeWarning: invalid value encountered in true_divide\n",
      "  else: ki=params['k'+str(i)]\n",
      "/home/qc/proj_py/cnn.py:99: RuntimeWarning: overflow encountered in matmul\n",
      "  return maxcols\n",
      "/home/qc/proj_py/cnn.py:99: RuntimeWarning: invalid value encountered in matmul\n",
      "  return maxcols\n",
      "/home/qc/proj_py/cnn.py:238: RuntimeWarning: invalid value encountered in multiply\n",
      "  abs_error[k]=l2_v1d2\n",
      "/home/qc/proj_py/cnn.py:242: RuntimeWarning: invalid value encountered in multiply\n",
      "  print('grad[%s]=\\n'%k,y1[k])\n",
      "/home/qc/.local/lib/python3.8/site-packages/numpy/core/_methods.py:48: RuntimeWarning: overflow encountered in reduce\n",
      "  return umr_sum(a, axis, dtype, out, keepdims, initial, where)\n",
      "/home/qc/.local/lib/python3.8/site-packages/numpy/core/_methods.py:48: RuntimeWarning: invalid value encountered in reduce\n",
      "  return umr_sum(a, axis, dtype, out, keepdims, initial, where)\n"
     ]
    },
    {
     "name": "stdout",
     "output_type": "stream",
     "text": [
      "Training iteration number = 78/781\n",
      "Training iteration number = 156/781\n",
      "Training iteration number = 234/781\n",
      "Training iteration number = 312/781\n",
      "Training iteration number = 390/781\n",
      "Training iteration number = 468/781\n",
      "Training iteration number = 546/781\n",
      "Training iteration number = 624/781\n",
      "Training iteration number = 702/781\n"
     ]
    }
   ],
   "source": [
    "import cnn\n",
    "import numpy as np\n",
    "import imp\n",
    "imp.reload(cnn)\n",
    "(params,params_init,g,g_d)=cnn.init_params(lays=4)\n",
    "params=cnn.hyperparams_test(params,params_init,g,g_d,nloop=1,lr0=2e-3,klr=0.9995,batch=64,isupdate=1,isl2grad=1)\n",
    "cnn.show(params,g)"
   ]
  }
 ],
 "metadata": {
  "kernelspec": {
   "display_name": "Python 3",
   "language": "python",
   "name": "python3"
  },
  "language_info": {
   "codemirror_mode": {
    "name": "ipython",
    "version": 3
   },
   "file_extension": ".py",
   "mimetype": "text/x-python",
   "name": "python",
   "nbconvert_exporter": "python",
   "pygments_lexer": "ipython3",
   "version": "3.8.8"
  }
 },
 "nbformat": 4,
 "nbformat_minor": 5
}
