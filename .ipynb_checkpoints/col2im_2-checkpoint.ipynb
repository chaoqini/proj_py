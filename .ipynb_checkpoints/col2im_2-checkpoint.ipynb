{
 "cells": [
  {
   "cell_type": "code",
   "execution_count": 114,
   "id": "174150cf",
   "metadata": {},
   "outputs": [
    {
     "name": "stdout",
     "output_type": "stream",
     "text": [
      "before padding :a.shape= (5, 5, 1)\n",
      "after padding : ap.shape= (5, 5, 1)\n",
      "ap=\n",
      " [[[ 0  1  2  3  4]\n",
      "  [ 5  6  7  8  9]\n",
      "  [10 11 12 13 14]\n",
      "  [15 16 17 18 19]\n",
      "  [20 21 22 23 24]]]\n",
      "a=\n",
      " [[[ 0  1  2  3  4]\n",
      "  [ 5  6  7  8  9]\n",
      "  [10 11 12 13 14]\n",
      "  [15 16 17 18 19]\n",
      "  [20 21 22 23 24]]]\n",
      "b=\n",
      " [[[ 0.  1.  2.  0.  0.]\n",
      "  [ 5.  6.  7.  0.  0.]\n",
      "  [10. 11. 12.  0.  0.]\n",
      "  [ 0.  0.  0.  0.  0.]\n",
      "  [ 0.  0.  0.  0.  0.]]]\n",
      "cols=\n",
      " [[[ 0.  1.  2.  5.  6.  7. 10. 11. 12.]\n",
      "  [ 1.  2.  3.  6.  7.  8. 11. 12. 13.]\n",
      "  [ 2.  3.  4.  7.  8.  9. 12. 13. 14.]]\n",
      "\n",
      " [[ 5.  6.  7. 10. 11. 12. 15. 16. 17.]\n",
      "  [ 6.  7.  8. 11. 12. 13. 16. 17. 18.]\n",
      "  [ 7.  8.  9. 12. 13. 14. 17. 18. 19.]]\n",
      "\n",
      " [[10. 11. 12. 15. 16. 17. 20. 21. 22.]\n",
      "  [11. 12. 13. 16. 17. 18. 21. 22. 23.]\n",
      "  [12. 13. 14. 17. 18. 19. 22. 23. 24.]]]\n",
      "cols.shape= (3, 3, 9)\n",
      "ap.shape= (5, 5, 1)\n",
      "a.shape= (5, 5, 1)\n",
      "b.shape= (5, 5, 1)\n"
     ]
    }
   ],
   "source": [
    "import numpy as np\n",
    "(h,w,kf,p)=(5,5,3,int(kf/2))\n",
    "a=np.arange(1*h*w*1).reshape(h,w,1)\n",
    "print('before padding :a.shape=',a.shape)\n",
    "# a=np.pad(a,1)\n",
    "# ap=np.pad(a,((p,p),(p,p),(0,0)))\n",
    "ap=a\n",
    "print('after padding : ap.shape=',ap.shape)\n",
    "# print('ap=\\n',ap)\n",
    "print('ap=\\n',ap.transpose(2,0,1))\n",
    "(hp,wp,Non)=ap.shape\n",
    "(cols_r,cols_c)=(hp-kf+1,wp-kf+1)\n",
    "cols=np.zeros((cols_r,cols_c,kf*kf))\n",
    "for r in range(cols_r) :\n",
    "    for c in range(cols_c) :\n",
    "        cols[r,c,:]=ap[r:r+kf,c:c+kf, 0].reshape(-1)\n",
    "\n",
    "# b=np.zeros(ap.shape)        \n",
    "b=np.zeros(a.shape)    \n",
    "for r in range(cols.shape[0]):\n",
    "    for c in range(cols.shape[1]):\n",
    "            b[r,c]=cols[r,c,0]\n",
    "\n",
    "            \n",
    "# a=a[p:-p,p:-p]   \n",
    "# b=b[p:-p,p:-p]   \n",
    "# cols=cols[int(p/2+0.5):-int(p/2+0.5),int(p/2+0.5):-int(p/2+0.5)]   \n",
    "# print('cols.shape=',cols.shape)\n",
    "print('a=\\n',a.transpose(2,0,1))\n",
    "print('b=\\n',b.transpose(2,0,1))     \n",
    "print('cols=\\n',cols)       \n",
    "print('cols.shape=',cols.shape)\n",
    "print('ap.shape=',ap.shape)\n",
    "print('a.shape=',a.shape)\n",
    "print('b.shape=',b.shape)\n",
    "\n"
   ]
  }
 ],
 "metadata": {
  "kernelspec": {
   "display_name": "Python 3",
   "language": "python",
   "name": "python3"
  },
  "language_info": {
   "codemirror_mode": {
    "name": "ipython",
    "version": 3
   },
   "file_extension": ".py",
   "mimetype": "text/x-python",
   "name": "python",
   "nbconvert_exporter": "python",
   "pygments_lexer": "ipython3",
   "version": "3.8.8"
  }
 },
 "nbformat": 4,
 "nbformat_minor": 5
}
