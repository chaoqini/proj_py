{
 "cells": [
  {
   "cell_type": "code",
   "execution_count": null,
   "id": "90deb950",
   "metadata": {},
   "outputs": [],
   "source": [
    "import renn\n",
    "import numpy as np\n",
    "import pickle\n",
    "import imp\n",
    "# imp.reload(renn)\n",
    "(params,params_init,g,g_d)=renn.init_params(lays=32,imchin=8,dimch=0)\n",
    "params=renn.hyperparams_test(params,params_init,g,g_d,nloop=18,batch=64,isl2grad=1)\n",
    "with open('renn_p3.pkl', 'wb') as f: pickle.dump(params,f)\n",
    "with open('renn_p3.pkl', 'rb') as f: params2=pickle.load(f)\n",
    "for k,v in params2.items(): print('%s.shape='%k,v.shape)\n",
    "renn.show(params,g)\n"
   ]
  }
 ],
 "metadata": {
  "kernelspec": {
   "display_name": "Python 3",
   "language": "python",
   "name": "python3"
  },
  "language_info": {
   "codemirror_mode": {
    "name": "ipython",
    "version": 3
   },
   "file_extension": ".py",
   "mimetype": "text/x-python",
   "name": "python",
   "nbconvert_exporter": "python",
   "pygments_lexer": "ipython3",
   "version": "3.8.8"
  }
 },
 "nbformat": 4,
 "nbformat_minor": 5
}
