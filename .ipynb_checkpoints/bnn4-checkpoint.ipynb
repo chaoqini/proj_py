{
 "cells": [
  {
   "cell_type": "code",
   "execution_count": null,
   "id": "097ca666",
   "metadata": {},
   "outputs": [],
   "source": [
    "import bnn\n",
    "import numpy as np\n",
    "import imp\n",
    "imp.reload(bnn)\n",
    "(params,params_init,g,g_d)=bnn.bnn.init_params(lays=6,nnode=200)\n",
    "bnn.hyperparams_test(params,params_init,g,g_d,nloop=9,lr0=2e-3,klr=0.9995,batch=40,isupdate=1)"
   ]
  }
 ],
 "metadata": {
  "kernelspec": {
   "display_name": "Python 3",
   "language": "python",
   "name": "python3"
  },
  "language_info": {
   "codemirror_mode": {
    "name": "ipython",
    "version": 3
   },
   "file_extension": ".py",
   "mimetype": "text/x-python",
   "name": "python",
   "nbconvert_exporter": "python",
   "pygments_lexer": "ipython3",
   "version": "3.8.8"
  }
 },
 "nbformat": 4,
 "nbformat_minor": 5
}
