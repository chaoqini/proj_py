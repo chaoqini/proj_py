{
 "cells": [
  {
   "cell_type": "code",
   "execution_count": 1,
   "id": "9aff94c9",
   "metadata": {},
   "outputs": [],
   "source": [
    "import numpy as np"
   ]
  },
  {
   "cell_type": "code",
   "execution_count": 148,
   "id": "9cae98e8",
   "metadata": {},
   "outputs": [
    {
     "name": "stdout",
     "output_type": "stream",
     "text": [
      "[[0 1 2]\n",
      " [3 4 5]]\n",
      "[[1. 1. 1. 1.]\n",
      " [1. 1. 1. 1.]\n",
      " [1. 1. 1. 1.]]\n",
      "a1 shape: (2, 3)\n",
      "b1 shape: (3, 4)\n"
     ]
    }
   ],
   "source": [
    "a1=np.arange(2*3*1).reshape(2,3)\n",
    "b1=np.ones((3,4))\n",
    "print(a1)\n",
    "print(b1)\n",
    "print('a1 shape:',a1.shape)\n",
    "print('b1 shape:',b1.shape)"
   ]
  },
  {
   "cell_type": "code",
   "execution_count": 162,
   "id": "9888d760",
   "metadata": {},
   "outputs": [
    {
     "name": "stdout",
     "output_type": "stream",
     "text": [
      "[[[0. 0. 0. 0.]\n",
      "  [1. 1. 1. 1.]\n",
      "  [2. 2. 2. 2.]]\n",
      "\n",
      " [[3. 3. 3. 3.]\n",
      "  [4. 4. 4. 4.]\n",
      "  [5. 5. 5. 5.]]]\n"
     ]
    },
    {
     "data": {
      "text/plain": [
       "(2, 3, 4)"
      ]
     },
     "execution_count": 162,
     "metadata": {},
     "output_type": "execute_result"
    }
   ],
   "source": [
    "aa1=np.einsum('ij,jl->ijl',a1,b1)\n",
    "print(aa1)\n",
    "aa1.shape"
   ]
  },
  {
   "cell_type": "code",
   "execution_count": 163,
   "id": "6c2ddd50",
   "metadata": {},
   "outputs": [
    {
     "name": "stdout",
     "output_type": "stream",
     "text": [
      "[[3. 3. 3. 3.]\n",
      " [5. 5. 5. 5.]\n",
      " [7. 7. 7. 7.]]\n"
     ]
    },
    {
     "data": {
      "text/plain": [
       "(3, 4)"
      ]
     },
     "execution_count": 163,
     "metadata": {},
     "output_type": "execute_result"
    }
   ],
   "source": [
    "aa3=np.einsum('ij,jl->jl',a1,b1)\n",
    "print(aa3)\n",
    "aa3.shape"
   ]
  },
  {
   "cell_type": "code",
   "execution_count": 158,
   "id": "f46bebc6",
   "metadata": {},
   "outputs": [
    {
     "name": "stdout",
     "output_type": "stream",
     "text": [
      "[[ 9.  9.  9.  9.]\n",
      " [36. 36. 36. 36.]]\n"
     ]
    },
    {
     "data": {
      "text/plain": [
       "(2, 4)"
      ]
     },
     "execution_count": 158,
     "metadata": {},
     "output_type": "execute_result"
    }
   ],
   "source": [
    "aa2=np.einsum('ij,kl->il',a1,b1)\n",
    "print(aa2)\n",
    "aa2.shape"
   ]
  },
  {
   "cell_type": "code",
   "execution_count": 140,
   "id": "5e6c5c49",
   "metadata": {},
   "outputs": [
    {
     "name": "stdout",
     "output_type": "stream",
     "text": [
      "[[[[0. 0. 0. 0.]\n",
      "   [0. 0. 0. 0.]\n",
      "   [0. 0. 0. 0.]\n",
      "   [0. 0. 0. 0.]\n",
      "   [0. 0. 0. 0.]]\n",
      "\n",
      "  [[1. 1. 1. 1.]\n",
      "   [1. 1. 1. 1.]\n",
      "   [1. 1. 1. 1.]\n",
      "   [1. 1. 1. 1.]\n",
      "   [1. 1. 1. 1.]]\n",
      "\n",
      "  [[2. 2. 2. 2.]\n",
      "   [2. 2. 2. 2.]\n",
      "   [2. 2. 2. 2.]\n",
      "   [2. 2. 2. 2.]\n",
      "   [2. 2. 2. 2.]]]\n",
      "\n",
      "\n",
      " [[[3. 3. 3. 3.]\n",
      "   [3. 3. 3. 3.]\n",
      "   [3. 3. 3. 3.]\n",
      "   [3. 3. 3. 3.]\n",
      "   [3. 3. 3. 3.]]\n",
      "\n",
      "  [[4. 4. 4. 4.]\n",
      "   [4. 4. 4. 4.]\n",
      "   [4. 4. 4. 4.]\n",
      "   [4. 4. 4. 4.]\n",
      "   [4. 4. 4. 4.]]\n",
      "\n",
      "  [[5. 5. 5. 5.]\n",
      "   [5. 5. 5. 5.]\n",
      "   [5. 5. 5. 5.]\n",
      "   [5. 5. 5. 5.]\n",
      "   [5. 5. 5. 5.]]]]\n"
     ]
    },
    {
     "data": {
      "text/plain": [
       "(2, 3, 5, 4)"
      ]
     },
     "execution_count": 140,
     "metadata": {},
     "output_type": "execute_result"
    }
   ],
   "source": [
    "c1=np.einsum('ij,kl->ijkl',a1,b1)\n",
    "print(c1)\n",
    "c1.shape"
   ]
  },
  {
   "cell_type": "code",
   "execution_count": 141,
   "id": "f30a6aa6",
   "metadata": {},
   "outputs": [
    {
     "name": "stdout",
     "output_type": "stream",
     "text": [
      "[[[[0. 1. 2.]\n",
      "   [3. 4. 5.]]\n",
      "\n",
      "  [[0. 1. 2.]\n",
      "   [3. 4. 5.]]\n",
      "\n",
      "  [[0. 1. 2.]\n",
      "   [3. 4. 5.]]\n",
      "\n",
      "  [[0. 1. 2.]\n",
      "   [3. 4. 5.]]]\n",
      "\n",
      "\n",
      " [[[0. 1. 2.]\n",
      "   [3. 4. 5.]]\n",
      "\n",
      "  [[0. 1. 2.]\n",
      "   [3. 4. 5.]]\n",
      "\n",
      "  [[0. 1. 2.]\n",
      "   [3. 4. 5.]]\n",
      "\n",
      "  [[0. 1. 2.]\n",
      "   [3. 4. 5.]]]\n",
      "\n",
      "\n",
      " [[[0. 1. 2.]\n",
      "   [3. 4. 5.]]\n",
      "\n",
      "  [[0. 1. 2.]\n",
      "   [3. 4. 5.]]\n",
      "\n",
      "  [[0. 1. 2.]\n",
      "   [3. 4. 5.]]\n",
      "\n",
      "  [[0. 1. 2.]\n",
      "   [3. 4. 5.]]]\n",
      "\n",
      "\n",
      " [[[0. 1. 2.]\n",
      "   [3. 4. 5.]]\n",
      "\n",
      "  [[0. 1. 2.]\n",
      "   [3. 4. 5.]]\n",
      "\n",
      "  [[0. 1. 2.]\n",
      "   [3. 4. 5.]]\n",
      "\n",
      "  [[0. 1. 2.]\n",
      "   [3. 4. 5.]]]\n",
      "\n",
      "\n",
      " [[[0. 1. 2.]\n",
      "   [3. 4. 5.]]\n",
      "\n",
      "  [[0. 1. 2.]\n",
      "   [3. 4. 5.]]\n",
      "\n",
      "  [[0. 1. 2.]\n",
      "   [3. 4. 5.]]\n",
      "\n",
      "  [[0. 1. 2.]\n",
      "   [3. 4. 5.]]]]\n"
     ]
    },
    {
     "data": {
      "text/plain": [
       "(5, 4, 2, 3)"
      ]
     },
     "execution_count": 141,
     "metadata": {},
     "output_type": "execute_result"
    }
   ],
   "source": [
    "d1=np.einsum('ij,kl->ijkl',b1,a1)\n",
    "print(d1)\n",
    "d1.shape"
   ]
  },
  {
   "cell_type": "code",
   "execution_count": 136,
   "id": "3593502f",
   "metadata": {
    "collapsed": true
   },
   "outputs": [
    {
     "name": "stdout",
     "output_type": "stream",
     "text": [
      "[[[ 0.  3.  6.]\n",
      "  [ 9. 12. 15.]]\n",
      "\n",
      " [[ 0.  3.  6.]\n",
      "  [ 9. 12. 15.]]\n",
      "\n",
      " [[ 0.  3.  6.]\n",
      "  [ 9. 12. 15.]]\n",
      "\n",
      " [[ 0.  3.  6.]\n",
      "  [ 9. 12. 15.]]\n",
      "\n",
      " [[ 0.  3.  6.]\n",
      "  [ 9. 12. 15.]]]\n"
     ]
    },
    {
     "data": {
      "text/plain": [
       "(5, 2, 3)"
      ]
     },
     "execution_count": 136,
     "metadata": {},
     "output_type": "execute_result"
    }
   ],
   "source": [
    "e1=np.einsum('ij,kl->jkl',b1,a1)\n",
    "print(e1)\n",
    "e1.shape"
   ]
  }
 ],
 "metadata": {
  "kernelspec": {
   "display_name": "Python 3 (ipykernel)",
   "language": "python",
   "name": "python3"
  },
  "language_info": {
   "codemirror_mode": {
    "name": "ipython",
    "version": 3
   },
   "file_extension": ".py",
   "mimetype": "text/x-python",
   "name": "python",
   "nbconvert_exporter": "python",
   "pygments_lexer": "ipython3",
   "version": "3.10.2"
  }
 },
 "nbformat": 4,
 "nbformat_minor": 5
}
