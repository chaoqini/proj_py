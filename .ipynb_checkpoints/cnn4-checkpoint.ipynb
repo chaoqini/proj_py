{
 "cells": [
  {
   "cell_type": "code",
   "execution_count": null,
   "id": "38b5541f",
   "metadata": {},
   "outputs": [
    {
     "name": "stdout",
     "output_type": "stream",
     "text": [
      "heyperparams_test: ...\n",
      "heyperparams_test: layers = 6\n",
      "heyperparams_test: learning rate lr0 = 0.002\n",
      "heyperparams_test: learning rate klr = 0.9995\n",
      "heyperparams_test: batch = 64\n",
      "heyperparams_test: isupdate = 1\n",
      "params k0.shape= (5, 1, 3, 3)\n",
      "params gama0.shape= (5, 1, 1)\n",
      "params beta0.shape= (5, 1, 1)\n",
      "params k1.shape= (9, 5, 3, 3)\n",
      "params gama1.shape= (9, 1, 1)\n",
      "params beta1.shape= (9, 1, 1)\n",
      "params k2.shape= (13, 9, 3, 3)\n",
      "params gama2.shape= (13, 1, 1)\n",
      "params beta2.shape= (13, 1, 1)\n",
      "params k3.shape= (17, 13, 3, 3)\n",
      "params gama3.shape= (17, 1, 1)\n",
      "params beta3.shape= (17, 1, 1)\n",
      "params k4.shape= (21, 17, 3, 3)\n",
      "params gama4.shape= (21, 1, 1)\n",
      "params beta4.shape= (21, 1, 1)\n",
      "params w5.shape= (10, 21, 7, 7)\n",
      "active function g[0] is: relu\n",
      "active function g[1] is: relu\n",
      "active function g[2] is: relu\n",
      "active function g[3] is: relu\n",
      "active function g[4] is: relu\n",
      "active function g[5] is: softmax\n",
      "active function g[6] is: cross_entropy\n",
      "============================================================\n",
      "hyperparams_test runing iteration = 1/18\n",
      "hyperparams_test runing: lri = 2.000e-03\n",
      "Hyperparams_test: L2_normalize_k0 = 1.42e-01\n",
      "Hyperparams_test: L2_normalize_gama0 = 4.47e-01\n",
      "Hyperparams_test: L2_normalize_beta0 = 0.00e+00\n",
      "Hyperparams_test: L2_normalize_k1 = 5.05e-02\n",
      "Hyperparams_test: L2_normalize_gama1 = 3.33e-01\n",
      "Hyperparams_test: L2_normalize_beta1 = 0.00e+00\n",
      "Hyperparams_test: L2_normalize_k2 = 3.11e-02\n",
      "Hyperparams_test: L2_normalize_gama2 = 2.77e-01\n",
      "Hyperparams_test: L2_normalize_beta2 = 0.00e+00\n",
      "Hyperparams_test: L2_normalize_k3 = 2.22e-02\n",
      "Hyperparams_test: L2_normalize_gama3 = 2.43e-01\n",
      "Hyperparams_test: L2_normalize_beta3 = 0.00e+00\n",
      "Hyperparams_test: L2_normalize_k4 = 1.74e-02\n",
      "Hyperparams_test: L2_normalize_gama4 = 2.18e-01\n",
      "Hyperparams_test: L2_normalize_beta4 = 0.00e+00\n",
      "Hyperparams_test: L2_normalize_w5 = 9.78e-03\n",
      "Train input X.shape=(781, 64, 1, 28, 28), LAB.shape=(781, 64, 1, 1)\n",
      "Training bath running ...\n",
      "Training iteration number = 0/781\n"
     ]
    }
   ],
   "source": [
    "import cnn\n",
    "import numpy as np\n",
    "import pickle\n",
    "import imp\n",
    "imp.reload(cnn)\n",
    "(params,params_init,g,g_d)=cnn.init_params(lays=6,imch=4)\n",
    "params=cnn.hyperparams_test(params,params_init,g,g_d,nloop=18,lr0=2e-3,klr=0.9995,batch=64,isupdate=1,isl2grad=1)\n",
    "with open('cnn_p4.pkl', 'wb') as f: pickle.dump(params,f)\n",
    "with open('cnn_p4.pkl', 'rb') as f: params2=pickle.load(f)\n",
    "for k,v in params2.items(): print('%s.shape='%k,v.shape)\n",
    "cnn.show(params,g)\n"
   ]
  }
 ],
 "metadata": {
  "kernelspec": {
   "display_name": "Python 3",
   "language": "python",
   "name": "python3"
  },
  "language_info": {
   "codemirror_mode": {
    "name": "ipython",
    "version": 3
   },
   "file_extension": ".py",
   "mimetype": "text/x-python",
   "name": "python",
   "nbconvert_exporter": "python",
   "pygments_lexer": "ipython3",
   "version": "3.8.8"
  }
 },
 "nbformat": 4,
 "nbformat_minor": 5
}
