{
 "cells": [
  {
   "cell_type": "code",
   "execution_count": null,
   "id": "87677898",
   "metadata": {},
   "outputs": [],
   "source": [
    "import ann\n",
    "import numpy as np\n",
    "import pickle\n",
    "import imp\n",
    "imp.reload(ann)\n",
    "(params,params_init,g)=ann.init_params(lays=3,imchin=2,dimch=1)\n",
    "(lays,imba,imchin,dimch,imh,imw,convk,km,minhw)=(4,2,2,1,28,28,3,2,28)\n",
    "\n",
    "ch=2\n",
    "nn=2\n",
    "lab=ann.mnist.train_lab[nn:nn+imba]\n",
    "# x=mnist.train_img[0:imba]\n",
    "# x=np.expand_dims(x,1)\n",
    "x=np.random.randn(imba,1,imh,imw)*100\n",
    "i=1\n",
    "# ann.grad_check(x,lab,params,g)\n",
    "ann.grad_check2(x,lab,params,g,pname='Y'+str(i),dv=1e-3)\n",
    "# ann.grad_check2(x,lab,params,g,pname='A'+str(i),dv=1e-3)\n",
    "# ann.grad_check2(x,lab,params,g,pname='M'+str(i),dv=1e-5)\n",
    "# ann.grad_check2(x,lab,params,g,pname='Z'+str(i),dv=1e-5)\n",
    "# ann.grad_check2(x,lab,params,g,pname='ZdM'+str(i),dv=1e-5)\n",
    "# yfp,op=fp(x,params,g,isop=1)\n",
    "# ybp,d_=bp(x,lab,params,g,isop=1)\n",
    "# print('\"d_[ZdM%s]=\\n'%i,d_['ZdM'+str(i)].squeeze())\n",
    "# print('op[ZdM%s]=\\n'%i,op['ZdM'+str(i)].squeeze())\n",
    "# print('op[Z%s]=\\n'%i,op['Z'+str(i)].squeeze())\n"
   ]
  }
 ],
 "metadata": {
  "kernelspec": {
   "display_name": "Python 3",
   "language": "python",
   "name": "python3"
  },
  "language_info": {
   "codemirror_mode": {
    "name": "ipython",
    "version": 3
   },
   "file_extension": ".py",
   "mimetype": "text/x-python",
   "name": "python",
   "nbconvert_exporter": "python",
   "pygments_lexer": "ipython3",
   "version": "3.8.8"
  }
 },
 "nbformat": 4,
 "nbformat_minor": 5
}
