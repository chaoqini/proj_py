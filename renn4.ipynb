{
 "cells": [
  {
   "cell_type": "code",
   "execution_count": null,
   "id": "84e65bf8",
   "metadata": {},
   "outputs": [
    {
     "name": "stdout",
     "output_type": "stream",
     "text": [
      "init_params: ch= [1, 2, 4, 6, 8, 10]\n",
      "init_params: ch= [1, 12, 20, 28, 36, 44, 52, 60, 10]\n",
      "heyperparams_test: ...\n",
      "heyperparams_test: layers = 8\n",
      "heyperparams_test: learning rate lr0 = 0.002\n",
      "heyperparams_test: learning rate klr = 0.9995\n",
      "heyperparams_test: batch = 64\n",
      "heyperparams_test: isupdate = 0\n",
      "params k0.shape= (12, 1, 3, 3)\n",
      "params gama0.shape= (12, 1, 1)\n",
      "params beta0.shape= (12, 1, 1)\n",
      "params k1.shape= (20, 12, 3, 3)\n",
      "params gama1.shape= (20, 1, 1)\n",
      "params beta1.shape= (20, 1, 1)\n",
      "params k2.shape= (28, 20, 3, 3)\n",
      "params gama2.shape= (28, 1, 1)\n",
      "params beta2.shape= (28, 1, 1)\n",
      "params k3.shape= (36, 28, 3, 3)\n",
      "params gama3.shape= (36, 1, 1)\n",
      "params beta3.shape= (36, 1, 1)\n",
      "params k4.shape= (44, 36, 3, 3)\n",
      "params gama4.shape= (44, 1, 1)\n",
      "params beta4.shape= (44, 1, 1)\n",
      "params k5.shape= (52, 44, 3, 3)\n",
      "params gama5.shape= (52, 1, 1)\n",
      "params beta5.shape= (52, 1, 1)\n",
      "params k6.shape= (60, 52, 3, 3)\n",
      "params gama6.shape= (60, 1, 1)\n",
      "params beta6.shape= (60, 1, 1)\n",
      "params w7.shape= (10, 60, 14, 14)\n",
      "active function g[0] is: relu\n",
      "active function g[1] is: relu\n",
      "active function g[2] is: relu\n",
      "active function g[3] is: relu\n",
      "active function g[4] is: relu\n",
      "active function g[5] is: relu\n",
      "active function g[6] is: relu\n",
      "active function g[7] is: softmax\n",
      "active function g[8] is: cross_entropy\n",
      "============================================================\n",
      "hyperparams_test runing iteration = 1/18\n",
      "hyperparams_test runing: lri = 2.000e-03\n",
      "Hyperparams_test: L2_normalize_k0 = 1.02e-01\n",
      "Hyperparams_test: L2_normalize_gama0 = 2.89e-01\n",
      "Hyperparams_test: L2_normalize_beta0 = 0.00e+00\n",
      "Hyperparams_test: L2_normalize_k1 = 2.13e-02\n",
      "Hyperparams_test: L2_normalize_gama1 = 2.24e-01\n",
      "Hyperparams_test: L2_normalize_beta1 = 0.00e+00\n",
      "Hyperparams_test: L2_normalize_k2 = 1.41e-02\n",
      "Hyperparams_test: L2_normalize_gama2 = 1.89e-01\n",
      "Hyperparams_test: L2_normalize_beta2 = 0.00e+00\n",
      "Hyperparams_test: L2_normalize_k3 = 1.05e-02\n",
      "Hyperparams_test: L2_normalize_gama3 = 1.67e-01\n",
      "Hyperparams_test: L2_normalize_beta3 = 0.00e+00\n",
      "Hyperparams_test: L2_normalize_k4 = 8.38e-03\n",
      "Hyperparams_test: L2_normalize_gama4 = 1.51e-01\n",
      "Hyperparams_test: L2_normalize_beta4 = 0.00e+00\n",
      "Hyperparams_test: L2_normalize_k5 = 6.94e-03\n",
      "Hyperparams_test: L2_normalize_gama5 = 1.39e-01\n",
      "Hyperparams_test: L2_normalize_beta5 = 0.00e+00\n",
      "Hyperparams_test: L2_normalize_k6 = 5.97e-03\n",
      "Hyperparams_test: L2_normalize_gama6 = 1.29e-01\n",
      "Hyperparams_test: L2_normalize_beta6 = 0.00e+00\n",
      "Hyperparams_test: L2_normalize_w7 = 2.91e-03\n",
      "Train input X.shape=(781, 64, 1, 28, 28), LAB.shape=(781, 64, 1, 1)\n",
      "Training bath running ...\n",
      "Training iteration number = 0/781\n"
     ]
    }
   ],
   "source": [
    "import renn\n",
    "import numpy as np\n",
    "import pickle\n",
    "import imp\n",
    "# imp.reload(renn)\n",
    "(params,params_init,g,g_d)=renn.init_params(lays=8,imchin=12,dimch=8)\n",
    "params=renn.hyperparams_test(params,params_init,g,g_d,nloop=18,batch=64)\n",
    "with open('renn_p4.pkl', 'wb') as f: pickle.dump(params,f)\n",
    "with open('renn_p4.pkl', 'rb') as f: params2=pickle.load(f)\n",
    "for k,v in params2.items(): print('%s.shape='%k,v.shape)\n",
    "renn.show(params,g)\n"
   ]
  }
 ],
 "metadata": {
  "kernelspec": {
   "display_name": "Python 3",
   "language": "python",
   "name": "python3"
  },
  "language_info": {
   "codemirror_mode": {
    "name": "ipython",
    "version": 3
   },
   "file_extension": ".py",
   "mimetype": "text/x-python",
   "name": "python",
   "nbconvert_exporter": "python",
   "pygments_lexer": "ipython3",
   "version": "3.8.8"
  }
 },
 "nbformat": 4,
 "nbformat_minor": 5
}
