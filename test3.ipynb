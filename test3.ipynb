{
 "cells": [
  {
   "cell_type": "code",
   "execution_count": 5,
   "id": "0817877b",
   "metadata": {},
   "outputs": [
    {
     "name": "stdout",
     "output_type": "stream",
     "text": [
      "[[1 2 3 4 5 6 7 8 9]]\n",
      "[[2. 2. 2. 2. 2. 2. 2. 2. 2.]]\n",
      "[[2.         1.         0.66666667 0.5        0.4        0.33333333\n",
      "  0.28571429 0.25       0.22222222]]\n"
     ]
    }
   ],
   "source": [
    "import numpy as np\n",
    "a=np.arange(9).reshape(1,9)+1\n",
    "print(a)\n",
    "b=np.ones((1,9))*2\n",
    "print(b)\n",
    "print(b/a)"
   ]
  },
  {
   "cell_type": "code",
   "execution_count": 6,
   "id": "2d6f7b9b",
   "metadata": {},
   "outputs": [
    {
     "data": {
      "text/plain": [
       "-52.95945713886305"
      ]
     },
     "execution_count": 6,
     "metadata": {},
     "output_type": "execute_result"
    }
   ],
   "source": [
    "np.log(1e-23)"
   ]
  },
  {
   "cell_type": "code",
   "execution_count": 30,
   "id": "77346408",
   "metadata": {},
   "outputs": [
    {
     "data": {
      "text/plain": [
       "array([[ 2,  4,  6,  8, 10, 12, 14, 16, 18]])"
      ]
     },
     "execution_count": 30,
     "metadata": {},
     "output_type": "execute_result"
    }
   ],
   "source": [
    "a=np.arange(9).reshape(1,9)+1\n",
    "a*2"
   ]
  },
  {
   "cell_type": "code",
   "execution_count": 31,
   "id": "4435c1e4",
   "metadata": {},
   "outputs": [
    {
     "data": {
      "text/plain": [
       "array([[3, 3, 3, 4, 5, 6, 7, 8, 9]])"
      ]
     },
     "execution_count": 31,
     "metadata": {},
     "output_type": "execute_result"
    }
   ],
   "source": [
    "a=np.maximum(a,3)\n",
    "a"
   ]
  },
  {
   "cell_type": "code",
   "execution_count": 36,
   "id": "d1cfdb53",
   "metadata": {},
   "outputs": [],
   "source": [
    "aa= np.array([[3, 0, 3, 0, 5, 6, 7, 8, 9]])"
   ]
  },
  {
   "cell_type": "code",
   "execution_count": 38,
   "id": "f519489c",
   "metadata": {},
   "outputs": [
    {
     "data": {
      "text/plain": [
       "array([[   3, 3232,    3, 3232,    5,    6,    7,    8,    9]])"
      ]
     },
     "execution_count": 38,
     "metadata": {},
     "output_type": "execute_result"
    }
   ],
   "source": [
    "aa[aa==0]=3232\n",
    "aa"
   ]
  },
  {
   "cell_type": "code",
   "execution_count": 21,
   "id": "707d9bd0",
   "metadata": {},
   "outputs": [
    {
     "data": {
      "text/plain": [
       "array([[2.12078996e-04, 5.76490482e-04, 1.56706360e-03, 4.25972051e-03,\n",
       "        1.15791209e-02, 3.14753138e-02, 8.55587737e-02, 2.32572860e-01,\n",
       "        6.32198578e-01]])"
      ]
     },
     "execution_count": 21,
     "metadata": {},
     "output_type": "execute_result"
    }
   ],
   "source": [
    "def softmax(x,a=1e-23): \n",
    "    exp=np.exp(x-x.max())\n",
    "    return exp/exp.sum()+a\n",
    "softmax(a)"
   ]
  }
 ],
 "metadata": {
  "kernelspec": {
   "display_name": "Python 3 (ipykernel)",
   "language": "python",
   "name": "python3"
  },
  "language_info": {
   "codemirror_mode": {
    "name": "ipython",
    "version": 3
   },
   "file_extension": ".py",
   "mimetype": "text/x-python",
   "name": "python",
   "nbconvert_exporter": "python",
   "pygments_lexer": "ipython3",
   "version": "3.10.2"
  }
 },
 "nbformat": 4,
 "nbformat_minor": 5
}
