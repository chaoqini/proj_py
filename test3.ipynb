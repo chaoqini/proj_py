{
 "cells": [
  {
   "cell_type": "code",
   "execution_count": 358,
   "id": "db707aab",
   "metadata": {},
   "outputs": [
    {
     "name": "stdout",
     "output_type": "stream",
     "text": [
      "a1.shape= (3, 3, 3)\n",
      "b1.shape= (3, 3, 3)\n",
      "a1=\n",
      "[[[ 0  1  2]\n",
      "  [ 3  4  5]\n",
      "  [ 6  7  8]]\n",
      "\n",
      " [[ 9 10 11]\n",
      "  [12 13 14]\n",
      "  [15 16 17]]\n",
      "\n",
      " [[18 19 20]\n",
      "  [21 22 23]\n",
      "  [24 25 26]]]\n",
      "b1=\n",
      "[[[1. 1. 1.]\n",
      "  [1. 1. 1.]\n",
      "  [1. 1. 1.]]\n",
      "\n",
      " [[1. 1. 1.]\n",
      "  [1. 1. 1.]\n",
      "  [1. 1. 1.]]\n",
      "\n",
      " [[1. 1. 1.]\n",
      "  [1. 1. 1.]\n",
      "  [1. 1. 1.]]]\n"
     ]
    }
   ],
   "source": [
    "import numpy as np\n",
    "mm=3;rr=3;cc=3\n",
    "a1=np.arange(mm*rr*cc).reshape(mm,rr,cc)\n",
    "b1=np.ones((3,3,3))\n",
    "# o1=np.ones((3,1))\n",
    "# b2=np.array([o1,o1*3,o1*21])\n",
    "print('a1.shape=',a1.shape)\n",
    "print('b1.shape=',b1.shape)\n",
    "print('a1=')\n",
    "print(a1)\n",
    "print('b1=')\n",
    "print(b1)"
   ]
  },
  {
   "cell_type": "code",
   "execution_count": null,
   "id": "85051381",
   "metadata": {},
   "outputs": [],
   "source": [
    "import tensorflow as tf\n",
    "tf.__version__"
   ]
  },
  {
   "cell_type": "code",
   "execution_count": 406,
   "id": "597e5ea1",
   "metadata": {},
   "outputs": [
    {
     "name": "stdout",
     "output_type": "stream",
     "text": [
      "<class 'tuple'>\n"
     ]
    }
   ],
   "source": [
    "print( type( tuple([1]) ) )"
   ]
  },
  {
   "cell_type": "code",
   "execution_count": 9,
   "id": "9b58ec90",
   "metadata": {},
   "outputs": [
    {
     "name": "stdout",
     "output_type": "stream",
     "text": [
      "aa= [[[0]\n",
      "  [1]\n",
      "  [2]]\n",
      "\n",
      " [[3]\n",
      "  [4]\n",
      "  [5]]]\n",
      "(2, 1, 1)\n",
      "bb= [[[1.]]\n",
      "\n",
      " [[4.]]]\n",
      "cc= [[[-1.]\n",
      "  [ 0.]\n",
      "  [ 1.]]\n",
      "\n",
      " [[-1.]\n",
      "  [ 0.]\n",
      "  [ 1.]]]\n"
     ]
    }
   ],
   "source": [
    "import numpy as np\n",
    "aa=np.arange(2*3*1).reshape(2,3,1)\n",
    "print('aa=',aa)\n",
    "# bb=np.mean(aa,axis=1)\n",
    "bb=np.mean(aa,axis=1,keepdims=1)\n",
    "print(bb.shape)\n",
    "print('bb=',bb)\n",
    "cc=aa-bb\n",
    "print('cc=',cc)"
   ]
  },
  {
   "cell_type": "code",
   "execution_count": 41,
   "id": "b918369f",
   "metadata": {},
   "outputs": [
    {
     "name": "stdout",
     "output_type": "stream",
     "text": [
      "aa.shape= (2, 3, 3)\n",
      "aa=\n",
      " [[[ 0  1  2]\n",
      "  [ 3  4  5]\n",
      "  [ 6  7  8]]\n",
      "\n",
      " [[ 9 10 11]\n",
      "  [12 13 14]\n",
      "  [15 16 17]]]\n",
      "t1.shape= (3, 3)\n",
      "t1=\n",
      " [[1. 0. 0.]\n",
      " [0. 1. 0.]\n",
      " [0. 0. 1.]]\n",
      "t2.shape= (3, 3)\n",
      "t2=\n",
      " [[1. 1. 1.]\n",
      " [1. 1. 1.]\n",
      " [1. 1. 1.]]\n",
      "bb.shape= (2, 3, 3)\n",
      "bb=\n",
      " [[[-1.  0.  1.]\n",
      "  [ 2.  3.  4.]\n",
      "  [ 5.  6.  7.]]\n",
      "\n",
      " [[ 8.  9. 10.]\n",
      "  [11. 12. 13.]\n",
      "  [14. 15. 16.]]]\n",
      "tt.shape= (2, 3)\n",
      "tt=\n",
      " [[ 3.  4.  5.]\n",
      " [12. 13. 14.]]\n"
     ]
    }
   ],
   "source": [
    "import numpy as np\n",
    "aa=np.arange(2*3*3).reshape(2,3,3)\n",
    "print('aa.shape=',aa.shape)\n",
    "print('aa=\\n',aa)\n",
    "t1=np.eye(3)\n",
    "print('t1.shape=',t1.shape)\n",
    "print('t1=\\n',t1)\n",
    "t2=np.ones((3,3))\n",
    "print('t2.shape=',t2.shape)\n",
    "print('t2=\\n',t2)\n",
    "# bb=aa-t1\n",
    "bb=aa-t2\n",
    "print('bb.shape=',bb.shape)\n",
    "print('bb=\\n',bb)\n",
    "    \n",
    "# bb.shape[0]\n",
    "\n",
    "# tt=aa.mean(axis=0)\n",
    "tt=aa.mean(axis=1)\n",
    "print('tt.shape=',tt.shape)\n",
    "print('tt=\\n',tt)\n"
   ]
  },
  {
   "cell_type": "code",
   "execution_count": 42,
   "id": "0cd0a1b5",
   "metadata": {},
   "outputs": [
    {
     "name": "stdout",
     "output_type": "stream",
     "text": [
      "aa.shape= (2, 4, 1)\n",
      "aa=\n",
      " [[[0]\n",
      "  [1]\n",
      "  [2]\n",
      "  [3]]\n",
      "\n",
      " [[4]\n",
      "  [5]\n",
      "  [6]\n",
      "  [7]]]\n",
      "tt.shape= (4, 1)\n",
      "tt=\n",
      " [[2.]\n",
      " [3.]\n",
      " [4.]\n",
      " [5.]]\n"
     ]
    }
   ],
   "source": [
    "import numpy as np\n",
    "aa=np.arange(2*4*1).reshape(2,4,1)\n",
    "print('aa.shape=',aa.shape)\n",
    "print('aa=\\n',aa)\n",
    "\n",
    "tt=aa.mean(axis=0)\n",
    "# tt=aa.mean(axis=1)\n",
    "print('tt.shape=',tt.shape)\n",
    "print('tt=\\n',tt)\n"
   ]
  }
 ],
 "metadata": {
  "kernelspec": {
   "display_name": "Python 3",
   "language": "python",
   "name": "python3"
  },
  "language_info": {
   "codemirror_mode": {
    "name": "ipython",
    "version": 3
   },
   "file_extension": ".py",
   "mimetype": "text/x-python",
   "name": "python",
   "nbconvert_exporter": "python",
   "pygments_lexer": "ipython3",
   "version": "3.8.8"
  }
 },
 "nbformat": 4,
 "nbformat_minor": 5
}
