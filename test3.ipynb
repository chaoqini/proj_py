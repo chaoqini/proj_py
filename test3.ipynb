{
 "cells": [
  {
   "cell_type": "code",
   "execution_count": 7,
   "id": "0817877b",
   "metadata": {},
   "outputs": [
    {
     "name": "stdout",
     "output_type": "stream",
     "text": [
      "[[1 2 3 4 5 6 7 8 9]]\n",
      "[[2. 2. 2. 2. 2. 2. 2. 2. 2.]]\n",
      "[[2.         1.         0.66666667 0.5        0.4        0.33333333\n",
      "  0.28571429 0.25       0.22222222]]\n"
     ]
    }
   ],
   "source": [
    "\n",
    "import numpy as np\n",
    "a=np.arange(9).reshape(1,9)+1\n",
    "print(a)\n",
    "b=np.ones((1,9))*2\n",
    "print(b)\n",
    "print(b/a)"
   ]
  },
  {
   "cell_type": "code",
   "execution_count": 1,
   "id": "d1b58473",
   "metadata": {},
   "outputs": [
    {
     "name": "stdout",
     "output_type": "stream",
     "text": [
      "(30, 100, 1)\n"
     ]
    }
   ],
   "source": [
    "import numpy as np\n",
    "\n",
    "X=np.arange(30*784*1).reshape(30,784,1)\n",
    "w=np.arange(100*784).reshape(100,784)\n",
    "y=w@X\n",
    "print(y.shape)"
   ]
  }
 ],
 "metadata": {
  "kernelspec": {
   "display_name": "Python 3 (ipykernel)",
   "language": "python",
   "name": "python3"
  },
  "language_info": {
   "codemirror_mode": {
    "name": "ipython",
    "version": 3
   },
   "file_extension": ".py",
   "mimetype": "text/x-python",
   "name": "python",
   "nbconvert_exporter": "python",
   "pygments_lexer": "ipython3",
   "version": "3.10.2"
  }
 },
 "nbformat": 4,
 "nbformat_minor": 5
}
