{
 "cells": [
  {
   "cell_type": "code",
   "execution_count": 140,
   "id": "db707aab",
   "metadata": {},
   "outputs": [
    {
     "name": "stdout",
     "output_type": "stream",
     "text": [
      "time @:\n",
      "50.2 ms ± 726 µs per loop (mean ± std. dev. of 7 runs, 10 loops each)\n",
      "time einsum 1:\n",
      "67.3 ms ± 1.63 ms per loop (mean ± std. dev. of 7 runs, 10 loops each)\n",
      "time einsum 2:\n",
      "67.3 ms ± 1.84 ms per loop (mean ± std. dev. of 7 runs, 10 loops each)\n",
      "time einsum 3:\n",
      "70.4 µs ± 23.9 µs per loop (mean ± std. dev. of 7 runs, 10 loops each)\n"
     ]
    }
   ],
   "source": [
    "import numpy as np\n",
    "from timeit import timeit \n",
    "# (ba,h,w)=(2,4,5)\n",
    "(ba,h,w)=(16,28,28)\n",
    "a1=np.arange(ba*h*w).reshape(ba,h,w)\n",
    "a2=np.arange(ba*h*w).reshape(ba,-1,1)\n",
    "a3=np.einsum('mij,mkl->mijkl',a1,a1)\n",
    "print('time @:')\n",
    "%timeit -n10 a2@a2.transpose(0,2,1)\n",
    "print('time einsum 1:')\n",
    "%timeit -n10  np.einsum('mij,mkl->mijkl',a1,a1)\n",
    "print('time einsum 2:')\n",
    "%timeit -n10  np.einsum('mij,mkj->mik',a2,a2)\n",
    "print('time einsum 3:')\n",
    "%timeit -n10  np.einsum('mijij->mij',a3)[:]=h*w\n",
    "# %timeit np.argmax(a3,1)\n",
    "# %timeit np.argmin(a3,1)\n",
    "# %timeit np.sum(a3,1)/a3.shape[1]\n",
    "# %timeit np.sum(a3,1)/10\n"
   ]
  },
  {
   "cell_type": "code",
   "execution_count": 131,
   "id": "08699964",
   "metadata": {},
   "outputs": [
    {
     "name": "stdout",
     "output_type": "stream",
     "text": [
      "t1.shape= (2,)\n",
      "t2.shape= (4, 5)\n",
      "t3.shape= (4,)\n"
     ]
    },
    {
     "data": {
      "text/plain": [
       "array([1])"
      ]
     },
     "execution_count": 131,
     "metadata": {},
     "output_type": "execute_result"
    }
   ],
   "source": [
    "import numpy as np\n",
    "t1=np.mean(a3,(1,2))\n",
    "t2=np.mean(a3,0)\n",
    "nn=np.arange(1,a3.ndim-1)\n",
    "# t3=np.sum(a3,nn)\n",
    "# t3=np.mean(a3,(0,2))\n",
    "# t3=np.mean(a3,-2)\n",
    "print('t1.shape=',t1.shape)\n",
    "print('t2.shape=',t2.shape)\n",
    "print('t3.shape=',t3.shape)\n",
    "nn"
   ]
  },
  {
   "cell_type": "code",
   "execution_count": 17,
   "id": "37274be0",
   "metadata": {},
   "outputs": [
    {
     "name": "stdout",
     "output_type": "stream",
     "text": [
      "l1.shape= (3,)\n",
      "l1=\n",
      " [8 0 5]\n",
      "lv1.shape= (3, 10, 1)\n",
      "nba.shape= (3,)\n",
      "nba=\n",
      " [0 1 2]\n",
      "np.arange(ba).shape= (3,)\n",
      "lv1.shape= (3, 10, 1)\n",
      "lv1=\n",
      " [[[0. 0. 0. 0. 0. 0. 0. 0. 1. 0.]]\n",
      "\n",
      " [[1. 0. 0. 0. 0. 0. 0. 0. 0. 0.]]\n",
      "\n",
      " [[0. 0. 0. 0. 0. 1. 0. 0. 0. 0.]]]\n"
     ]
    }
   ],
   "source": [
    "import numpy as np\n",
    "ba=3\n",
    "# l1=np.zeros((ba,1),dtype=int)\n",
    "# l1[:,0]=np.arange(ba)+2\n",
    "# l1=l1.reshape(-1)\n",
    "# l1=np.random.randint(10,size=(ba,1))\n",
    "l1=np.random.randint(10,size=(ba))\n",
    "print('l1.shape=',l1.shape)\n",
    "print('l1=\\n',l1)\n",
    "lv1=np.zeros((ba,10,1))\n",
    "print('lv1.shape=',lv1.shape)\n",
    "nba=np.arange(ba)\n",
    "print('nba.shape=',nba.shape)\n",
    "print('nba=\\n',nba)\n",
    "# x2=lv1[np.arange(ba),l1,0]\n",
    "# x2[:]=1\n",
    "# lv1[np.arange(ba),l1,0][:]=1\n",
    "# lv1[np.arange(ba),0,0][:]=1\n",
    "# lv1[:,l1,0][:]=1\n",
    "# lv1[np.arange(ba),l1,0]=1\n",
    "lv1[np.arange(ba),l1,:]=1\n",
    "# lv1[0,1,:][:]=1\n",
    "# x2=lv1[np.arange(ba),l1,:]\n",
    "print('np.arange(ba).shape=',np.arange(ba).shape)\n",
    "# print('x2.shape=',x2.shape)\n",
    "# print('x2=\\n',x2)\n",
    "print('lv1.shape=',lv1.shape)\n",
    "# print('lv1=\\n',lv1.T)\n",
    "print('lv1=\\n',lv1.transpose(0,2,1))"
   ]
  },
  {
   "cell_type": "code",
   "execution_count": 171,
   "id": "f974bb90",
   "metadata": {},
   "outputs": [
    {
     "name": "stdout",
     "output_type": "stream",
     "text": [
      "c1.shape= ()\n",
      "c1.dtype= float64\n",
      "c1=\n",
      " 0.0\n"
     ]
    }
   ],
   "source": [
    "import numpy as np\n",
    "a1=np.random.randint(10,size=(1,5))\n",
    "b1=1.0\n",
    "c1=np.array(0.0)\n",
    "print('c1.shape=',c1.shape)\n",
    "print('c1.dtype=',c1.dtype)\n",
    "print('c1=\\n',c1)"
   ]
  }
 ],
 "metadata": {
  "kernelspec": {
   "display_name": "Python 3",
   "language": "python",
   "name": "python3"
  },
  "language_info": {
   "codemirror_mode": {
    "name": "ipython",
    "version": 3
   },
   "file_extension": ".py",
   "mimetype": "text/x-python",
   "name": "python",
   "nbconvert_exporter": "python",
   "pygments_lexer": "ipython3",
   "version": "3.8.8"
  }
 },
 "nbformat": 4,
 "nbformat_minor": 5
}
