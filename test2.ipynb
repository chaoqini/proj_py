{
 "cells": [
  {
   "cell_type": "code",
   "execution_count": 9,
   "id": "db707aab",
   "metadata": {},
   "outputs": [
    {
     "name": "stdout",
     "output_type": "stream",
     "text": [
      "aa\n",
      "[0 1 2]\n",
      "(3,)\n",
      "bb\n",
      "[[0]\n",
      " [1]\n",
      " [2]]\n",
      "(3, 1)\n",
      "cc\n",
      "(3, 3)\n",
      "[[0 0 0]\n",
      " [0 1 2]\n",
      " [0 2 4]]\n",
      "dd\n",
      "(3, 3)\n",
      "[[0 0 0]\n",
      " [0 1 2]\n",
      " [0 2 4]]\n"
     ]
    }
   ],
   "source": [
    "import numpy as np\n",
    "\n",
    "aa=np.arange(3)\n",
    "print('aa')\n",
    "print(aa)\n",
    "print(aa.shape)\n",
    "\n",
    "bb=np.arange(3).reshape(-1,1)\n",
    "print('bb')\n",
    "print(bb)\n",
    "print(bb.shape)\n",
    "\n",
    "cc=np.outer(aa,aa)\n",
    "print('cc')\n",
    "print(cc.shape)\n",
    "print(cc)\n",
    "\n",
    "dd=np.outer(bb,bb)\n",
    "print('dd')\n",
    "print(dd.shape)\n",
    "print(dd)\n",
    "\n",
    "\n"
   ]
  }
 ],
 "metadata": {
  "kernelspec": {
   "display_name": "Python 3 (ipykernel)",
   "language": "python",
   "name": "python3"
  },
  "language_info": {
   "codemirror_mode": {
    "name": "ipython",
    "version": 3
   },
   "file_extension": ".py",
   "mimetype": "text/x-python",
   "name": "python",
   "nbconvert_exporter": "python",
   "pygments_lexer": "ipython3",
   "version": "3.10.2"
  }
 },
 "nbformat": 4,
 "nbformat_minor": 5
}
