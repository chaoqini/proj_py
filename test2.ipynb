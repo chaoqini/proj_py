{
 "cells": [
  {
   "cell_type": "code",
   "execution_count": 57,
   "id": "4fdf21e9",
   "metadata": {},
   "outputs": [],
   "source": [
    "import mnist\n",
    "import numpy as np\n",
    "import matplotlib.pyplot as plt\n",
    "import convolution\n",
    "from PIL import  Image"
   ]
  },
  {
   "cell_type": "code",
   "execution_count": 55,
   "id": "b5cb1f72",
   "metadata": {},
   "outputs": [
    {
     "data": {
      "image/png": "[encoded data removed]",
      "text/plain": [
       "<Figure size 432x288 with 1 Axes>"
      ]
     },
     "metadata": {
      "needs_background": "light"
     },
     "output_type": "display_data"
    },
    {
     "data": {
      "image/png": "[encoded data removed]",
      "text/plain": [
       "<Figure size 432x288 with 1 Axes>"
      ]
     },
     "metadata": {
      "needs_background": "light"
     },
     "output_type": "display_data"
    }
   ],
   "source": [
    "aa=mnist.test_img[1].reshape(28,28)\n",
    "ra0=np.array([-1,1,0])\n",
    "ra1=np.array([1,1,1])\n",
    "ra2=np.array([1,1,1])\n",
    "ka=np.array([ra0,ra1,ra2])\n",
    "ca=convolution.conv(aa,3,ka)\n",
    "mnist.plot(aa)\n",
    "mnist.plot(ca)"
   ]
  },
  {
   "cell_type": "code",
   "execution_count": 64,
   "id": "049bbf93",
   "metadata": {},
   "outputs": [
    {
     "data": {
      "text/plain": [
       "5"
      ]
     },
     "execution_count": 64,
     "metadata": {},
     "output_type": "execute_result"
    }
   ],
   "source": [
    "a=np.arange(15).reshape(3,5)\n",
    "m,n=a.shape\n",
    "n"
   ]
  },
  {
   "cell_type": "code",
   "execution_count": 67,
   "id": "a6013821",
   "metadata": {},
   "outputs": [
    {
     "data": {
      "text/plain": [
       "array(0.)"
      ]
     },
     "execution_count": 67,
     "metadata": {},
     "output_type": "execute_result"
    }
   ],
   "source": [
    "a=np.zeros(())\n",
    "a"
   ]
  }
 ],
 "metadata": {
  "kernelspec": {
   "display_name": "Python 3 (ipykernel)",
   "language": "python",
   "name": "python3"
  },
  "language_info": {
   "codemirror_mode": {
    "name": "ipython",
    "version": 3
   },
   "file_extension": ".py",
   "mimetype": "text/x-python",
   "name": "python",
   "nbconvert_exporter": "python",
   "pygments_lexer": "ipython3",
   "version": "3.10.2"
  }
 },
 "nbformat": 4,
 "nbformat_minor": 5
}
