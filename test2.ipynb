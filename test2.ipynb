{
 "cells": [
  {
   "cell_type": "code",
   "execution_count": 8,
   "id": "6b157d9a",
   "metadata": {},
   "outputs": [
    {
     "name": "stdout",
     "output_type": "stream",
     "text": [
      "a1= {'aa': 22}\n"
     ]
    },
    {
     "data": {
      "text/plain": [
       "22"
      ]
     },
     "execution_count": 8,
     "metadata": {},
     "output_type": "execute_result"
    }
   ],
   "source": [
    "a1={}\n",
    "a1['aa']=22\n",
    "print('a1=',a1)\n",
    "s='aa'\n",
    "a1[s]"
   ]
  },
  {
   "cell_type": "code",
   "execution_count": 36,
   "id": "82558905",
   "metadata": {},
   "outputs": [
    {
     "data": {
      "text/plain": [
       "1.0"
      ]
     },
     "execution_count": 36,
     "metadata": {},
     "output_type": "execute_result"
    }
   ],
   "source": [
    "import numpy as np\n",
    "n=9/2**2\n",
    "np.ceil(n%2)\n"
   ]
  },
  {
   "cell_type": "code",
   "execution_count": null,
   "id": "a3f047af",
   "metadata": {},
   "outputs": [],
   "source": [
    "check_slp=slope2(x,lab,params,g,pname='Y2',dv=1e-5)\n",
    "#check_slp=loss_check(x,lab,params,g,dv=1e-6)\n",
    "#print('==   top : check_slp=',check_slp)\n",
    "(grad,d_)=bp(x,lab,params,g,g_d,isop=1)\n",
    "print('d_.keys()=',d_.keys())\n"
   ]
  }
 ],
 "metadata": {
  "kernelspec": {
   "display_name": "Python 3",
   "language": "python",
   "name": "python3"
  },
  "language_info": {
   "codemirror_mode": {
    "name": "ipython",
    "version": 3
   },
   "file_extension": ".py",
   "mimetype": "text/x-python",
   "name": "python",
   "nbconvert_exporter": "python",
   "pygments_lexer": "ipython3",
   "version": "3.8.8"
  }
 },
 "nbformat": 4,
 "nbformat_minor": 5
}
