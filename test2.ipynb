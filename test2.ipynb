{
 "cells": [
  {
   "cell_type": "code",
   "execution_count": 26,
   "id": "db707aab",
   "metadata": {},
   "outputs": [
    {
     "name": "stdout",
     "output_type": "stream",
     "text": [
      "a1=\n",
      " [[[ 0  1  2  3]\n",
      "  [ 4  5  6  7]\n",
      "  [ 8  9 10 11]\n",
      "  [12 13 14 15]]\n",
      "\n",
      " [[16 17 18 19]\n",
      "  [20 21 22 23]\n",
      "  [24 25 26 27]\n",
      "  [28 29 30 31]]]\n",
      "b1=\n",
      " [[[[[[ 0  1  2]\n",
      "     [ 4  5  6]\n",
      "     [ 8  9 10]]]\n",
      "\n",
      "\n",
      "   [[[ 1  2  3]\n",
      "     [ 5  6  7]\n",
      "     [ 9 10 11]]]]\n",
      "\n",
      "\n",
      "\n",
      "  [[[[ 4  5  6]\n",
      "     [ 8  9 10]\n",
      "     [12 13 14]]]\n",
      "\n",
      "\n",
      "   [[[ 5  6  7]\n",
      "     [ 9 10 11]\n",
      "     [13 14 15]]]]]\n",
      "\n",
      "\n",
      "\n",
      "\n",
      " [[[[[16 17 18]\n",
      "     [20 21 22]\n",
      "     [24 25 26]]]\n",
      "\n",
      "\n",
      "   [[[17 18 19]\n",
      "     [21 22 23]\n",
      "     [25 26 27]]]]\n",
      "\n",
      "\n",
      "\n",
      "  [[[[20 21 22]\n",
      "     [24 25 26]\n",
      "     [28 29 30]]]\n",
      "\n",
      "\n",
      "   [[[21 22 23]\n",
      "     [25 26 27]\n",
      "     [29 30 31]]]]]]\n",
      "a1.shape= (2, 4, 4)\n",
      "b1.shape= (2, 2, 2, 1, 3, 3)\n"
     ]
    }
   ],
   "source": [
    "import numpy as np\n",
    "from skimage.util import view_as_windows as vw\n",
    "(ba,hi,wi)=(2,4,4)\n",
    "a1=np.arange(ba*hi*wi,dtype=np.uint8).reshape(ba,hi,wi)\n",
    "# a1=np.arange(hi*wi,dtype=np.uint8).reshape(hi,wi)+1\n",
    "# b1=vw(a1,(3,3))\n",
    "b1=vw(a1,(1,3,3))\n",
    "# b1=b1.reshape(ba,hi,wi)\n",
    "print('a1=\\n',a1)\n",
    "print('b1=\\n',b1)\n",
    "print('a1.shape=',a1.shape)\n",
    "print('b1.shape=',b1.shape)\n",
    "# viewW(A, (BSZ[0],BSZ[1])).reshape(-1,BSZ[0]*BSZ[1]).T[:,::stepsize]\n",
    "# b1="
   ]
  }
 ],
 "metadata": {
  "kernelspec": {
   "display_name": "Python 3",
   "language": "python",
   "name": "python3"
  },
  "language_info": {
   "codemirror_mode": {
    "name": "ipython",
    "version": 3
   },
   "file_extension": ".py",
   "mimetype": "text/x-python",
   "name": "python",
   "nbconvert_exporter": "python",
   "pygments_lexer": "ipython3",
   "version": "3.8.8"
  }
 },
 "nbformat": 4,
 "nbformat_minor": 5
}
