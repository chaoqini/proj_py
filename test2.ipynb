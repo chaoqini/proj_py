{
 "cells": [
  {
   "cell_type": "code",
   "execution_count": 58,
   "id": "db707aab",
   "metadata": {},
   "outputs": [
    {
     "data": {
      "text/plain": [
       "9"
      ]
     },
     "execution_count": 58,
     "metadata": {},
     "output_type": "execute_result"
    }
   ],
   "source": [
    "a1=100\n",
    "99%10"
   ]
  },
  {
   "cell_type": "code",
   "execution_count": 51,
   "id": "954b1d22",
   "metadata": {},
   "outputs": [
    {
     "name": "stdout",
     "output_type": "stream",
     "text": [
      "a1.shape= (1, 1, 2, 2, 4, 5, 1, 1)\n",
      "b1.shape= (2, 2, 4, 5)\n"
     ]
    }
   ],
   "source": [
    "import numpy as np\n",
    "a1=np.arange(2*2*4*5).reshape(1,1,2,2,4,5,1,1)+1\n",
    "b1=a1.squeeze()\n",
    "# b1=a1.squeeze()\n",
    "# b1=np.squeeze(a1)\n",
    "print('a1.shape=',a1.shape)\n",
    "print('b1.shape=',b1.shape)"
   ]
  },
  {
   "cell_type": "code",
   "execution_count": 61,
   "id": "cbfbf9b8",
   "metadata": {},
   "outputs": [
    {
     "name": "stdout",
     "output_type": "stream",
     "text": [
      "a1=\n",
      " [[1 2 3]\n",
      " [4 5 6]\n",
      " [7 8 9]]\n",
      "a1=\n",
      " [[1 2 3]\n",
      " [4 5 6]\n",
      " [7 8 9]]\n",
      "b1=\n",
      " [[9 8 7]\n",
      " [6 5 4]\n",
      " [3 2 1]]\n",
      "a1.shape= (3, 3)\n",
      "b1.shape= (3, 3)\n"
     ]
    }
   ],
   "source": [
    "import numpy as np\n",
    "a1=np.arange(3*3).reshape(3,3)+1\n",
    "print('a1=\\n',a1)\n",
    "b1=np.flip(a1)\n",
    "# b1=a1.squeeze()\n",
    "# b1=np.squeeze(a1)\n",
    "print('a1=\\n',a1)\n",
    "print('b1=\\n',b1)\n",
    "print('a1.shape=',a1.shape)\n",
    "print('b1.shape=',b1.shape)"
   ]
  },
  {
   "cell_type": "code",
   "execution_count": 14,
   "id": "b152e867",
   "metadata": {},
   "outputs": [
    {
     "name": "stdout",
     "output_type": "stream",
     "text": [
      "a1=\n",
      " [[[ 0  1]\n",
      "  [ 2  3]\n",
      "  [ 4  5]]\n",
      "\n",
      " [[ 6  7]\n",
      "  [ 8  9]\n",
      "  [10 11]]\n",
      "\n",
      " [[12 13]\n",
      "  [14 15]\n",
      "  [16 17]]]\n",
      "b1=\n",
      " [[[17 16]\n",
      "  [15 14]\n",
      "  [13 12]]\n",
      "\n",
      " [[11 10]\n",
      "  [ 9  8]\n",
      "  [ 7  6]]\n",
      "\n",
      " [[ 5  4]\n",
      "  [ 3  2]\n",
      "  [ 1  0]]]\n",
      "a1.shape= (3, 3, 2)\n",
      "b1.shape= (3, 3, 2)\n"
     ]
    }
   ],
   "source": [
    "a1=\n",
    " [[[[ 1  2  3  4  5]\n",
    "   [ 6  7  8  9 10]\n",
    "   [11 12 13 14 15]\n",
    "   [16 17 18 19 20]]\n",
    "\n",
    "  [[21 22 23 24 25]\n",
    "   [26 27 28 29 30]\n",
    "   [31 32 33 34 35]\n",
    "   [36 37 38 39 40]]]\n",
    "\n",
    "\n",
    " [[[41 42 43 44 45]\n",
    "   [46 47 48 49 50]\n",
    "   [51 52 53 54 55]\n",
    "   [56 57 58 59 60]]\n",
    "\n",
    "  [[61 62 63 64 65]\n",
    "   [66 67 68 69 70]\n",
    "   [71 72 73 74 75]\n",
    "   [76 77 78 79 80]]]]"
   ]
  }
 ],
 "metadata": {
  "kernelspec": {
   "display_name": "Python 3",
   "language": "python",
   "name": "python3"
  },
  "language_info": {
   "codemirror_mode": {
    "name": "ipython",
    "version": 3
   },
   "file_extension": ".py",
   "mimetype": "text/x-python",
   "name": "python",
   "nbconvert_exporter": "python",
   "pygments_lexer": "ipython3",
   "version": "3.8.8"
  }
 },
 "nbformat": 4,
 "nbformat_minor": 5
}
