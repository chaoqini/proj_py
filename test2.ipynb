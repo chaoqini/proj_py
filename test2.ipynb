{
 "cells": [
  {
   "cell_type": "code",
   "execution_count": 358,
   "id": "db707aab",
   "metadata": {},
   "outputs": [
    {
     "name": "stdout",
     "output_type": "stream",
     "text": [
      "a1.shape= (3, 3, 3)\n",
      "b1.shape= (3, 3, 3)\n",
      "a1=\n",
      "[[[ 0  1  2]\n",
      "  [ 3  4  5]\n",
      "  [ 6  7  8]]\n",
      "\n",
      " [[ 9 10 11]\n",
      "  [12 13 14]\n",
      "  [15 16 17]]\n",
      "\n",
      " [[18 19 20]\n",
      "  [21 22 23]\n",
      "  [24 25 26]]]\n",
      "b1=\n",
      "[[[1. 1. 1.]\n",
      "  [1. 1. 1.]\n",
      "  [1. 1. 1.]]\n",
      "\n",
      " [[1. 1. 1.]\n",
      "  [1. 1. 1.]\n",
      "  [1. 1. 1.]]\n",
      "\n",
      " [[1. 1. 1.]\n",
      "  [1. 1. 1.]\n",
      "  [1. 1. 1.]]]\n"
     ]
    }
   ],
   "source": [
    "import numpy as np\n",
    "mm=3;rr=3;cc=3\n",
    "a1=np.arange(mm*rr*cc).reshape(mm,rr,cc)\n",
    "b1=np.ones((3,3,3))\n",
    "# o1=np.ones((3,1))\n",
    "# b2=np.array([o1,o1*3,o1*21])\n",
    "print('a1.shape=',a1.shape)\n",
    "print('b1.shape=',b1.shape)\n",
    "print('a1=')\n",
    "print(a1)\n",
    "print('b1=')\n",
    "print(b1)"
   ]
  },
  {
   "cell_type": "code",
   "execution_count": 2,
   "id": "85051381",
   "metadata": {},
   "outputs": [
    {
     "data": {
      "text/plain": [
       "'2.4.1'"
      ]
     },
     "execution_count": 2,
     "metadata": {},
     "output_type": "execute_result"
    }
   ],
   "source": [
    "import tensorflow as tf\n",
    "tf.__version__"
   ]
  },
  {
   "cell_type": "code",
   "execution_count": 1,
   "id": "597e5ea1",
   "metadata": {},
   "outputs": [
    {
     "name": "stdout",
     "output_type": "stream",
     "text": [
      "<class 'tuple'>\n"
     ]
    }
   ],
   "source": [
    "print( type( tuple([1]) ) )"
   ]
  },
  {
   "cell_type": "code",
   "execution_count": 4,
   "id": "9b58ec90",
   "metadata": {},
   "outputs": [
    {
     "data": {
      "text/plain": [
       "{'aa': 11, 'bb': 22}"
      ]
     },
     "execution_count": 4,
     "metadata": {},
     "output_type": "execute_result"
    }
   ],
   "source": [
    "import numpy as np\n",
    "a1={}\n",
    "a1['aa']=11\n",
    "a1['bb']=22\n",
    "\n",
    "a1\n",
    "\n"
   ]
  },
  {
   "cell_type": "code",
   "execution_count": 81,
   "id": "b918369f",
   "metadata": {},
   "outputs": [
    {
     "name": "stdout",
     "output_type": "stream",
     "text": [
      "k= b0\n",
      "k= b1\n",
      "k= b2\n",
      "k= b0\n",
      "k= b1\n",
      "k= b2\n",
      "3\n"
     ]
    }
   ],
   "source": [
    "import numpy as np\n",
    "aa={}\n",
    "aa['b0']=11\n",
    "aa['b1']=22\n",
    "aa['b2']=33\n",
    "# aa['beta1']=55\n",
    "# aa['beta2']=66\n",
    "# aa['c2']=77\n",
    "# aa['c3']=88\n",
    "cc={}\n",
    "for k,v in aa.items():\n",
    "#     if   :\n",
    "#     if k[0]=='b' and k[1]=='2':\n",
    "#     if k[0]=='b' and isdigit(k[1]) :\n",
    "#     if not (k[0]=='b' and   k[1].isdigit ()):\n",
    "#         print('v=',v)\n",
    "    print('k=',k)\n",
    "    cc['l2_'+k]=[]\n",
    "    cc['l2_'+k].append(v)\n",
    "for k,v in aa.items():\n",
    "#     if   :\n",
    "#     if k[0]=='b' and k[1]=='2':\n",
    "#     if k[0]=='b' and isdigit(k[1]) :\n",
    "#     if not (k[0]=='b' and   k[1].isdigit ()):\n",
    "#         print('v=',v)\n",
    "    print('k=',k)\n",
    "#     cc['l2_'+k]=[]\n",
    "    cc['l2_'+k].append(v)\n",
    "\n",
    "#     v.append(k)\n",
    "#            (k+str(d))=[]\n",
    "#         print(k[0])\n",
    "aa\n",
    "cc\n",
    "print(len(aa))"
   ]
  },
  {
   "cell_type": "code",
   "execution_count": 93,
   "id": "15adfb89",
   "metadata": {},
   "outputs": [
    {
     "data": {
      "text/plain": [
       "array([[[1.00000000e+00, 1.00000000e+00],\n",
       "        [2.71828183e+00, 7.38905610e+00],\n",
       "        [7.38905610e+00, 5.45981500e+01]],\n",
       "\n",
       "       [[2.00855369e+01, 4.03428793e+02],\n",
       "        [5.45981500e+01, 2.98095799e+03],\n",
       "        [1.48413159e+02, 2.20264658e+04]]])"
      ]
     },
     "execution_count": 93,
     "metadata": {},
     "output_type": "execute_result"
    }
   ],
   "source": [
    "np.exp(d1)"
   ]
  },
  {
   "cell_type": "code",
   "execution_count": 30,
   "id": "2313a086",
   "metadata": {
    "collapsed": true
   },
   "outputs": [
    {
     "name": "stdout",
     "output_type": "stream",
     "text": [
      "(2, 3, 4, 2, 4, 2)\n",
      "[[[[[[ 0.  0.]\n",
      "     [ 0.  0.]\n",
      "     [ 0.  0.]\n",
      "     [ 0.  0.]]\n",
      "\n",
      "    [[ 0.  0.]\n",
      "     [ 0.  0.]\n",
      "     [ 0.  0.]\n",
      "     [ 0.  0.]]]\n",
      "\n",
      "\n",
      "   [[[ 1.  1.]\n",
      "     [ 1.  1.]\n",
      "     [ 1.  1.]\n",
      "     [ 1.  1.]]\n",
      "\n",
      "    [[ 2.  2.]\n",
      "     [ 2.  2.]\n",
      "     [ 2.  2.]\n",
      "     [ 2.  2.]]]\n",
      "\n",
      "\n",
      "   [[[ 2.  2.]\n",
      "     [ 2.  2.]\n",
      "     [ 2.  2.]\n",
      "     [ 2.  2.]]\n",
      "\n",
      "    [[ 4.  4.]\n",
      "     [ 4.  4.]\n",
      "     [ 4.  4.]\n",
      "     [ 4.  4.]]]\n",
      "\n",
      "\n",
      "   [[[ 3.  3.]\n",
      "     [ 3.  3.]\n",
      "     [ 3.  3.]\n",
      "     [ 3.  3.]]\n",
      "\n",
      "    [[ 6.  6.]\n",
      "     [ 6.  6.]\n",
      "     [ 6.  6.]\n",
      "     [ 6.  6.]]]]\n",
      "\n",
      "\n",
      "\n",
      "  [[[[ 4.  4.]\n",
      "     [ 4.  4.]\n",
      "     [ 4.  4.]\n",
      "     [ 4.  4.]]\n",
      "\n",
      "    [[ 8.  8.]\n",
      "     [ 8.  8.]\n",
      "     [ 8.  8.]\n",
      "     [ 8.  8.]]]\n",
      "\n",
      "\n",
      "   [[[ 5.  5.]\n",
      "     [ 5.  5.]\n",
      "     [ 5.  5.]\n",
      "     [ 5.  5.]]\n",
      "\n",
      "    [[10. 10.]\n",
      "     [10. 10.]\n",
      "     [10. 10.]\n",
      "     [10. 10.]]]\n",
      "\n",
      "\n",
      "   [[[ 6.  6.]\n",
      "     [ 6.  6.]\n",
      "     [ 6.  6.]\n",
      "     [ 6.  6.]]\n",
      "\n",
      "    [[12. 12.]\n",
      "     [12. 12.]\n",
      "     [12. 12.]\n",
      "     [12. 12.]]]\n",
      "\n",
      "\n",
      "   [[[ 7.  7.]\n",
      "     [ 7.  7.]\n",
      "     [ 7.  7.]\n",
      "     [ 7.  7.]]\n",
      "\n",
      "    [[14. 14.]\n",
      "     [14. 14.]\n",
      "     [14. 14.]\n",
      "     [14. 14.]]]]\n",
      "\n",
      "\n",
      "\n",
      "  [[[[ 8.  8.]\n",
      "     [ 8.  8.]\n",
      "     [ 8.  8.]\n",
      "     [ 8.  8.]]\n",
      "\n",
      "    [[16. 16.]\n",
      "     [16. 16.]\n",
      "     [16. 16.]\n",
      "     [16. 16.]]]\n",
      "\n",
      "\n",
      "   [[[ 9.  9.]\n",
      "     [ 9.  9.]\n",
      "     [ 9.  9.]\n",
      "     [ 9.  9.]]\n",
      "\n",
      "    [[18. 18.]\n",
      "     [18. 18.]\n",
      "     [18. 18.]\n",
      "     [18. 18.]]]\n",
      "\n",
      "\n",
      "   [[[10. 10.]\n",
      "     [10. 10.]\n",
      "     [10. 10.]\n",
      "     [10. 10.]]\n",
      "\n",
      "    [[20. 20.]\n",
      "     [20. 20.]\n",
      "     [20. 20.]\n",
      "     [20. 20.]]]\n",
      "\n",
      "\n",
      "   [[[11. 11.]\n",
      "     [11. 11.]\n",
      "     [11. 11.]\n",
      "     [11. 11.]]\n",
      "\n",
      "    [[22. 22.]\n",
      "     [22. 22.]\n",
      "     [22. 22.]\n",
      "     [22. 22.]]]]]\n",
      "\n",
      "\n",
      "\n",
      "\n",
      " [[[[[12. 12.]\n",
      "     [12. 12.]\n",
      "     [12. 12.]\n",
      "     [12. 12.]]\n",
      "\n",
      "    [[24. 24.]\n",
      "     [24. 24.]\n",
      "     [24. 24.]\n",
      "     [24. 24.]]]\n",
      "\n",
      "\n",
      "   [[[13. 13.]\n",
      "     [13. 13.]\n",
      "     [13. 13.]\n",
      "     [13. 13.]]\n",
      "\n",
      "    [[26. 26.]\n",
      "     [26. 26.]\n",
      "     [26. 26.]\n",
      "     [26. 26.]]]\n",
      "\n",
      "\n",
      "   [[[14. 14.]\n",
      "     [14. 14.]\n",
      "     [14. 14.]\n",
      "     [14. 14.]]\n",
      "\n",
      "    [[28. 28.]\n",
      "     [28. 28.]\n",
      "     [28. 28.]\n",
      "     [28. 28.]]]\n",
      "\n",
      "\n",
      "   [[[15. 15.]\n",
      "     [15. 15.]\n",
      "     [15. 15.]\n",
      "     [15. 15.]]\n",
      "\n",
      "    [[30. 30.]\n",
      "     [30. 30.]\n",
      "     [30. 30.]\n",
      "     [30. 30.]]]]\n",
      "\n",
      "\n",
      "\n",
      "  [[[[16. 16.]\n",
      "     [16. 16.]\n",
      "     [16. 16.]\n",
      "     [16. 16.]]\n",
      "\n",
      "    [[32. 32.]\n",
      "     [32. 32.]\n",
      "     [32. 32.]\n",
      "     [32. 32.]]]\n",
      "\n",
      "\n",
      "   [[[17. 17.]\n",
      "     [17. 17.]\n",
      "     [17. 17.]\n",
      "     [17. 17.]]\n",
      "\n",
      "    [[34. 34.]\n",
      "     [34. 34.]\n",
      "     [34. 34.]\n",
      "     [34. 34.]]]\n",
      "\n",
      "\n",
      "   [[[18. 18.]\n",
      "     [18. 18.]\n",
      "     [18. 18.]\n",
      "     [18. 18.]]\n",
      "\n",
      "    [[36. 36.]\n",
      "     [36. 36.]\n",
      "     [36. 36.]\n",
      "     [36. 36.]]]\n",
      "\n",
      "\n",
      "   [[[19. 19.]\n",
      "     [19. 19.]\n",
      "     [19. 19.]\n",
      "     [19. 19.]]\n",
      "\n",
      "    [[38. 38.]\n",
      "     [38. 38.]\n",
      "     [38. 38.]\n",
      "     [38. 38.]]]]\n",
      "\n",
      "\n",
      "\n",
      "  [[[[20. 20.]\n",
      "     [20. 20.]\n",
      "     [20. 20.]\n",
      "     [20. 20.]]\n",
      "\n",
      "    [[40. 40.]\n",
      "     [40. 40.]\n",
      "     [40. 40.]\n",
      "     [40. 40.]]]\n",
      "\n",
      "\n",
      "   [[[21. 21.]\n",
      "     [21. 21.]\n",
      "     [21. 21.]\n",
      "     [21. 21.]]\n",
      "\n",
      "    [[42. 42.]\n",
      "     [42. 42.]\n",
      "     [42. 42.]\n",
      "     [42. 42.]]]\n",
      "\n",
      "\n",
      "   [[[22. 22.]\n",
      "     [22. 22.]\n",
      "     [22. 22.]\n",
      "     [22. 22.]]\n",
      "\n",
      "    [[44. 44.]\n",
      "     [44. 44.]\n",
      "     [44. 44.]\n",
      "     [44. 44.]]]\n",
      "\n",
      "\n",
      "   [[[23. 23.]\n",
      "     [23. 23.]\n",
      "     [23. 23.]\n",
      "     [23. 23.]]\n",
      "\n",
      "    [[46. 46.]\n",
      "     [46. 46.]\n",
      "     [46. 46.]\n",
      "     [46. 46.]]]]]]\n"
     ]
    }
   ],
   "source": [
    "d1=np.einsum('ijk,mln->ijkmln',a1,b2)\n",
    "print(d1.shape)\n",
    "print(d1)"
   ]
  },
  {
   "cell_type": "code",
   "execution_count": 29,
   "id": "ddfdc2d4",
   "metadata": {},
   "outputs": [
    {
     "name": "stdout",
     "output_type": "stream",
     "text": [
      "(2, 3, 4, 2, 4)\n",
      "[[[[[ 0.  0.  0.  0.]\n",
      "    [ 0.  0.  0.  0.]]\n",
      "\n",
      "   [[ 1.  1.  1.  1.]\n",
      "    [ 2.  2.  2.  2.]]\n",
      "\n",
      "   [[ 2.  2.  2.  2.]\n",
      "    [ 4.  4.  4.  4.]]\n",
      "\n",
      "   [[ 3.  3.  3.  3.]\n",
      "    [ 6.  6.  6.  6.]]]\n",
      "\n",
      "\n",
      "  [[[ 4.  4.  4.  4.]\n",
      "    [ 8.  8.  8.  8.]]\n",
      "\n",
      "   [[ 5.  5.  5.  5.]\n",
      "    [10. 10. 10. 10.]]\n",
      "\n",
      "   [[ 6.  6.  6.  6.]\n",
      "    [12. 12. 12. 12.]]\n",
      "\n",
      "   [[ 7.  7.  7.  7.]\n",
      "    [14. 14. 14. 14.]]]\n",
      "\n",
      "\n",
      "  [[[ 8.  8.  8.  8.]\n",
      "    [16. 16. 16. 16.]]\n",
      "\n",
      "   [[ 9.  9.  9.  9.]\n",
      "    [18. 18. 18. 18.]]\n",
      "\n",
      "   [[10. 10. 10. 10.]\n",
      "    [20. 20. 20. 20.]]\n",
      "\n",
      "   [[11. 11. 11. 11.]\n",
      "    [22. 22. 22. 22.]]]]\n",
      "\n",
      "\n",
      "\n",
      " [[[[12. 12. 12. 12.]\n",
      "    [24. 24. 24. 24.]]\n",
      "\n",
      "   [[13. 13. 13. 13.]\n",
      "    [26. 26. 26. 26.]]\n",
      "\n",
      "   [[14. 14. 14. 14.]\n",
      "    [28. 28. 28. 28.]]\n",
      "\n",
      "   [[15. 15. 15. 15.]\n",
      "    [30. 30. 30. 30.]]]\n",
      "\n",
      "\n",
      "  [[[16. 16. 16. 16.]\n",
      "    [32. 32. 32. 32.]]\n",
      "\n",
      "   [[17. 17. 17. 17.]\n",
      "    [34. 34. 34. 34.]]\n",
      "\n",
      "   [[18. 18. 18. 18.]\n",
      "    [36. 36. 36. 36.]]\n",
      "\n",
      "   [[19. 19. 19. 19.]\n",
      "    [38. 38. 38. 38.]]]\n",
      "\n",
      "\n",
      "  [[[20. 20. 20. 20.]\n",
      "    [40. 40. 40. 40.]]\n",
      "\n",
      "   [[21. 21. 21. 21.]\n",
      "    [42. 42. 42. 42.]]\n",
      "\n",
      "   [[22. 22. 22. 22.]\n",
      "    [44. 44. 44. 44.]]\n",
      "\n",
      "   [[23. 23. 23. 23.]\n",
      "    [46. 46. 46. 46.]]]]]\n"
     ]
    }
   ],
   "source": [
    "c1=np.einsum('ijk,mli->ijkml',a1,b2)\n",
    "print(c1.shape)\n",
    "print(c1)"
   ]
  },
  {
   "cell_type": "code",
   "execution_count": 251,
   "id": "f1eeec67",
   "metadata": {},
   "outputs": [
    {
     "data": {
      "text/plain": [
       "array([[[2]],\n",
       "\n",
       "       [[5]],\n",
       "\n",
       "       [[8]]])"
      ]
     },
     "execution_count": 251,
     "metadata": {},
     "output_type": "execute_result"
    }
   ],
   "source": [
    "c=np.max(a1,axis=1,keepdims=1)\n",
    "c"
   ]
  },
  {
   "cell_type": "code",
   "execution_count": 255,
   "id": "78a0a61e",
   "metadata": {},
   "outputs": [
    {
     "data": {
      "text/plain": [
       "array([[[0.   ],\n",
       "        [0.5  ],\n",
       "        [1.   ]],\n",
       "\n",
       "       [[0.6  ],\n",
       "        [0.8  ],\n",
       "        [1.   ]],\n",
       "\n",
       "       [[0.75 ],\n",
       "        [0.875],\n",
       "        [1.   ]]])"
      ]
     },
     "execution_count": 255,
     "metadata": {},
     "output_type": "execute_result"
    }
   ],
   "source": [
    "d=a1/c\n",
    "d"
   ]
  },
  {
   "cell_type": "code",
   "execution_count": 237,
   "id": "39aa4366",
   "metadata": {},
   "outputs": [
    {
     "name": "stdout",
     "output_type": "stream",
     "text": [
      "(3, 3, 1)\n"
     ]
    },
    {
     "data": {
      "text/plain": [
       "array([[[False],\n",
       "        [ True],\n",
       "        [False]],\n",
       "\n",
       "       [[ True],\n",
       "        [False],\n",
       "        [False]],\n",
       "\n",
       "       [[False],\n",
       "        [False],\n",
       "        [False]]])"
      ]
     },
     "execution_count": 237,
     "metadata": {},
     "output_type": "execute_result"
    }
   ],
   "source": [
    "# c = a1[axis=1]==b1[axis=1]\n",
    "# b1=a1\n",
    "c = a1==b1\n",
    "print(c.shape)\n",
    "c"
   ]
  },
  {
   "cell_type": "code",
   "execution_count": 239,
   "id": "0538afd2",
   "metadata": {},
   "outputs": [
    {
     "data": {
      "text/plain": [
       "array([[0.33333333],\n",
       "       [0.33333333],\n",
       "       [0.        ]])"
      ]
     },
     "execution_count": 239,
     "metadata": {},
     "output_type": "execute_result"
    }
   ],
   "source": [
    "d=np.einsum('ijk->ik',c)\n",
    "d"
   ]
  },
  {
   "cell_type": "code",
   "execution_count": 244,
   "id": "ef91f5ea",
   "metadata": {},
   "outputs": [
    {
     "data": {
      "text/plain": [
       "array([[0.33333333],\n",
       "       [0.33333333],\n",
       "       [0.        ]])"
      ]
     },
     "execution_count": 244,
     "metadata": {},
     "output_type": "execute_result"
    }
   ],
   "source": [
    "d=np.sum(c,axis=1)/c.shape[1]\n"
   ]
  },
  {
   "cell_type": "code",
   "execution_count": 171,
   "id": "3c00b537",
   "metadata": {},
   "outputs": [
    {
     "data": {
      "text/plain": [
       "array([[[ 0,  1,  2],\n",
       "        [12, 13, 14]]])"
      ]
     },
     "execution_count": 171,
     "metadata": {},
     "output_type": "execute_result"
    }
   ],
   "source": [
    "a1[[0,1],[t2],:]"
   ]
  },
  {
   "cell_type": "code",
   "execution_count": 169,
   "id": "5fe200d2",
   "metadata": {},
   "outputs": [
    {
     "name": "stdout",
     "output_type": "stream",
     "text": [
      "(2, 1, 1)\n"
     ]
    },
    {
     "data": {
      "text/plain": [
       "array([0, 1])"
      ]
     },
     "execution_count": 169,
     "metadata": {},
     "output_type": "execute_result"
    }
   ],
   "source": [
    "t1=np.arange(2*1*1).reshape(2,1,1)\n",
    "print(t1.shape)\n",
    "t1\n",
    "t2=t1.reshape(-1)\n",
    "# print(t2.shape)\n",
    "t2\n"
   ]
  },
  {
   "cell_type": "code",
   "execution_count": 174,
   "id": "89aa74bc",
   "metadata": {},
   "outputs": [
    {
     "data": {
      "text/plain": [
       "(20, 10, 1)"
      ]
     },
     "execution_count": 174,
     "metadata": {},
     "output_type": "execute_result"
    }
   ],
   "source": [
    "(20,10)+(1,)"
   ]
  },
  {
   "cell_type": "code",
   "execution_count": 34,
   "id": "b8b94c42",
   "metadata": {},
   "outputs": [
    {
     "name": "stdout",
     "output_type": "stream",
     "text": [
      "(2, 10, 1)\n"
     ]
    },
    {
     "data": {
      "text/plain": [
       "array([[[ 0],\n",
       "        [ 1],\n",
       "        [ 2],\n",
       "        [ 3],\n",
       "        [ 4],\n",
       "        [ 5],\n",
       "        [ 6],\n",
       "        [ 7],\n",
       "        [ 8],\n",
       "        [ 9]],\n",
       "\n",
       "       [[10],\n",
       "        [11],\n",
       "        [12],\n",
       "        [13],\n",
       "        [14],\n",
       "        [15],\n",
       "        [16],\n",
       "        [17],\n",
       "        [18],\n",
       "        [19]]])"
      ]
     },
     "execution_count": 34,
     "metadata": {},
     "output_type": "execute_result"
    }
   ],
   "source": [
    "xx=np.arange(2*10*1).reshape(2,10,1)\n",
    "print(xx.shape)\n",
    "xx"
   ]
  },
  {
   "cell_type": "code",
   "execution_count": null,
   "id": "8378e8bd",
   "metadata": {},
   "outputs": [],
   "source": [
    "ss=np.max(xx,axis=1,keepdims=1)\n",
    "print(ss.shape)\n",
    "ss"
   ]
  },
  {
   "cell_type": "code",
   "execution_count": 38,
   "id": "30dcc29d",
   "metadata": {},
   "outputs": [
    {
     "name": "stdout",
     "output_type": "stream",
     "text": [
      "(2, 1, 1)\n"
     ]
    },
    {
     "data": {
      "text/plain": [
       "array([[[ 9]],\n",
       "\n",
       "       [[19]]])"
      ]
     },
     "execution_count": 38,
     "metadata": {},
     "output_type": "execute_result"
    }
   ],
   "source": [
    "ss=np.max(xx,axis=1,keepdims=1)\n",
    "print(ss.shape)\n",
    "ss"
   ]
  },
  {
   "cell_type": "code",
   "execution_count": 40,
   "id": "4b1e6a22",
   "metadata": {},
   "outputs": [
    {
     "name": "stdout",
     "output_type": "stream",
     "text": [
      "(2, 10, 1)\n"
     ]
    },
    {
     "data": {
      "text/plain": [
       "array([[[-9],\n",
       "        [-8],\n",
       "        [-7],\n",
       "        [-6],\n",
       "        [-5],\n",
       "        [-4],\n",
       "        [-3],\n",
       "        [-2],\n",
       "        [-1],\n",
       "        [ 0]],\n",
       "\n",
       "       [[-9],\n",
       "        [-8],\n",
       "        [-7],\n",
       "        [-6],\n",
       "        [-5],\n",
       "        [-4],\n",
       "        [-3],\n",
       "        [-2],\n",
       "        [-1],\n",
       "        [ 0]]])"
      ]
     },
     "execution_count": 40,
     "metadata": {},
     "output_type": "execute_result"
    }
   ],
   "source": [
    "yy=xx-ss\n",
    "print(yy.shape)\n",
    "yy"
   ]
  },
  {
   "cell_type": "code",
   "execution_count": 45,
   "id": "ea4b8e5d",
   "metadata": {},
   "outputs": [
    {
     "name": "stdout",
     "output_type": "stream",
     "text": [
      "(2, 1, 1)\n"
     ]
    },
    {
     "data": {
      "text/plain": [
       "array([[[-45]],\n",
       "\n",
       "       [[-45]]])"
      ]
     },
     "execution_count": 45,
     "metadata": {},
     "output_type": "execute_result"
    }
   ],
   "source": [
    "zz=np.sum(yy,axis=1,keepdims=1)\n",
    "print(zz.shape)\n",
    "zz\n",
    "# zz.squeeze\n",
    "# zz"
   ]
  },
  {
   "cell_type": "code",
   "execution_count": 52,
   "id": "409b39a3",
   "metadata": {},
   "outputs": [
    {
     "name": "stdout",
     "output_type": "stream",
     "text": [
      "(2, 10, 1)\n",
      "(2, 10, 1)\n"
     ]
    }
   ],
   "source": [
    "ll=yy/zz\n",
    "print(ll.shape)\n",
    "ll\n",
    "mm=ll.reshape((1,)+ll.shape)\n",
    "print(ll.shape)"
   ]
  },
  {
   "cell_type": "code",
   "execution_count": 256,
   "id": "5f89975e",
   "metadata": {},
   "outputs": [
    {
     "data": {
      "text/plain": [
       "array([[[0.],\n",
       "        [0.],\n",
       "        [1.]],\n",
       "\n",
       "       [[0.],\n",
       "        [0.],\n",
       "        [1.]],\n",
       "\n",
       "       [[0.],\n",
       "        [0.],\n",
       "        [1.]]])"
      ]
     },
     "execution_count": 256,
     "metadata": {},
     "output_type": "execute_result"
    }
   ],
   "source": [
    "np.trunc(d)"
   ]
  },
  {
   "cell_type": "code",
   "execution_count": 167,
   "id": "5e1f9d33",
   "metadata": {},
   "outputs": [
    {
     "data": {
      "text/plain": [
       "array([[[[ 0,  1,  2],\n",
       "         [12, 13, 14]]]])"
      ]
     },
     "execution_count": 167,
     "metadata": {},
     "output_type": "execute_result"
    }
   ],
   "source": [
    "# xx=(1,1,1)\n",
    "# xx = (:,1,1)\n",
    "# a1[1,1,1]dd"
   ]
  }
 ],
 "metadata": {
  "kernelspec": {
   "display_name": "Python 3",
   "language": "python",
   "name": "python3"
  },
  "language_info": {
   "codemirror_mode": {
    "name": "ipython",
    "version": 3
   },
   "file_extension": ".py",
   "mimetype": "text/x-python",
   "name": "python",
   "nbconvert_exporter": "python",
   "pygments_lexer": "ipython3",
   "version": "3.8.8"
  }
 },
 "nbformat": 4,
 "nbformat_minor": 5
}
