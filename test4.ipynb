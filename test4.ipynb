{
 "cells": [
  {
   "cell_type": "code",
   "execution_count": 30,
   "id": "ab9935f7",
   "metadata": {},
   "outputs": [],
   "source": [
    "import numpy as np\n",
    "import copy\n",
    "def relu(x,kn=1e-3):\n",
    "    y=copy.deepcopy(x) .reshape(-1)\n",
    "    yt=x.reshape(-1)\n",
    "    y[yt<0]=y[yt<0]*kn\n",
    "    y[yt>=0]=y[yt>=0]\n",
    "    y=y.reshape(x.shape)\n",
    "    return y\n",
    "def relu_d(x,kn=1e-3):\n",
    "    y=copy.deepcopy(x) .reshape(-1)\n",
    "#     y=y.reshape(-1)\n",
    "    yt=x.reshape(-1)\n",
    "#     print('yt=',yt)\n",
    "#     print('y=',y)\n",
    "    y[yt<0]=kn\n",
    "    y[yt>=0]=1\n",
    "    print('yt=',yt)\n",
    "    print('y=',y)\n",
    "    print('x=',x)\n",
    "    y=y.reshape(x.shape)\n",
    "    return y"
   ]
  },
  {
   "cell_type": "code",
   "execution_count": 32,
   "id": "fed9637e",
   "metadata": {},
   "outputs": [
    {
     "name": "stdout",
     "output_type": "stream",
     "text": [
      "<function relu at 0x7f14a45b6830>\n",
      "['__annotations__', '__builtins__', '__call__', '__class__', '__closure__', '__code__', '__defaults__', '__delattr__', '__dict__', '__dir__', '__doc__', '__eq__', '__format__', '__ge__', '__get__', '__getattribute__', '__globals__', '__gt__', '__hash__', '__init__', '__init_subclass__', '__kwdefaults__', '__le__', '__lt__', '__module__', '__name__', '__ne__', '__new__', '__qualname__', '__reduce__', '__reduce_ex__', '__repr__', '__setattr__', '__sizeof__', '__str__', '__subclasshook__']\n"
     ]
    }
   ],
   "source": [
    "print(relu)\n",
    "print(dir(relu))"
   ]
  },
  {
   "cell_type": "code",
   "execution_count": 16,
   "id": "e99325bd",
   "metadata": {},
   "outputs": [
    {
     "name": "stdout",
     "output_type": "stream",
     "text": [
      "(3, 2, 2)\n",
      "[[[-6. -5.]\n",
      "  [-4. -3.]]\n",
      "\n",
      " [[-2. -1.]\n",
      "  [ 0.  1.]]\n",
      "\n",
      " [[ 2.  3.]\n",
      "  [ 4.  5.]]]\n"
     ]
    }
   ],
   "source": [
    "a1=np.arange(3*2*2,dtype=np.float32).reshape(3,2,2)\n",
    "# a1=np.arange(3*2*2).reshape(3,2,2)\n",
    "a1=a1-6\n",
    "print(a1.shape)\n",
    "print(a1)"
   ]
  },
  {
   "cell_type": "code",
   "execution_count": 28,
   "id": "94a3da3e",
   "metadata": {},
   "outputs": [
    {
     "data": {
      "text/plain": [
       "array([[[-6.0000001e-03, -5.0000004e-03],\n",
       "        [-4.0000002e-03, -3.0000000e-03]],\n",
       "\n",
       "       [[-2.0000001e-03, -1.0000000e-03],\n",
       "        [ 0.0000000e+00,  1.0000000e+00]],\n",
       "\n",
       "       [[ 2.0000000e+00,  3.0000000e+00],\n",
       "        [ 4.0000000e+00,  5.0000000e+00]]], dtype=float32)"
      ]
     },
     "execution_count": 28,
     "metadata": {},
     "output_type": "execute_result"
    }
   ],
   "source": [
    "relu(a1)"
   ]
  },
  {
   "cell_type": "code",
   "execution_count": 29,
   "id": "ca26d7ee",
   "metadata": {},
   "outputs": [
    {
     "name": "stdout",
     "output_type": "stream",
     "text": [
      "yt= [-6. -5. -4. -3. -2. -1.  0.  1.  2.  3.  4.  5.]\n",
      "y= [0.001 0.001 0.001 0.001 0.001 0.001 1.    1.    1.    1.    1.    1.   ]\n",
      "x= [[[-6. -5.]\n",
      "  [-4. -3.]]\n",
      "\n",
      " [[-2. -1.]\n",
      "  [ 0.  1.]]\n",
      "\n",
      " [[ 2.  3.]\n",
      "  [ 4.  5.]]]\n"
     ]
    },
    {
     "data": {
      "text/plain": [
       "array([[[0.001, 0.001],\n",
       "        [0.001, 0.001]],\n",
       "\n",
       "       [[0.001, 0.001],\n",
       "        [1.   , 1.   ]],\n",
       "\n",
       "       [[1.   , 1.   ],\n",
       "        [1.   , 1.   ]]], dtype=float32)"
      ]
     },
     "execution_count": 29,
     "metadata": {},
     "output_type": "execute_result"
    }
   ],
   "source": [
    "relu_d(a1)"
   ]
  }
 ],
 "metadata": {
  "kernelspec": {
   "display_name": "Python 3 (ipykernel)",
   "language": "python",
   "name": "python3"
  },
  "language_info": {
   "codemirror_mode": {
    "name": "ipython",
    "version": 3
   },
   "file_extension": ".py",
   "mimetype": "text/x-python",
   "name": "python",
   "nbconvert_exporter": "python",
   "pygments_lexer": "ipython3",
   "version": "3.10.2"
  }
 },
 "nbformat": 4,
 "nbformat_minor": 5
}
