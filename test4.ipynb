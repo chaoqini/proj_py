{
 "cells": [
  {
   "cell_type": "code",
   "execution_count": 206,
   "id": "ab9935f7",
   "metadata": {},
   "outputs": [],
   "source": [
    "import numpy as np\n",
    "import copy\n",
    "def relu(x,kn=1e-3):\n",
    "    y=copy.deepcopy(x) \n",
    "    y=y.reshape(-1)\n",
    "    y[y<0]=y[y<0]*0.1\n",
    "    y[y>0]=y[y>0]\n",
    "    y=y.reshape(x.shape)\n",
    "    return y\n",
    "def relu_d(x,kn=1e-3):\n",
    "    y=x.reshape(-1)\n",
    "    yt=y\n",
    "#     print('yt=',yt)\n",
    "#     print('y=',y)\n",
    "    y[yt<0]=0.1\n",
    "    y[yt>=0]=1\n",
    "    print('yt=',yt)\n",
    "    print('y=',y)\n",
    "    y=y.reshape(x.shape)\n",
    "    return y"
   ]
  },
  {
   "cell_type": "code",
   "execution_count": 208,
   "id": "e99325bd",
   "metadata": {},
   "outputs": [
    {
     "name": "stdout",
     "output_type": "stream",
     "text": [
      "(3, 2, 2)\n",
      "[[[-6. -5.]\n",
      "  [-4. -3.]]\n",
      "\n",
      " [[-2. -1.]\n",
      "  [ 0.  1.]]\n",
      "\n",
      " [[ 2.  3.]\n",
      "  [ 4.  5.]]]\n"
     ]
    }
   ],
   "source": [
    "a1=np.arange(3*2*2,dtype=np.float32).reshape(3,2,2)\n",
    "# a1=np.arange(3*2*2).reshape(3,2,2)\n",
    "a1=a1-6\n",
    "print(a1.shape)\n",
    "print(a1)"
   ]
  },
  {
   "cell_type": "code",
   "execution_count": 195,
   "id": "94a3da3e",
   "metadata": {
    "collapsed": true
   },
   "outputs": [
    {
     "data": {
      "text/plain": [
       "array([[[-0.6, -0.5],\n",
       "        [-0.4, -0.3]],\n",
       "\n",
       "       [[-0.2, -0.1],\n",
       "        [ 0. ,  1. ]],\n",
       "\n",
       "       [[ 2. ,  3. ],\n",
       "        [ 4. ,  5. ]]], dtype=float32)"
      ]
     },
     "execution_count": 195,
     "metadata": {},
     "output_type": "execute_result"
    }
   ],
   "source": [
    "relu(a1)"
   ]
  },
  {
   "cell_type": "code",
   "execution_count": 209,
   "id": "ca26d7ee",
   "metadata": {},
   "outputs": [
    {
     "name": "stdout",
     "output_type": "stream",
     "text": [
      "yt= [1. 1. 1. 1. 1. 1. 1. 1. 1. 1. 1. 1.]\n",
      "y= [1. 1. 1. 1. 1. 1. 1. 1. 1. 1. 1. 1.]\n"
     ]
    },
    {
     "data": {
      "text/plain": [
       "array([[[1., 1.],\n",
       "        [1., 1.]],\n",
       "\n",
       "       [[1., 1.],\n",
       "        [1., 1.]],\n",
       "\n",
       "       [[1., 1.],\n",
       "        [1., 1.]]], dtype=float32)"
      ]
     },
     "execution_count": 209,
     "metadata": {},
     "output_type": "execute_result"
    }
   ],
   "source": [
    "relu_d(a1)600.00"
   ]
  }
 ],
 "metadata": {
  "kernelspec": {
   "display_name": "Python 3 (ipykernel)",
   "language": "python",
   "name": "python3"
  },
  "language_info": {
   "codemirror_mode": {
    "name": "ipython",
    "version": 3
   },
   "file_extension": ".py",
   "mimetype": "text/x-python",
   "name": "python",
   "nbconvert_exporter": "python",
   "pygments_lexer": "ipython3",
   "version": "3.10.2"
  }
 },
 "nbformat": 4,
 "nbformat_minor": 5
}
