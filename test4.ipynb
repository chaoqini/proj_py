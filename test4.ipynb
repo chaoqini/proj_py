{
 "cells": [
  {
   "cell_type": "code",
   "execution_count": 1,
   "id": "ab9935f7",
   "metadata": {},
   "outputs": [],
   "source": [
    "import numpy as np"
   ]
  },
  {
   "cell_type": "code",
   "execution_count": 57,
   "id": "e99325bd",
   "metadata": {},
   "outputs": [
    {
     "data": {
      "text/plain": [
       "array([[[0, 1],\n",
       "        [2, 3]],\n",
       "\n",
       "       [[4, 5],\n",
       "        [6, 7]]])"
      ]
     },
     "execution_count": 57,
     "metadata": {},
     "output_type": "execute_result"
    }
   ],
   "source": [
    "a1=np.arange(2*2*2).reshape(2,2,2)\n",
    "b1=np.arange(2*2*2).reshape(2,2,2)\n",
    "# np.sqrt(a1)\n",
    "a1"
   ]
  },
  {
   "cell_type": "code",
   "execution_count": 63,
   "id": "b6278a49",
   "metadata": {},
   "outputs": [
    {
     "data": {
      "text/plain": [
       "7"
      ]
     },
     "execution_count": 63,
     "metadata": {},
     "output_type": "execute_result"
    }
   ],
   "source": [
    "np.max(a1)"
   ]
  },
  {
   "cell_type": "code",
   "execution_count": 62,
   "id": "20bf8ba8",
   "metadata": {
    "scrolled": true
   },
   "outputs": [
    {
     "data": {
      "text/plain": [
       "(array([1]), array([1]), array([1]))"
      ]
     },
     "execution_count": 62,
     "metadata": {},
     "output_type": "execute_result"
    }
   ],
   "source": [
    "c1=np.where(a1==np.max(a1)) \n",
    "c1"
   ]
  },
  {
   "cell_type": "code",
   "execution_count": 71,
   "id": "90daa0fc",
   "metadata": {},
   "outputs": [
    {
     "data": {
      "text/plain": [
       "(array([0]), array([1]), array([1]))"
      ]
     },
     "execution_count": 71,
     "metadata": {},
     "output_type": "execute_result"
    }
   ],
   "source": [
    "c1=np.where(a1==3) \n",
    "c1\n",
    "# np.squeeze(c1)"
   ]
  },
  {
   "cell_type": "code",
   "execution_count": 80,
   "id": "54cc39c8",
   "metadata": {},
   "outputs": [
    {
     "data": {
      "text/plain": [
       "array([[[-0.95464935],\n",
       "        [-0.86855607],\n",
       "        [-1.17893517],\n",
       "        [-2.46958949],\n",
       "        [ 0.31272908],\n",
       "        [ 0.02163794]],\n",
       "\n",
       "       [[ 0.51423974],\n",
       "        [-0.7738582 ],\n",
       "        [-2.09798212],\n",
       "        [ 1.37425338],\n",
       "        [-1.77674902],\n",
       "        [ 0.27782736]],\n",
       "\n",
       "       [[-0.03341532],\n",
       "        [ 0.44036294],\n",
       "        [-1.5156224 ],\n",
       "        [ 0.20518197],\n",
       "        [-0.6846249 ],\n",
       "        [-0.2908424 ]]])"
      ]
     },
     "execution_count": 80,
     "metadata": {},
     "output_type": "execute_result"
    }
   ],
   "source": [
    "a1=np.random.randn(3,6,1)\n",
    "a1"
   ]
  },
  {
   "cell_type": "code",
   "execution_count": 81,
   "id": "aa7182c0",
   "metadata": {},
   "outputs": [
    {
     "data": {
      "text/plain": [
       "9"
      ]
     },
     "execution_count": 81,
     "metadata": {},
     "output_type": "execute_result"
    }
   ],
   "source": [
    "d1=np.argmax(a1)\n",
    "d1"
   ]
  }
 ],
 "metadata": {
  "kernelspec": {
   "display_name": "Python 3 (ipykernel)",
   "language": "python",
   "name": "python3"
  },
  "language_info": {
   "codemirror_mode": {
    "name": "ipython",
    "version": 3
   },
   "file_extension": ".py",
   "mimetype": "text/x-python",
   "name": "python",
   "nbconvert_exporter": "python",
   "pygments_lexer": "ipython3",
   "version": "3.10.2"
  }
 },
 "nbformat": 4,
 "nbformat_minor": 5
}
