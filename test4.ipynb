{
 "cells": [
  {
   "cell_type": "code",
   "execution_count": 2,
   "id": "ab9935f7",
   "metadata": {},
   "outputs": [],
   "source": [
    "import numpy as np\n",
    "import copy\n",
    "def relu(x,kn=1e-3):\n",
    "    y=copy.deepcopy(x) .reshape(-1)\n",
    "    yt=x.reshape(-1)\n",
    "    y[yt<0]=y[yt<0]*kn\n",
    "    y[yt>=0]=y[yt>=0]\n",
    "    y=y.reshape(x.shape)\n",
    "    return y\n",
    "def relu_d(x,kn=1e-3):\n",
    "    y=copy.deepcopy(x) .reshape(-1)\n",
    "#     y=y.reshape(-1)\n",
    "    yt=x.reshape(-1)\n",
    "#     print('yt=',yt)\n",
    "#     print('y=',y)\n",
    "    y[yt<0]=kn\n",
    "    y[yt>=0]=1\n",
    "    print('yt=',yt)\n",
    "    print('y=',y)\n",
    "    print('x=',x)\n",
    "    y=y.reshape(x.shape)\n",
    "    return y"
   ]
  },
  {
   "cell_type": "code",
   "execution_count": 3,
   "id": "fed9637e",
   "metadata": {},
   "outputs": [
    {
     "name": "stdout",
     "output_type": "stream",
     "text": [
      "<function relu at 0x7fd12ea56ef0>\n",
      "['__annotations__', '__builtins__', '__call__', '__class__', '__closure__', '__code__', '__defaults__', '__delattr__', '__dict__', '__dir__', '__doc__', '__eq__', '__format__', '__ge__', '__get__', '__getattribute__', '__globals__', '__gt__', '__hash__', '__init__', '__init_subclass__', '__kwdefaults__', '__le__', '__lt__', '__module__', '__name__', '__ne__', '__new__', '__qualname__', '__reduce__', '__reduce_ex__', '__repr__', '__setattr__', '__sizeof__', '__str__', '__subclasshook__']\n"
     ]
    }
   ],
   "source": [
    "print(relu)\n",
    "print(dir(relu))"
   ]
  },
  {
   "cell_type": "code",
   "execution_count": 4,
   "id": "e99325bd",
   "metadata": {},
   "outputs": [
    {
     "name": "stdout",
     "output_type": "stream",
     "text": [
      "(3, 2, 2)\n",
      "[[[-6. -5.]\n",
      "  [-4. -3.]]\n",
      "\n",
      " [[-2. -1.]\n",
      "  [ 0.  1.]]\n",
      "\n",
      " [[ 2.  3.]\n",
      "  [ 4.  5.]]]\n"
     ]
    }
   ],
   "source": [
    "a1=np.arange(3*2*2,dtype=np.float32).reshape(3,2,2)\n",
    "# a1=np.arange(3*2*2).reshape(3,2,2)\n",
    "a1=a1-6\n",
    "print(a1.shape)\n",
    "print(a1)"
   ]
  },
  {
   "cell_type": "code",
   "execution_count": 5,
   "id": "94a3da3e",
   "metadata": {},
   "outputs": [
    {
     "data": {
      "text/plain": [
       "array([[[-6.0000001e-03, -5.0000004e-03],\n",
       "        [-4.0000002e-03, -3.0000000e-03]],\n",
       "\n",
       "       [[-2.0000001e-03, -1.0000000e-03],\n",
       "        [ 0.0000000e+00,  1.0000000e+00]],\n",
       "\n",
       "       [[ 2.0000000e+00,  3.0000000e+00],\n",
       "        [ 4.0000000e+00,  5.0000000e+00]]], dtype=float32)"
      ]
     },
     "execution_count": 5,
     "metadata": {},
     "output_type": "execute_result"
    }
   ],
   "source": [
    "relu(a1)"
   ]
  },
  {
   "cell_type": "code",
   "execution_count": 6,
   "id": "ca26d7ee",
   "metadata": {},
   "outputs": [
    {
     "name": "stdout",
     "output_type": "stream",
     "text": [
      "yt= [-6. -5. -4. -3. -2. -1.  0.  1.  2.  3.  4.  5.]\n",
      "y= [0.001 0.001 0.001 0.001 0.001 0.001 1.    1.    1.    1.    1.    1.   ]\n",
      "x= [[[-6. -5.]\n",
      "  [-4. -3.]]\n",
      "\n",
      " [[-2. -1.]\n",
      "  [ 0.  1.]]\n",
      "\n",
      " [[ 2.  3.]\n",
      "  [ 4.  5.]]]\n"
     ]
    },
    {
     "data": {
      "text/plain": [
       "array([[[0.001, 0.001],\n",
       "        [0.001, 0.001]],\n",
       "\n",
       "       [[0.001, 0.001],\n",
       "        [1.   , 1.   ]],\n",
       "\n",
       "       [[1.   , 1.   ],\n",
       "        [1.   , 1.   ]]], dtype=float32)"
      ]
     },
     "execution_count": 6,
     "metadata": {},
     "output_type": "execute_result"
    }
   ],
   "source": [
    "relu_d(a1)"
   ]
  },
  {
   "cell_type": "code",
   "execution_count": 9,
   "id": "1ed1495e",
   "metadata": {},
   "outputs": [
    {
     "name": "stdout",
     "output_type": "stream",
     "text": [
      "<class 'numpy.ndarray'>\n",
      "['T', '__abs__', '__add__', '__and__', '__array__', '__array_finalize__', '__array_function__', '__array_interface__', '__array_prepare__', '__array_priority__', '__array_struct__', '__array_ufunc__', '__array_wrap__', '__bool__', '__class__', '__class_getitem__', '__complex__', '__contains__', '__copy__', '__deepcopy__', '__delattr__', '__delitem__', '__dir__', '__divmod__', '__dlpack__', '__dlpack_device__', '__doc__', '__eq__', '__float__', '__floordiv__', '__format__', '__ge__', '__getattribute__', '__getitem__', '__gt__', '__hash__', '__iadd__', '__iand__', '__ifloordiv__', '__ilshift__', '__imatmul__', '__imod__', '__imul__', '__index__', '__init__', '__init_subclass__', '__int__', '__invert__', '__ior__', '__ipow__', '__irshift__', '__isub__', '__iter__', '__itruediv__', '__ixor__', '__le__', '__len__', '__lshift__', '__lt__', '__matmul__', '__mod__', '__mul__', '__ne__', '__neg__', '__new__', '__or__', '__pos__', '__pow__', '__radd__', '__rand__', '__rdivmod__', '__reduce__', '__reduce_ex__', '__repr__', '__rfloordiv__', '__rlshift__', '__rmatmul__', '__rmod__', '__rmul__', '__ror__', '__rpow__', '__rrshift__', '__rshift__', '__rsub__', '__rtruediv__', '__rxor__', '__setattr__', '__setitem__', '__setstate__', '__sizeof__', '__str__', '__sub__', '__subclasshook__', '__truediv__', '__xor__', 'all', 'any', 'argmax', 'argmin', 'argpartition', 'argsort', 'astype', 'base', 'byteswap', 'choose', 'clip', 'compress', 'conj', 'conjugate', 'copy', 'ctypes', 'cumprod', 'cumsum', 'data', 'diagonal', 'dot', 'dtype', 'dump', 'dumps', 'fill', 'flags', 'flat', 'flatten', 'getfield', 'imag', 'item', 'itemset', 'itemsize', 'max', 'mean', 'min', 'nbytes', 'ndim', 'newbyteorder', 'nonzero', 'partition', 'prod', 'ptp', 'put', 'ravel', 'real', 'repeat', 'reshape', 'resize', 'round', 'searchsorted', 'setfield', 'setflags', 'shape', 'size', 'sort', 'squeeze', 'std', 'strides', 'sum', 'swapaxes', 'take', 'tobytes', 'tofile', 'tolist', 'tostring', 'trace', 'transpose', 'var', 'view']\n"
     ]
    },
    {
     "data": {
      "text/plain": [
       "<method-wrapper '__getattribute__' of numpy.ndarray object at 0x7fd0fde4d530>"
      ]
     },
     "execution_count": 9,
     "metadata": {},
     "output_type": "execute_result"
    }
   ],
   "source": [
    "print(type(a1))\n",
    "print(dir(a1))\n",
    "a1.__getattribute__"
   ]
  },
  {
   "cell_type": "code",
   "execution_count": 10,
   "id": "39ee4888",
   "metadata": {},
   "outputs": [
    {
     "name": "stdout",
     "output_type": "stream",
     "text": [
      "<class 'numpy.ndarray'>\n",
      "['T', '__abs__', '__add__', '__and__', '__array__', '__array_finalize__', '__array_function__', '__array_interface__', '__array_prepare__', '__array_priority__', '__array_struct__', '__array_ufunc__', '__array_wrap__', '__bool__', '__class__', '__class_getitem__', '__complex__', '__contains__', '__copy__', '__deepcopy__', '__delattr__', '__delitem__', '__dir__', '__divmod__', '__dlpack__', '__dlpack_device__', '__doc__', '__eq__', '__float__', '__floordiv__', '__format__', '__ge__', '__getattribute__', '__getitem__', '__gt__', '__hash__', '__iadd__', '__iand__', '__ifloordiv__', '__ilshift__', '__imatmul__', '__imod__', '__imul__', '__index__', '__init__', '__init_subclass__', '__int__', '__invert__', '__ior__', '__ipow__', '__irshift__', '__isub__', '__iter__', '__itruediv__', '__ixor__', '__le__', '__len__', '__lshift__', '__lt__', '__matmul__', '__mod__', '__mul__', '__ne__', '__neg__', '__new__', '__or__', '__pos__', '__pow__', '__radd__', '__rand__', '__rdivmod__', '__reduce__', '__reduce_ex__', '__repr__', '__rfloordiv__', '__rlshift__', '__rmatmul__', '__rmod__', '__rmul__', '__ror__', '__rpow__', '__rrshift__', '__rshift__', '__rsub__', '__rtruediv__', '__rxor__', '__setattr__', '__setitem__', '__setstate__', '__sizeof__', '__str__', '__sub__', '__subclasshook__', '__truediv__', '__xor__', 'all', 'any', 'argmax', 'argmin', 'argpartition', 'argsort', 'astype', 'base', 'byteswap', 'choose', 'clip', 'compress', 'conj', 'conjugate', 'copy', 'ctypes', 'cumprod', 'cumsum', 'data', 'diagonal', 'dot', 'dtype', 'dump', 'dumps', 'fill', 'flags', 'flat', 'flatten', 'getfield', 'imag', 'item', 'itemset', 'itemsize', 'max', 'mean', 'min', 'nbytes', 'ndim', 'newbyteorder', 'nonzero', 'partition', 'prod', 'ptp', 'put', 'ravel', 'real', 'repeat', 'reshape', 'resize', 'round', 'searchsorted', 'setfield', 'setflags', 'shape', 'size', 'sort', 'squeeze', 'std', 'strides', 'sum', 'swapaxes', 'take', 'tobytes', 'tofile', 'tolist', 'tostring', 'trace', 'transpose', 'var', 'view']\n"
     ]
    },
    {
     "data": {
      "text/plain": [
       "<method-wrapper '__getattribute__' of numpy.ndarray object at 0x7fd0fde4d530>"
      ]
     },
     "execution_count": 10,
     "metadata": {},
     "output_type": "execute_result"
    }
   ],
   "source": [
    "print(type(a1))\n",
    "print(dir(a1))\n",
    "a1.__getattribute__"
   ]
  }
 ],
 "metadata": {
  "kernelspec": {
   "display_name": "Python 3 (ipykernel)",
   "language": "python",
   "name": "python3"
  },
  "language_info": {
   "codemirror_mode": {
    "name": "ipython",
    "version": 3
   },
   "file_extension": ".py",
   "mimetype": "text/x-python",
   "name": "python",
   "nbconvert_exporter": "python",
   "pygments_lexer": "ipython3",
   "version": "3.10.2"
  }
 },
 "nbformat": 4,
 "nbformat_minor": 5
}
