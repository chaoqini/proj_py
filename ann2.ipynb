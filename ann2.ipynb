{
 "cells": [
  {
   "cell_type": "code",
   "execution_count": null,
   "id": "bc8bc8d5",
   "metadata": {},
   "outputs": [
    {
     "name": "stdout",
     "output_type": "stream",
     "text": [
      "init_params: ch= [1, 8, 12, 16, 20, 24, 10]\n",
      "heyperparams_test: ...\n",
      "heyperparams_test: layers = 6\n",
      "heyperparams_test: learning rate lr0 = 0.002\n",
      "heyperparams_test: learning rate klr = 0.9995\n",
      "heyperparams_test: batch = 64\n",
      "heyperparams_test: isupdate = 0\n",
      "params k0.shape= (8, 1, 3, 3)\n",
      "params gama0.shape= (8, 1, 1)\n",
      "params beta0.shape= (8, 1, 1)\n",
      "params k1.shape= (12, 8, 3, 3)\n",
      "params gama1.shape= (12, 1, 1)\n",
      "params beta1.shape= (12, 1, 1)\n",
      "params k2.shape= (16, 12, 3, 3)\n",
      "params gama2.shape= (16, 1, 1)\n",
      "params beta2.shape= (16, 1, 1)\n",
      "params k3.shape= (20, 16, 3, 3)\n",
      "params gama3.shape= (20, 1, 1)\n",
      "params beta3.shape= (20, 1, 1)\n",
      "params k4.shape= (24, 20, 3, 3)\n",
      "params gama4.shape= (24, 1, 1)\n",
      "params beta4.shape= (24, 1, 1)\n",
      "params w5.shape= (10, 24, 28, 28)\n",
      "active function g[0] is: Relu\n",
      "active function g[1] is: Relu\n",
      "active function g[2] is: Relu\n",
      "active function g[3] is: Relu\n",
      "active function g[4] is: Relu\n",
      "active function g[5] is: softmax\n",
      "active function g[6] is: cross_entropy\n",
      "============================================================\n",
      "hyperparams_test runing iteration = 1/18\n",
      "hyperparams_test runing: lri = 2.000e-03\n",
      "Hyperparams_test: L2_normalize_k0 = 1.10e-01\n",
      "Hyperparams_test: L2_normalize_gama0 = 3.54e-01\n",
      "Hyperparams_test: L2_normalize_beta0 = 0.00e+00\n",
      "Hyperparams_test: L2_normalize_k1 = 3.43e-02\n",
      "Hyperparams_test: L2_normalize_gama1 = 2.89e-01\n",
      "Hyperparams_test: L2_normalize_beta1 = 0.00e+00\n",
      "Hyperparams_test: L2_normalize_k2 = 2.45e-02\n",
      "Hyperparams_test: L2_normalize_gama2 = 2.50e-01\n",
      "Hyperparams_test: L2_normalize_beta2 = 0.00e+00\n",
      "Hyperparams_test: L2_normalize_k3 = 1.84e-02\n",
      "Hyperparams_test: L2_normalize_gama3 = 2.24e-01\n",
      "Hyperparams_test: L2_normalize_beta3 = 0.00e+00\n",
      "Hyperparams_test: L2_normalize_k4 = 1.53e-02\n",
      "Hyperparams_test: L2_normalize_gama4 = 2.04e-01\n",
      "Hyperparams_test: L2_normalize_beta4 = 0.00e+00\n",
      "Hyperparams_test: L2_normalize_w5 = 2.30e-03\n",
      "Train input X.shape=(781, 64, 1, 28, 28), LAB.shape=(781, 64, 1, 1)\n",
      "Training bath running ...\n",
      "Training iteration number = 0/781\n"
     ]
    }
   ],
   "source": [
    "import ann\n",
    "import numpy as np\n",
    "import pickle\n",
    "import imp\n",
    "# imp.reload(ann)\n",
    "(params,params_init,g)=ann.init_params(lays=6,imchin=8,dimch=4)\n",
    "params=ann.hyperparams_test(params,params_init,g,nloop=18,batch=64,isl2grad=1)\n",
    "with open('ann_p2.pkl', 'wb') as f: pickle.dump(params,f)\n",
    "with open('ann_p2.pkl', 'rb') as f: params2=pickle.load(f)\n",
    "for k,v in params2.items(): print('%s.shape='%k,v.shape)\n",
    "ann.show(params,g)\n"
   ]
  }
 ],
 "metadata": {
  "kernelspec": {
   "display_name": "Python 3",
   "language": "python",
   "name": "python3"
  },
  "language_info": {
   "codemirror_mode": {
    "name": "ipython",
    "version": 3
   },
   "file_extension": ".py",
   "mimetype": "text/x-python",
   "name": "python",
   "nbconvert_exporter": "python",
   "pygments_lexer": "ipython3",
   "version": "3.8.8"
  }
 },
 "nbformat": 4,
 "nbformat_minor": 5
}
