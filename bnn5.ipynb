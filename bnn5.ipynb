{
 "cells": [
  {
   "cell_type": "code",
   "execution_count": null,
   "id": "071243f7",
   "metadata": {},
   "outputs": [
    {
     "name": "stdout",
     "output_type": "stream",
     "text": [
      "heyperparams_test: ...\n",
      "heyperparams_test: layers = 3\n",
      "heyperparams_test: learning rate lr0 = 0.002\n",
      "heyperparams_test: learning rate klr = 0.9995\n",
      "heyperparams_test: batch = 64\n",
      "heyperparams_test: isupdate = 0\n",
      "params b0.shape= (512, 1)\n",
      "params w0.shape= (512, 784)\n",
      "params beta0.shape= ()\n",
      "params gama0.shape= ()\n",
      "params b1.shape= (512, 1)\n",
      "params w1.shape= (512, 512)\n",
      "params beta1.shape= ()\n",
      "params gama1.shape= ()\n",
      "params b2.shape= (10, 1)\n",
      "params w2.shape= (10, 512)\n",
      "params beta2.shape= ()\n",
      "params gama2.shape= ()\n",
      "active function g[0] is: relu\n",
      "active function g[1] is: relu\n",
      "active function g[2] is: softmax\n",
      "active function g[3] is: cross_entropy\n",
      "============================================================\n",
      "hyperparams_test runing iteration = 1/9\n",
      "hyperparams_test runing: lri = 2.000e-03\n",
      "Hyperparams_test: L2_normalize_b0 = 0.00e+00\n",
      "Hyperparams_test: L2_normalize_w0 = 1.58e-06\n",
      "Hyperparams_test: L2_normalize_beta0 = 0.00e+00\n",
      "Hyperparams_test: L2_normalize_gama0 = 1.00e+00\n",
      "Hyperparams_test: L2_normalize_b1 = 0.00e+00\n",
      "Hyperparams_test: L2_normalize_w1 = 1.95e-06\n",
      "Hyperparams_test: L2_normalize_beta1 = 0.00e+00\n",
      "Hyperparams_test: L2_normalize_gama1 = 1.00e+00\n",
      "Hyperparams_test: L2_normalize_b2 = 0.00e+00\n",
      "Hyperparams_test: L2_normalize_w2 = 1.38e-05\n",
      "Hyperparams_test: L2_normalize_beta2 = 0.00e+00\n",
      "Hyperparams_test: L2_normalize_gama2 = 1.00e+00\n",
      "Train input X.shape=(781, 64, 784, 1), LAB.shape=(781, 64, 1, 1)\n",
      "Training bath running ...\n",
      "Training iteration number = 0/781\n",
      "Training iteration number = 78/781\n",
      "Training iteration number = 156/781\n",
      "Training iteration number = 234/781\n",
      "Training iteration number = 312/781\n",
      "Training iteration number = 390/781\n"
     ]
    }
   ],
   "source": [
    "import bnn\n",
    "import numpy as np\n",
    "import imp\n",
    "imp.reload(bnn)\n",
    "(params,params_init,g,g_d,l2_grad)=bnn.bnn.init_params(lays=3,nnode=512)\n",
    "bnn.hyperparams_test(params,params_init,g,g_d,nloop=9,lr0=2e-3,klr=0.9995,batch=64,isupdate=0,isl2grad=1)"
   ]
  },
  {
   "cell_type": "code",
   "execution_count": null,
   "id": "a1a488f7",
   "metadata": {},
   "outputs": [
    {
     "name": "stdout",
     "output_type": "stream",
     "text": [
      "heyperparams_test: ...\n",
      "heyperparams_test: layers = 5\n",
      "heyperparams_test: learning rate lr0 = 0.002\n",
      "heyperparams_test: learning rate klr = 0.9995\n",
      "heyperparams_test: batch = 40\n",
      "heyperparams_test: isupdate = 1\n",
      "params b0.shape= (600, 1)\n",
      "params w0.shape= (600, 784)\n",
      "params beta0.shape= (600, 1)\n",
      "params gama0.shape= (600, 1)\n",
      "params b1.shape= (600, 1)\n",
      "params w1.shape= (600, 600)\n",
      "params beta1.shape= (600, 1)\n",
      "params gama1.shape= (600, 1)\n",
      "params b2.shape= (600, 1)\n",
      "params w2.shape= (600, 600)\n",
      "params beta2.shape= (600, 1)\n",
      "params gama2.shape= (600, 1)\n",
      "params b3.shape= (600, 1)\n",
      "params w3.shape= (600, 600)\n",
      "params beta3.shape= (600, 1)\n",
      "params gama3.shape= (600, 1)\n",
      "params b4.shape= (10, 1)\n",
      "params w4.shape= (10, 600)\n",
      "params beta4.shape= (10, 1)\n",
      "params gama4.shape= (10, 1)\n",
      "active function g[0] is: relu\n",
      "active function g[1] is: relu\n",
      "active function g[2] is: relu\n",
      "active function g[3] is: relu\n",
      "active function g[4] is: softmax\n",
      "active function g[5] is: cross_entropy\n",
      "============================================================\n",
      "hyperparams_test runing iteration = 1/9\n",
      "hyperparams_test runing: lri = 2.000e-03\n",
      "Hyperparams_test: L2_normalize_b0 = 0.00e+00\n",
      "Hyperparams_test: L2_normalize_w0 = 1.46e-06\n",
      "Hyperparams_test: L2_normalize_beta0 = 0.00e+00\n",
      "Hyperparams_test: L2_normalize_gama0 = 4.01e-05\n",
      "Hyperparams_test: L2_normalize_b1 = 0.00e+00\n",
      "Hyperparams_test: L2_normalize_w1 = 1.67e-06\n",
      "Hyperparams_test: L2_normalize_beta1 = 0.00e+00\n",
      "Hyperparams_test: L2_normalize_gama1 = 3.90e-05\n",
      "Hyperparams_test: L2_normalize_b2 = 0.00e+00\n",
      "Hyperparams_test: L2_normalize_w2 = 1.67e-06\n",
      "Hyperparams_test: L2_normalize_beta2 = 0.00e+00\n",
      "Hyperparams_test: L2_normalize_gama2 = 4.21e-05\n",
      "Hyperparams_test: L2_normalize_b3 = 0.00e+00\n",
      "Hyperparams_test: L2_normalize_w3 = 1.66e-06\n",
      "Hyperparams_test: L2_normalize_beta3 = 0.00e+00\n",
      "Hyperparams_test: L2_normalize_gama3 = 4.00e-05\n",
      "Hyperparams_test: L2_normalize_b4 = 0.00e+00\n",
      "Hyperparams_test: L2_normalize_w4 = 1.31e-05\n",
      "Hyperparams_test: L2_normalize_beta4 = 0.00e+00\n",
      "Hyperparams_test: L2_normalize_gama4 = 2.19e-04\n",
      "Train input X.shape=(1250, 40, 784, 1), LAB.shape=(1250, 40, 1, 1)\n",
      "Training bath running ...\n",
      "Training iteration number = 0/1250\n",
      "Training iteration number = 125/1250\n",
      "Training iteration number = 250/1250\n",
      "Training iteration number = 375/1250\n",
      "Training iteration number = 500/1250\n",
      "Training iteration number = 625/1250\n",
      "Training iteration number = 750/1250\n",
      "Training iteration number = 875/1250\n",
      "Training iteration number = 1000/1250\n",
      "Training iteration number = 1125/1250\n",
      "Training iteration number = 1249/1250\n"
     ]
    },
    {
     "data": {
      "image/png": "[encoded data removed]",
      "text/plain": [
       "<Figure size 432x288 with 2 Axes>"
      ]
     },
     "metadata": {
      "needs_background": "light"
     },
     "output_type": "display_data"
    },
    {
     "name": "stdout",
     "output_type": "stream",
     "text": [
      "Valid percent is : 93.28%\n",
      "Valid_train percent is : 92.67%\n",
      "============================================================\n",
      "hyperparams_test runing iteration = 2/9\n",
      "hyperparams_test runing: lri = 1.071e-03\n",
      "Hyperparams_test: L2_normalize_b0 = 0.00e+00\n",
      "Hyperparams_test: L2_normalize_w0 = 8.71e-05\n",
      "Hyperparams_test: L2_normalize_beta0 = 8.87e-04\n",
      "Hyperparams_test: L2_normalize_gama0 = 1.74e-03\n",
      "Hyperparams_test: L2_normalize_b1 = 0.00e+00\n",
      "Hyperparams_test: L2_normalize_w1 = 4.15e-05\n",
      "Hyperparams_test: L2_normalize_beta1 = 7.29e-04\n",
      "Hyperparams_test: L2_normalize_gama1 = 1.37e-03\n",
      "Hyperparams_test: L2_normalize_b2 = 0.00e+00\n",
      "Hyperparams_test: L2_normalize_w2 = 3.25e-05\n",
      "Hyperparams_test: L2_normalize_beta2 = 8.23e-04\n",
      "Hyperparams_test: L2_normalize_gama2 = 1.63e-03\n",
      "Hyperparams_test: L2_normalize_b3 = 0.00e+00\n",
      "Hyperparams_test: L2_normalize_w3 = 3.30e-05\n",
      "Hyperparams_test: L2_normalize_beta3 = 7.73e-04\n",
      "Hyperparams_test: L2_normalize_gama3 = 1.67e-03\n",
      "Hyperparams_test: L2_normalize_b4 = 0.00e+00\n",
      "Hyperparams_test: L2_normalize_w4 = 3.76e-04\n",
      "Hyperparams_test: L2_normalize_beta4 = 1.99e-02\n",
      "Hyperparams_test: L2_normalize_gama4 = 4.11e-01\n",
      "Train input X.shape=(1250, 40, 784, 1), LAB.shape=(1250, 40, 1, 1)\n",
      "Training bath running ...\n",
      "Training iteration number = 0/1250\n",
      "Training iteration number = 125/1250\n"
     ]
    }
   ],
   "source": [
    "import bnn\n",
    "import numpy as np\n",
    "import imp\n",
    "imp.reload(bnn)\n",
    "(params,params_init,g,g_d)=bnn.bnn.init_params(lays=5,nnode=600)\n",
    "bnn.hyperparams_test(params,params_init,g,g_d,nloop=9,lr0=2e-3,klr=0.9995,batch=40,isupdate=1)\n"
   ]
  }
 ],
 "metadata": {
  "kernelspec": {
   "display_name": "Python 3",
   "language": "python",
   "name": "python3"
  },
  "language_info": {
   "codemirror_mode": {
    "name": "ipython",
    "version": 3
   },
   "file_extension": ".py",
   "mimetype": "text/x-python",
   "name": "python",
   "nbconvert_exporter": "python",
   "pygments_lexer": "ipython3",
   "version": "3.8.8"
  }
 },
 "nbformat": 4,
 "nbformat_minor": 5
}
