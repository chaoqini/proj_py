{
 "cells": [
  {
   "cell_type": "code",
   "execution_count": 358,
   "id": "db707aab",
   "metadata": {
    "collapsed": true
   },
   "outputs": [
    {
     "name": "stdout",
     "output_type": "stream",
     "text": [
      "a1.shape= (3, 3, 3)\n",
      "b1.shape= (3, 3, 3)\n",
      "a1=\n",
      "[[[ 0  1  2]\n",
      "  [ 3  4  5]\n",
      "  [ 6  7  8]]\n",
      "\n",
      " [[ 9 10 11]\n",
      "  [12 13 14]\n",
      "  [15 16 17]]\n",
      "\n",
      " [[18 19 20]\n",
      "  [21 22 23]\n",
      "  [24 25 26]]]\n",
      "b1=\n",
      "[[[1. 1. 1.]\n",
      "  [1. 1. 1.]\n",
      "  [1. 1. 1.]]\n",
      "\n",
      " [[1. 1. 1.]\n",
      "  [1. 1. 1.]\n",
      "  [1. 1. 1.]]\n",
      "\n",
      " [[1. 1. 1.]\n",
      "  [1. 1. 1.]\n",
      "  [1. 1. 1.]]]\n"
     ]
    }
   ],
   "source": [
    "import numpy as np\n",
    "mm=3;rr=3;cc=3\n",
    "a1=np.arange(mm*rr*cc).reshape(mm,rr,cc)\n",
    "b1=np.ones((3,3,3))\n",
    "# o1=np.ones((3,1))\n",
    "# b2=np.array([o1,o1*3,o1*21])\n",
    "print('a1.shape=',a1.shape)\n",
    "print('b1.shape=',b1.shape)\n",
    "print('a1=')\n",
    "print(a1)\n",
    "print('b1=')\n",
    "print(b1)"
   ]
  },
  {
   "cell_type": "code",
   "execution_count": 32,
   "id": "9b58ec90",
   "metadata": {},
   "outputs": [
    {
     "name": "stdout",
     "output_type": "stream",
     "text": [
      "a1=\n",
      " [[[ 2  3  4  5]\n",
      "  [ 6  7  8  9]\n",
      "  [10 11 12 13]]\n",
      "\n",
      " [[14 15 16 17]\n",
      "  [18 19 20 21]\n",
      "  [22 23 24 25]]]\n",
      "b1=\n",
      " [ 7.5 19.5]\n",
      "c1=\n",
      " [[[ 7.5]]\n",
      "\n",
      " [[19.5]]]\n",
      "b1.shape= (2,)\n",
      "c1.shape= (2, 1, 1)\n",
      "a1.shape= (2, 3, 4)\n"
     ]
    },
    {
     "data": {
      "text/plain": [
       "(3, 4)"
      ]
     },
     "execution_count": 32,
     "metadata": {},
     "output_type": "execute_result"
    }
   ],
   "source": [
    "import numpy as np\n",
    "a1=np.arange(2*3*4).reshape(2,3,4)+2\n",
    "print('a1=\\n',a1)\n",
    "b1=np.mean(a1,axis=(1,2))\n",
    "c1=np.mean(a1,axis=(1,2),keepdims=1)\n",
    "# b1=np.mean(np.mean(a1,axis=1),axis=1)\n",
    "print('b1=\\n',b1)\n",
    "print('c1=\\n',c1)\n",
    "print('b1.shape=',b1.shape)\n",
    "print('c1.shape=',c1.shape)\n",
    "print('a1.shape=',a1.shape)\n",
    "a1.shape[1:3]"
   ]
  },
  {
   "cell_type": "code",
   "execution_count": 60,
   "id": "54e5a4bc",
   "metadata": {},
   "outputs": [
    {
     "name": "stdout",
     "output_type": "stream",
     "text": [
      "a1=\n",
      " [[[ 0  1  2  3]\n",
      "  [ 4  5  6  7]\n",
      "  [ 8  9 10 11]]\n",
      "\n",
      " [[12 13 14 15]\n",
      "  [16 17 18 19]\n",
      "  [20 21 22 23]]]\n",
      "b1=\n",
      " [[[ 0  0  0  0  0  0]\n",
      "  [ 0  0  1  2  3  0]\n",
      "  [ 0  4  5  6  7  0]\n",
      "  [ 0  8  9 10 11  0]\n",
      "  [ 0  0  0  0  0  0]]\n",
      "\n",
      " [[ 0  0  0  0  0  0]\n",
      "  [ 0 12 13 14 15  0]\n",
      "  [ 0 16 17 18 19  0]\n",
      "  [ 0 20 21 22 23  0]\n",
      "  [ 0  0  0  0  0  0]]]\n"
     ]
    }
   ],
   "source": [
    "import numpy as np\n",
    "a1=np.arange(2*3*4).reshape(2,3,4)\n",
    "print('a1=\\n',a1)\n",
    "# b1=np.pad(a1,((1,1),()))\n",
    "# b1=np.pad( a1 , pad_width=((1,1),(1,1)) )\n",
    "# b1=np.pad( a1 , ((0,0),(1,1),(1,1)) )\n",
    "b1=np.pad( a1 , ((0,0),(1,1),(1,1)) )\n",
    "print('b1=\\n',b1)"
   ]
  }
 ],
 "metadata": {
  "kernelspec": {
   "display_name": "Python 3",
   "language": "python",
   "name": "python3"
  },
  "language_info": {
   "codemirror_mode": {
    "name": "ipython",
    "version": 3
   },
   "file_extension": ".py",
   "mimetype": "text/x-python",
   "name": "python",
   "nbconvert_exporter": "python",
   "pygments_lexer": "ipython3",
   "version": "3.8.8"
  }
 },
 "nbformat": 4,
 "nbformat_minor": 5
}
