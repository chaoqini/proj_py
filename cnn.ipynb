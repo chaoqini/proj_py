{
 "cells": [
  {
   "cell_type": "code",
   "execution_count": 14,
   "id": "c58887ae",
   "metadata": {},
   "outputs": [
    {
     "name": "stdout",
     "output_type": "stream",
     "text": [
      "params.keys()=\n",
      " dict_keys(['k0', 'gama0', 'beta0', 'k1', 'gama1', 'beta1', 'w2', 'gama2', 'beta2'])\n",
      "params[k0]=\n",
      " [[ 1.76405235  0.40015721  0.97873798]\n",
      " [ 2.2408932   1.86755799 -0.97727788]\n",
      " [ 0.95008842 -0.15135721 -0.10321885]]\n",
      "params[k1]=\n",
      " [[ 0.4105985   0.14404357  1.45427351]\n",
      " [ 0.76103773  0.12167502  0.44386323]\n",
      " [ 0.33367433  1.49407907 -0.20515826]]\n",
      "X.shape= (2, 28, 28, 1)\n",
      "Ai_1.shape= (2, 28, 28, 1)\n",
      "Ai_1.shape= (2, 28, 28, 1)\n",
      "Ai_1.shape= (2, 28, 28, 1)\n",
      "y=\n",
      " [[[[0.02372955 0.26360139 0.02886445 0.01670665 0.1003192  0.08533688\n",
      "    0.36918726 0.02385651 0.03744285 0.05095526]]]\n",
      "\n",
      "\n",
      " [[[0.02206176 0.09000341 0.02316047 0.02104979 0.15847259 0.37938576\n",
      "    0.14829108 0.01688439 0.07638095 0.0643098 ]]]]\n",
      "y.shape= (2, 1, 10, 1)\n"
     ]
    },
    {
     "data": {
      "text/plain": [
       "<module 'cnn' from '/home/qc/proj_py/cnn.py'>"
      ]
     },
     "execution_count": 14,
     "metadata": {},
     "output_type": "execute_result"
    }
   ],
   "source": [
    "import cnn\n",
    "import numpy as np\n",
    "import imp\n",
    "imp.reload(cnn)"
   ]
  }
 ],
 "metadata": {
  "kernelspec": {
   "display_name": "Python 3",
   "language": "python",
   "name": "python3"
  },
  "language_info": {
   "codemirror_mode": {
    "name": "ipython",
    "version": 3
   },
   "file_extension": ".py",
   "mimetype": "text/x-python",
   "name": "python",
   "nbconvert_exporter": "python",
   "pygments_lexer": "ipython3",
   "version": "3.8.8"
  }
 },
 "nbformat": 4,
 "nbformat_minor": 5
}
