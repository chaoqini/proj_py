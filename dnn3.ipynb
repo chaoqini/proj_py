{
 "cells": [
  {
   "cell_type": "code",
   "execution_count": 3,
   "id": "d1f675c5",
   "metadata": {},
   "outputs": [
    {
     "name": "stdout",
     "output_type": "stream",
     "text": [
      "Training running ...\n",
      "Train learning rate = 0.03\n",
      "Train batch = 10\n",
      "Train input X.shape=(5000, 10, 784, 1), LAB.shape=(5000, 10, 1, 1)\n",
      "params b0.shape= (200, 1)\n",
      "params b1.shape= (100, 1)\n",
      "params b2.shape= (10, 1)\n",
      "params w0.shape= (200, 784)\n",
      "params w1.shape= (100, 200)\n",
      "params w2.shape= (10, 100)\n",
      "active function g[0] is: relu\n",
      "active function g[1] is: relu\n",
      "active function g[2] is: softmax\n",
      "active function g[3] is: log_loss\n",
      "Training bath running ...\n",
      "Training iteration number = 0/5000\n",
      "the spending time of 0/5000 batch is 74.68605041503906 mS\n",
      "Training iteration number = 500/5000\n",
      "the spending time of 500/5000 batch is 56.66041374206543 mS\n",
      "Training iteration number = 1000/5000\n",
      "the spending time of 1000/5000 batch is 59.42177772521973 mS\n",
      "Training iteration number = 1500/5000\n",
      "the spending time of 1500/5000 batch is 55.80759048461914 mS\n",
      "Training iteration number = 2000/5000\n",
      "the spending time of 2000/5000 batch is 49.11351203918457 mS\n",
      "Training iteration number = 2500/5000\n",
      "the spending time of 2500/5000 batch is 43.71190071105957 mS\n",
      "Training iteration number = 3000/5000\n",
      "the spending time of 3000/5000 batch is 42.58561134338379 mS\n",
      "Training iteration number = 3500/5000\n",
      "the spending time of 3500/5000 batch is 46.91147804260254 mS\n",
      "Training iteration number = 4000/5000\n",
      "the spending time of 4000/5000 batch is 22.449016571044922 mS\n",
      "Training iteration number = 4500/5000\n",
      "the spending time of 4500/5000 batch is 48.30741882324219 mS\n",
      "Training iteration number = 4999/5000\n",
      "the spending time of 4999/5000 batch is 43.31254959106445 mS\n"
     ]
    },
    {
     "data": {
      "image/png": "[encoded data removed]",
      "text/plain": [
       "<Figure size 432x288 with 1 Axes>"
      ]
     },
     "metadata": {
      "needs_background": "light"
     },
     "output_type": "display_data"
    },
    {
     "name": "stdout",
     "output_type": "stream",
     "text": [
      "Valid running ...\n",
      "Valid Input X.shape=(100, 100, 784, 1), LAB.shape=(100, 100, 1, 1)\n",
      "Valid batch running ...\n",
      "Valid iteration number = 0/100\n",
      "Valid iteration number = 10/100\n",
      "Valid iteration number = 20/100\n",
      "Valid iteration number = 30/100\n",
      "Valid iteration number = 40/100\n",
      "Valid iteration number = 50/100\n",
      "Valid iteration number = 60/100\n",
      "Valid iteration number = 70/100\n",
      "Valid iteration number = 80/100\n",
      "Valid iteration number = 90/100\n",
      "Valid iteration number = 99/100\n",
      "Valid L2 norm:\n",
      "Valid L2_normalize_b0 = 0.00028647691017696475\n",
      "Valid L2_normalize_b1 = 0.0017941479081458043\n",
      "Valid L2_normalize_b2 = 0.1482896381607209\n",
      "Valid L2_normalize_w0 = 2.9213873274735622e-05\n",
      "Valid L2_normalize_w1 = 0.00015017674376316544\n",
      "Valid L2_normalize_w2 = 0.00380711457527252\n",
      "Valid percent is : 91.17%\n",
      "Valid_train Input X.shape=(500, 100, 784, 1), LAB.shape=(500, 100, 1, 1)\n",
      "Valid_train batch running ...\n",
      "Valid_train iteration number = 0/500\n",
      "Valid_train iteration number = 50/500\n",
      "Valid_train iteration number = 100/500\n",
      "Valid_train iteration number = 150/500\n",
      "Valid_train iteration number = 200/500\n",
      "Valid_train iteration number = 250/500\n",
      "Valid_train iteration number = 300/500\n",
      "Valid_train iteration number = 350/500\n",
      "Valid_train iteration number = 400/500\n",
      "Valid_train iteration number = 450/500\n",
      "Valid_train iteration number = 499/500\n",
      "Valid_train L2_normalize_b0 = 0.00028647691017696475\n",
      "Valid_train L2_normalize_b1 = 0.0017941479081458043\n",
      "Valid_train L2_normalize_b2 = 0.1482896381607209\n",
      "Valid_train L2_normalize_w0 = 2.9213873274735622e-05\n",
      "Valid_train L2_normalize_w1 = 0.00015017674376316544\n",
      "Valid_train L2_normalize_w2 = 0.00380711457527252\n",
      "Valid_train percent is : 90.39%\n",
      "params write in dnn_p1.pkl\n",
      "Grade check running ...\n"
     ]
    },
    {
     "data": {
      "text/plain": [
       "<module 'dnn' from '/home/qc/proj_py/dnn.py'>"
      ]
     },
     "execution_count": 3,
     "metadata": {},
     "output_type": "execute_result"
    }
   ],
   "source": [
    "import dnn\n",
    "import numpy as np\n",
    "import imp\n",
    "imp.reload(dnn)"
   ]
  },
  {
   "cell_type": "code",
   "execution_count": null,
   "id": "0b548876",
   "metadata": {},
   "outputs": [],
   "source": [
    "dnn.show()"
   ]
  },
  {
   "cell_type": "code",
   "execution_count": null,
   "id": "64cb8838",
   "metadata": {},
   "outputs": [],
   "source": [
    "dnn.g"
   ]
  }
 ],
 "metadata": {
  "kernelspec": {
   "display_name": "Python 3 (ipykernel)",
   "language": "python",
   "name": "python3"
  },
  "language_info": {
   "codemirror_mode": {
    "name": "ipython",
    "version": 3
   },
   "file_extension": ".py",
   "mimetype": "text/x-python",
   "name": "python",
   "nbconvert_exporter": "python",
   "pygments_lexer": "ipython3",
   "version": "3.10.2"
  }
 },
 "nbformat": 4,
 "nbformat_minor": 5
}
