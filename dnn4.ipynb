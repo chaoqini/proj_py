{
 "cells": [
  {
   "cell_type": "code",
   "execution_count": 6,
   "id": "bc7ff8ec",
   "metadata": {},
   "outputs": [
    {
     "name": "stdout",
     "output_type": "stream",
     "text": [
      "Training running ...\n",
      "Train learning rate = 0.05\n",
      "Train batch = 10\n",
      "Train input X.shape=(5000, 10, 784, 1), LAB.shape=(5000, 10, 1, 1)\n",
      "params b0.shape= (400, 1)\n",
      "params b1.shape= (100, 1)\n",
      "params b2.shape= (10, 1)\n",
      "params w0.shape= (400, 784)\n",
      "params w1.shape= (100, 400)\n",
      "params w2.shape= (10, 100)\n",
      "active function g[0] is: relu\n",
      "active function g[1] is: relu\n",
      "active function g[2] is: softmax\n",
      "active function g[3] is: log_loss\n",
      "Training bath running ...\n",
      "Training iteration number = 0/5000\n",
      "the spending time of 0/5000 batch is 91.41302108764648 mS\n",
      "Training iteration number = 500/5000\n",
      "the spending time of 500/5000 batch is 52.05726623535156 mS\n",
      "Training iteration number = 1000/5000\n",
      "the spending time of 1000/5000 batch is 55.49287796020508 mS\n",
      "Training iteration number = 1500/5000\n",
      "the spending time of 1500/5000 batch is 51.43094062805176 mS\n",
      "Training iteration number = 2000/5000\n",
      "the spending time of 2000/5000 batch is 33.67781639099121 mS\n",
      "Training iteration number = 2500/5000\n",
      "the spending time of 2500/5000 batch is 52.500247955322266 mS\n",
      "Training iteration number = 3000/5000\n",
      "the spending time of 3000/5000 batch is 59.198617935180664 mS\n",
      "Training iteration number = 3500/5000\n",
      "the spending time of 3500/5000 batch is 28.289794921875 mS\n",
      "Training iteration number = 4000/5000\n",
      "the spending time of 4000/5000 batch is 41.777610778808594 mS\n",
      "Training iteration number = 4500/5000\n",
      "the spending time of 4500/5000 batch is 41.7027473449707 mS\n",
      "Training iteration number = 4999/5000\n",
      "the spending time of 4999/5000 batch is 54.08120155334473 mS\n"
     ]
    },
    {
     "data": {
      "image/png": "[encoded data removed]",
      "text/plain": [
       "<Figure size 432x288 with 1 Axes>"
      ]
     },
     "metadata": {
      "needs_background": "light"
     },
     "output_type": "display_data"
    },
    {
     "name": "stdout",
     "output_type": "stream",
     "text": [
      "Valid running ...\n",
      "Valid Input X.shape=(100, 100, 784, 1), LAB.shape=(100, 100, 1, 1)\n",
      "Valid batch running ...\n",
      "Valid iteration number = 0/100\n",
      "Valid iteration number = 10/100\n",
      "Valid iteration number = 20/100\n",
      "Valid iteration number = 30/100\n",
      "Valid iteration number = 40/100\n",
      "Valid iteration number = 50/100\n",
      "Valid iteration number = 60/100\n",
      "Valid iteration number = 70/100\n",
      "Valid iteration number = 80/100\n",
      "Valid iteration number = 90/100\n",
      "Valid iteration number = 99/100\n",
      "Valid L2 norm:\n",
      "Valid L2_normalize_b0 = 0.00032616572360335937\n",
      "Valid L2_normalize_b1 = 0.0034137826661572346\n",
      "Valid L2_normalize_b2 = 0.120900126522215\n",
      "Valid L2_normalize_w0 = 2.5629286494174587e-05\n",
      "Valid L2_normalize_w1 = 0.00010924496600123537\n",
      "Valid L2_normalize_w2 = 0.004397070039333937\n",
      "Valid percent is : 95.22%\n",
      "Valid_train Input X.shape=(500, 100, 784, 1), LAB.shape=(500, 100, 1, 1)\n",
      "Valid_train batch running ...\n",
      "Valid_train iteration number = 0/500\n",
      "Valid_train iteration number = 50/500\n",
      "Valid_train iteration number = 100/500\n",
      "Valid_train iteration number = 150/500\n",
      "Valid_train iteration number = 200/500\n",
      "Valid_train iteration number = 250/500\n",
      "Valid_train iteration number = 300/500\n",
      "Valid_train iteration number = 350/500\n",
      "Valid_train iteration number = 400/500\n",
      "Valid_train iteration number = 450/500\n",
      "Valid_train iteration number = 499/500\n",
      "Valid_train L2_normalize_b0 = 0.00032616572360335937\n",
      "Valid_train L2_normalize_b1 = 0.0034137826661572346\n",
      "Valid_train L2_normalize_b2 = 0.120900126522215\n",
      "Valid_train L2_normalize_w0 = 2.5629286494174587e-05\n",
      "Valid_train L2_normalize_w1 = 0.00010924496600123537\n",
      "Valid_train L2_normalize_w2 = 0.004397070039333937\n",
      "Valid_train percent is : 94.98%\n",
      "params write in dnn_p1.pkl\n",
      "Grade check running ...\n",
      "grad_check: abs_error= {'d_b0': 7.272912320132914e-45, 'd_b1': 1.0024120917542787e-44, 'd_b2': 8.594991935056852e-45, 'd_w0': 1.7329787365216674e-41, 'd_w1': 8.923207074650106e-42, 'd_w2': 4.343028893934209e-42}\n",
      "grad_check: ratio_error= {'d_b0': 1.0, 'd_b1': 1.0, 'd_b2': 1.0, 'd_w0': 1.0, 'd_w1': 1.0, 'd_w2': 1.0}\n",
      "Grade check end.\n"
     ]
    },
    {
     "data": {
      "text/plain": [
       "<module 'dnn' from '/home/qc/proj_py/dnn.py'>"
      ]
     },
     "execution_count": 6,
     "metadata": {},
     "output_type": "execute_result"
    }
   ],
   "source": [
    "import dnn\n",
    "import numpy as np\n",
    "import imp\n",
    "imp.reload(dnn)"
   ]
  }
 ],
 "metadata": {
  "kernelspec": {
   "display_name": "Python 3 (ipykernel)",
   "language": "python",
   "name": "python3"
  },
  "language_info": {
   "codemirror_mode": {
    "name": "ipython",
    "version": 3
   },
   "file_extension": ".py",
   "mimetype": "text/x-python",
   "name": "python",
   "nbconvert_exporter": "python",
   "pygments_lexer": "ipython3",
   "version": "3.10.2"
  }
 },
 "nbformat": 4,
 "nbformat_minor": 5
}
