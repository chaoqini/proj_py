{
 "cells": [
  {
   "cell_type": "code",
   "execution_count": null,
   "id": "bc7ff8ec",
   "metadata": {},
   "outputs": [
    {
     "name": "stdout",
     "output_type": "stream",
     "text": [
      "hyperparams_test runing iteration=1/5\n",
      "Training running ...\n",
      "Train learning rate lr0 = 0.6\n",
      "Train learning rate klr = 1.0\n",
      "Train batch = 20\n",
      "Train input X.shape=(2500, 20, 784, 1), LAB.shape=(2500, 20, 1, 1)\n",
      "params b0.shape= (200, 1)\n",
      "params b1.shape= (100, 1)\n",
      "params b2.shape= (100, 1)\n",
      "params b3.shape= (10, 1)\n",
      "params w0.shape= (200, 784)\n",
      "params w1.shape= (100, 200)\n",
      "params w2.shape= (100, 100)\n",
      "params w3.shape= (10, 100)\n",
      "active function g[0] is: relu\n",
      "active function g[1] is: relu\n",
      "active function g[2] is: relu\n",
      "active function g[3] is: softmax\n",
      "active function g[4] is: log_loss\n",
      "Training bath running ...\n",
      "Training iteration number = 0/2500\n",
      "Training iteration number = 250/2500\n",
      "Training iteration number = 500/2500\n",
      "Training iteration number = 750/2500\n"
     ]
    },
    {
     "name": "stderr",
     "output_type": "stream",
     "text": [
      "/home/qc/proj_py/dnn.py:48: RuntimeWarning: divide by zero encountered in log\n",
      "  LOSS=-np.sum(YL*np.log(Y),axis=1)\n",
      "/home/qc/proj_py/dnn.py:48: RuntimeWarning: invalid value encountered in multiply\n",
      "  LOSS=-np.sum(YL*np.log(Y),axis=1)\n"
     ]
    },
    {
     "name": "stdout",
     "output_type": "stream",
     "text": [
      "Training iteration number = 1000/2500\n",
      "Training iteration number = 1250/2500\n",
      "Training iteration number = 1500/2500\n",
      "Training iteration number = 1750/2500\n",
      "Training iteration number = 2000/2500\n",
      "Training iteration number = 2250/2500\n",
      "Training iteration number = 2499/2500\n"
     ]
    },
    {
     "data": {
      "image/png": "[encoded data removed]",
      "text/plain": [
       "<Figure size 432x288 with 2 Axes>"
      ]
     },
     "metadata": {
      "needs_background": "light"
     },
     "output_type": "display_data"
    },
    {
     "name": "stdout",
     "output_type": "stream",
     "text": [
      "Valid running ...\n",
      "Valid Input X.shape=(100, 100, 784, 1), LAB.shape=(100, 100, 1, 1)\n",
      "Valid batch running ...\n",
      "Valid iteration number = 0/100\n",
      "Valid iteration number = 10/100\n",
      "Valid iteration number = 20/100\n",
      "Valid iteration number = 30/100\n",
      "Valid iteration number = 40/100\n",
      "Valid iteration number = 50/100\n",
      "Valid iteration number = 60/100\n",
      "Valid iteration number = 70/100\n",
      "Valid iteration number = 80/100\n",
      "Valid iteration number = 90/100\n",
      "Valid iteration number = 99/100\n",
      "Valid L2 norm:\n",
      "Valid L2_normalize_b0 = 0.05547198115225372\n",
      "Valid L2_normalize_b1 = 0.5220582161093733\n",
      "Valid L2_normalize_b2 = 0.09692595128047941\n",
      "Valid L2_normalize_b3 = 0.031625226401499694\n",
      "Valid L2_normalize_w0 = 0.0017498863389496908\n",
      "Valid L2_normalize_w1 = 0.010121034506080033\n",
      "Valid L2_normalize_w2 = 0.17756373860888008\n",
      "Valid L2_normalize_w3 = 0.5597593212534901\n",
      "Valid percent is : 14.01%\n",
      "Valid_train Input X.shape=(500, 100, 784, 1), LAB.shape=(500, 100, 1, 1)\n",
      "Valid_train batch running ...\n",
      "Valid_train iteration number = 0/500\n",
      "Valid_train iteration number = 50/500\n",
      "Valid_train iteration number = 100/500\n",
      "Valid_train iteration number = 150/500\n",
      "Valid_train iteration number = 200/500\n",
      "Valid_train iteration number = 250/500\n",
      "Valid_train iteration number = 300/500\n",
      "Valid_train iteration number = 350/500\n",
      "Valid_train iteration number = 400/500\n",
      "Valid_train iteration number = 450/500\n",
      "Valid_train iteration number = 499/500\n",
      "Valid_train L2_normalize_b0 = 0.05547198115225372\n",
      "Valid_train L2_normalize_b1 = 0.5220582161093733\n",
      "Valid_train L2_normalize_b2 = 0.09692595128047941\n",
      "Valid_train L2_normalize_b3 = 0.031625226401499694\n",
      "Valid_train L2_normalize_w0 = 0.0017498863389496908\n",
      "Valid_train L2_normalize_w1 = 0.010121034506080033\n",
      "Valid_train L2_normalize_w2 = 0.17756373860888008\n",
      "Valid_train L2_normalize_w3 = 0.5597593212534901\n",
      "Valid_train percent is : 14.28%\n",
      "hyperparams_test runing iteration=2/5\n",
      "Training running ...\n",
      "Train learning rate lr0 = 0.6\n",
      "Train learning rate klr = 0.999\n",
      "Train batch = 20\n",
      "Train input X.shape=(2500, 20, 784, 1), LAB.shape=(2500, 20, 1, 1)\n",
      "params b0.shape= (200, 1)\n",
      "params b1.shape= (100, 1)\n",
      "params b2.shape= (100, 1)\n",
      "params b3.shape= (10, 1)\n",
      "params w0.shape= (200, 784)\n",
      "params w1.shape= (100, 200)\n",
      "params w2.shape= (100, 100)\n",
      "params w3.shape= (10, 100)\n",
      "active function g[0] is: relu\n",
      "active function g[1] is: relu\n",
      "active function g[2] is: relu\n",
      "active function g[3] is: softmax\n",
      "active function g[4] is: log_loss\n",
      "Training bath running ...\n",
      "Training iteration number = 0/2500\n",
      "Training iteration number = 250/2500\n",
      "Training iteration number = 500/2500\n",
      "Training iteration number = 750/2500\n"
     ]
    }
   ],
   "source": [
    "import dnn\n",
    "import numpy as np\n",
    "import imp\n",
    "imp.reload(dnn)\n",
    "dnn.hyperparams_test(dnn.params_init)"
   ]
  }
 ],
 "metadata": {
  "kernelspec": {
   "display_name": "Python 3 (ipykernel)",
   "language": "python",
   "name": "python3"
  },
  "language_info": {
   "codemirror_mode": {
    "name": "ipython",
    "version": 3
   },
   "file_extension": ".py",
   "mimetype": "text/x-python",
   "name": "python",
   "nbconvert_exporter": "python",
   "pygments_lexer": "ipython3",
   "version": "3.10.2"
  }
 },
 "nbformat": 4,
 "nbformat_minor": 5
}
