{
 "cells": [
  {
   "cell_type": "code",
   "execution_count": 7,
   "id": "c4b40ddb",
   "metadata": {},
   "outputs": [],
   "source": [
    "import numpy as np\n",
    "import mnist\n",
    "import copy\n",
    "from matplotlib import pyplot as plt \n",
    "import pickle\n",
    "import sys\n",
    "import time\n"
   ]
  },
  {
   "cell_type": "code",
   "execution_count": 3,
   "id": "4527472d",
   "metadata": {},
   "outputs": [
    {
     "name": "stdout",
     "output_type": "stream",
     "text": [
      "a1.shape= (2, 3, 4)\n",
      "a1=\n",
      " [[[ 0  1  2  3]\n",
      "  [ 4  5  6  7]\n",
      "  [ 8  9 10 11]]\n",
      "\n",
      " [[12 13 14 15]\n",
      "  [16 17 18 19]\n",
      "  [20 21 22 23]]]\n",
      "b1.shape= (2, 3, 3)\n",
      "b1=\n",
      " [[[ 0  1  2]\n",
      "  [ 4  5  6]\n",
      "  [ 8  9 10]]\n",
      "\n",
      " [[12 13 14]\n",
      "  [16 17 18]\n",
      "  [20 21 22]]]\n"
     ]
    }
   ],
   "source": [
    "import numpy as np\n",
    "a1=np.arange(2*3*4).reshape(2,3,4)\n",
    "print('a1.shape=',a1.shape)\n",
    "print('a1=\\n',a1)\n",
    "b1=a1[:,0:3,0:3]\n",
    "print('b1.shape=',b1.shape)\n",
    "print('b1=\\n',b1)\n"
   ]
  },
  {
   "cell_type": "code",
   "execution_count": 6,
   "id": "de7d5f7e",
   "metadata": {},
   "outputs": [
    {
     "name": "stdout",
     "output_type": "stream",
     "text": [
      "a1.shape= (2, 2, 1, 2)\n",
      "a1=\n",
      " [[[[0 1]]\n",
      "\n",
      "  [[2 3]]]\n",
      "\n",
      "\n",
      " [[[4 5]]\n",
      "\n",
      "  [[6 7]]]]\n",
      "a1.shape= (2, 2, 2)\n",
      "a1=\n",
      " [[[0 1]\n",
      "  [2 3]]\n",
      "\n",
      " [[4 5]\n",
      "  [6 7]]]\n"
     ]
    }
   ],
   "source": [
    "import numpy as np\n",
    "a1=np.arange(2*2*1*2).reshape(2,2,1,2)\n",
    "print('a1.shape=',a1.shape)\n",
    "print('a1=\\n',a1)\n",
    "a1=np.squeeze(a1)\n",
    "# print('b1.shape=',b1.shape)\n",
    "# print('b1=\\n',b1)\n",
    "print('a1.shape=',a1.shape)\n",
    "print('a1=\\n',a1)\n"
   ]
  },
  {
   "cell_type": "code",
   "execution_count": 16,
   "id": "35d065f7",
   "metadata": {},
   "outputs": [],
   "source": [
    "import  pandas as pd\n",
    "pd.set_option('max_columns',None)\n",
    "pd.set_option('max_row',None)\n"
   ]
  },
  {
   "cell_type": "code",
   "execution_count": 7,
   "id": "f413c450",
   "metadata": {},
   "outputs": [
    {
     "name": "stdout",
     "output_type": "stream",
     "text": [
      "b1.shape= (20000, 20000)\n"
     ]
    }
   ],
   "source": [
    "import numpy as np\n",
    "a1=np.arange(2e4).reshape(-1,1)\n",
    "# print('a1=\\n',a1)\n",
    "b1=a1@a1.T\n",
    "# print('b1=\\n',b1)\n",
    "print('b1.shape=',b1.shape)\n",
    "\n"
   ]
  }
 ],
 "metadata": {
  "kernelspec": {
   "display_name": "Python 3",
   "language": "python",
   "name": "python3"
  },
  "language_info": {
   "codemirror_mode": {
    "name": "ipython",
    "version": 3
   },
   "file_extension": ".py",
   "mimetype": "text/x-python",
   "name": "python",
   "nbconvert_exporter": "python",
   "pygments_lexer": "ipython3",
   "version": "3.8.8"
  }
 },
 "nbformat": 4,
 "nbformat_minor": 5
}
