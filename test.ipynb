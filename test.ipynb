{
 "cells": [
  {
   "cell_type": "code",
   "execution_count": 7,
   "id": "c4b40ddb",
   "metadata": {},
   "outputs": [],
   "source": [
    "import numpy as np\n",
    "import mnist\n",
    "import copy\n",
    "from matplotlib import pyplot as plt \n",
    "import pickle\n",
    "import sys\n",
    "import time\n"
   ]
  },
  {
   "cell_type": "code",
   "execution_count": 1,
   "id": "4527472d",
   "metadata": {},
   "outputs": [
    {
     "data": {
      "text/plain": [
       "'2.4.1'"
      ]
     },
     "execution_count": 1,
     "metadata": {},
     "output_type": "execute_result"
    }
   ],
   "source": [
    "import tensorflow as tf\n",
    "tf.__version__"
   ]
  },
  {
   "cell_type": "code",
   "execution_count": 6,
   "id": "de7d5f7e",
   "metadata": {},
   "outputs": [
    {
     "name": "stdout",
     "output_type": "stream",
     "text": [
      "a1.shape= (2, 3, 4)\n",
      "a1=\n",
      " [[[ 0  1  2  3]\n",
      "  [ 4  5  6  7]\n",
      "  [ 8  9 10 11]]\n",
      "\n",
      " [[12 13 14 15]\n",
      "  [16 17 18 19]\n",
      "  [20 21 22 23]]]\n",
      "k1.shape= (3,)\n",
      "k1=\n",
      " [0 1 2]\n",
      "b1.shape= (2, 4)\n",
      "b1=\n",
      " [[20 23 26 29]\n",
      " [56 59 62 65]]\n"
     ]
    }
   ],
   "source": [
    "import numpy as np\n",
    "a1=np.arange(2*3*4).reshape(2,3,4)\n",
    "print('a1.shape=',a1.shape)\n",
    "print('a1=\\n',a1)\n",
    "# k1=np.arange(1*1*3).reshape(1,3)\n",
    "k1=np.arange(1*1*3)\n",
    "print('k1.shape=',k1.shape)\n",
    "print('k1=\\n',k1)\n",
    "b1=k1@a1\n",
    "print('b1.shape=',b1.shape)\n",
    "print('b1=\\n',b1)\n"
   ]
  },
  {
   "cell_type": "code",
   "execution_count": 16,
   "id": "35d065f7",
   "metadata": {},
   "outputs": [],
   "source": [
    "import  pandas as pd\n",
    "pd.set_option('max_columns',None)\n",
    "pd.set_option('max_row',None)\n"
   ]
  },
  {
   "cell_type": "code",
   "execution_count": 13,
   "id": "f413c450",
   "metadata": {},
   "outputs": [
    {
     "name": "stdout",
     "output_type": "stream",
     "text": [
      "a1=\n",
      " [[[ 0  1  2  3  4  5]\n",
      "  [ 6  7  8  9 10 11]\n",
      "  [12 13 14 15 16 17]\n",
      "  [18 19 20 21 22 23]]\n",
      "\n",
      " [[24 25 26 27 28 29]\n",
      "  [30 31 32 33 34 35]\n",
      "  [36 37 38 39 40 41]\n",
      "  [42 43 44 45 46 47]]]\n",
      "b1=\n",
      " [[18 19 20 21 22 23]\n",
      " [42 43 44 45 46 47]]\n",
      "b1.shape= (2, 6)\n"
     ]
    }
   ],
   "source": [
    "import numpy as np\n",
    "a1=np.arange(2*4*6).reshape(2,4,6)\n",
    "print('a1=\\n',a1)\n",
    "b1=np.max(a1,axis=1)\n",
    "print('b1=\\n',b1)\n",
    "print('b1.shape=',b1.shape)\n",
    "\n"
   ]
  }
 ],
 "metadata": {
  "kernelspec": {
   "display_name": "Python 3",
   "language": "python",
   "name": "python3"
  },
  "language_info": {
   "codemirror_mode": {
    "name": "ipython",
    "version": 3
   },
   "file_extension": ".py",
   "mimetype": "text/x-python",
   "name": "python",
   "nbconvert_exporter": "python",
   "pygments_lexer": "ipython3",
   "version": "3.8.8"
  }
 },
 "nbformat": 4,
 "nbformat_minor": 5
}
