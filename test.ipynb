{
 "cells": [
  {
   "cell_type": "code",
   "execution_count": 1,
   "id": "c4b40ddb",
   "metadata": {},
   "outputs": [],
   "source": [
    "import numpy as np\n",
    "import mnist\n",
    "import copy\n",
    "from matplotlib import pyplot as plt \n",
    "import pickle\n",
    "import sys\n",
    "import time\n"
   ]
  },
  {
   "cell_type": "code",
   "execution_count": 6,
   "id": "03021b54",
   "metadata": {},
   "outputs": [
    {
     "data": {
      "text/plain": [
       "[]"
      ]
     },
     "execution_count": 6,
     "metadata": {},
     "output_type": "execute_result"
    }
   ],
   "source": [
    "import numpy as np\n",
    "g=['aa','bb','bb']\n",
    "g=[]\n",
    "g\n"
   ]
  },
  {
   "cell_type": "code",
   "execution_count": 19,
   "id": "4527472d",
   "metadata": {},
   "outputs": [
    {
     "data": {
      "text/plain": [
       "[333, 4000, 'aa']"
      ]
     },
     "execution_count": 19,
     "metadata": {},
     "output_type": "execute_result"
    }
   ],
   "source": [
    "tt=[]\n",
    "tt.append(333)\n",
    "tt.append([1000]*4)\n",
    "tt.append('aa')\n",
    "tt"
   ]
  }
 ],
 "metadata": {
  "kernelspec": {
   "display_name": "Python 3 (ipykernel)",
   "language": "python",
   "name": "python3"
  },
  "language_info": {
   "codemirror_mode": {
    "name": "ipython",
    "version": 3
   },
   "file_extension": ".py",
   "mimetype": "text/x-python",
   "name": "python",
   "nbconvert_exporter": "python",
   "pygments_lexer": "ipython3",
   "version": "3.10.2"
  }
 },
 "nbformat": 4,
 "nbformat_minor": 5
}
