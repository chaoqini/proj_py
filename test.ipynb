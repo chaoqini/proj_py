{
 "cells": [
  {
   "cell_type": "code",
   "execution_count": 19,
   "id": "4527472d",
   "metadata": {},
   "outputs": [
    {
     "name": "stdout",
     "output_type": "stream",
     "text": [
      "a1=\n",
      " [[[ 1  2]\n",
      "  [ 3  4]]\n",
      "\n",
      " [[ 5  6]\n",
      "  [ 7  8]]\n",
      "\n",
      " [[ 9 10]\n",
      "  [11 12]]]\n",
      "b1=\n",
      " [[[-2 -1]\n",
      "  [ 0  1]]\n",
      "\n",
      " [[-2 -1]\n",
      "  [ 0  1]]\n",
      "\n",
      " [[-2 -1]\n",
      "  [ 0  1]]]\n",
      "c1=\n",
      " [[[0 0]\n",
      "  [0 1]]\n",
      "\n",
      " [[0 0]\n",
      "  [0 1]]\n",
      "\n",
      " [[0 0]\n",
      "  [0 1]]]\n",
      "a1.shape= (3, 2, 2)\n",
      "b1.shape= (3, 2, 2)\n"
     ]
    }
   ],
   "source": [
    "import numpy as np\n",
    "a1=np.arange(3*2*2).reshape(3,2,2)+1\n",
    "b1=(a1-a1.max((-2,-1),keepdims=1)+1)\n",
    "c1=b1.copy()\n",
    "c1[b1<1]=0\n",
    "\n",
    "print('a1=\\n',a1)\n",
    "print('b1=\\n',b1)\n",
    "print('c1=\\n',c1)\n",
    "print('a1.shape=',a1.shape)\n",
    "print('b1.shape=',b1.shape)"
   ]
  },
  {
   "cell_type": "code",
   "execution_count": 22,
   "id": "eed2f4bb",
   "metadata": {},
   "outputs": [
    {
     "name": "stdout",
     "output_type": "stream",
     "text": [
      "a1=\n",
      " [[[ 1  2]\n",
      "  [ 3  4]]\n",
      "\n",
      " [[ 5  6]\n",
      "  [ 7  8]]\n",
      "\n",
      " [[ 9 10]\n",
      "  [11 12]]]\n",
      "b1=\n",
      " [[[0 0]\n",
      "  [0 1]]\n",
      "\n",
      " [[0 0]\n",
      "  [0 1]]\n",
      "\n",
      " [[0 0]\n",
      "  [0 1]]]\n",
      "a1.shape= (3, 2, 2)\n",
      "b1.shape= (3, 2, 2)\n"
     ]
    }
   ],
   "source": [
    "import numpy as np\n",
    "a1=np.arange(3*2*2).reshape(3,2,2)+1\n",
    "b1=(a1+1-a1.max((-2,-1),keepdims=1))\n",
    "# c1=b1.copy()\n",
    "b1[b1<1]=0\n",
    "\n",
    "print('a1=\\n',a1)\n",
    "print('b1=\\n',b1)\n",
    "# print('c1=\\n',c1)\n",
    "print('a1.shape=',a1.shape)\n",
    "print('b1.shape=',b1.shape)"
   ]
  },
  {
   "cell_type": "code",
   "execution_count": null,
   "id": "53d19a75",
   "metadata": {},
   "outputs": [],
   "source": [
    "a2=\n",
    " [[[[ 0  0  0  0  0  0]\n",
    "   [ 0  1  2  3  4  0]\n",
    "   [ 0  5  6  7  8  0]\n",
    "   [ 0  9 10 11 12  0]\n",
    "   [ 0 13 14 15 16  0]\n",
    "   [ 0  0  0  0  0  0]]\n",
    "\n",
    "  [[ 0  0  0  0  0  0]\n",
    "   [ 0 17 18 19 20  0]\n",
    "   [ 0 21 22 23 24  0]\n",
    "   [ 0 25 26 27 28  0]\n",
    "   [ 0 29 30 31 32  0]\n",
    "   [ 0  0  0  0  0  0]]]]"
   ]
  }
 ],
 "metadata": {
  "kernelspec": {
   "display_name": "Python 3",
   "language": "python",
   "name": "python3"
  },
  "language_info": {
   "codemirror_mode": {
    "name": "ipython",
    "version": 3
   },
   "file_extension": ".py",
   "mimetype": "text/x-python",
   "name": "python",
   "nbconvert_exporter": "python",
   "pygments_lexer": "ipython3",
   "version": "3.8.8"
  }
 },
 "nbformat": 4,
 "nbformat_minor": 5
}
