{
 "cells": [
  {
   "cell_type": "code",
   "execution_count": 7,
   "id": "c4b40ddb",
   "metadata": {},
   "outputs": [],
   "source": [
    "import numpy as np\n",
    "import mnist\n",
    "import copy\n",
    "from matplotlib import pyplot as plt \n",
    "import pickle\n",
    "import sys\n",
    "import time\n"
   ]
  },
  {
   "cell_type": "code",
   "execution_count": 1,
   "id": "4527472d",
   "metadata": {},
   "outputs": [
    {
     "data": {
      "text/plain": [
       "'2.4.1'"
      ]
     },
     "execution_count": 1,
     "metadata": {},
     "output_type": "execute_result"
    }
   ],
   "source": [
    "import tensorflow as tf\n",
    "tf.__version__"
   ]
  },
  {
   "cell_type": "code",
   "execution_count": 7,
   "id": "de7d5f7e",
   "metadata": {},
   "outputs": [
    {
     "name": "stdout",
     "output_type": "stream",
     "text": [
      "a1=\n",
      " [[0 1 2]\n",
      " [3 4 5]\n",
      " [6 7 8]]\n",
      "b1.shape= (3, 3, 3, 3)\n",
      "b1=\n",
      " [[[[ 0  0  0]\n",
      "   [ 0  0  0]\n",
      "   [ 0  0  0]]\n",
      "\n",
      "  [[ 0  1  2]\n",
      "   [ 3  4  5]\n",
      "   [ 6  7  8]]\n",
      "\n",
      "  [[ 0  2  4]\n",
      "   [ 6  8 10]\n",
      "   [12 14 16]]]\n",
      "\n",
      "\n",
      " [[[ 0  3  6]\n",
      "   [ 9 12 15]\n",
      "   [18 21 24]]\n",
      "\n",
      "  [[ 0  4  8]\n",
      "   [12 16 20]\n",
      "   [24 28 32]]\n",
      "\n",
      "  [[ 0  5 10]\n",
      "   [15 20 25]\n",
      "   [30 35 40]]]\n",
      "\n",
      "\n",
      " [[[ 0  6 12]\n",
      "   [18 24 30]\n",
      "   [36 42 48]]\n",
      "\n",
      "  [[ 0  7 14]\n",
      "   [21 28 35]\n",
      "   [42 49 56]]\n",
      "\n",
      "  [[ 0  8 16]\n",
      "   [24 32 40]\n",
      "   [48 56 64]]]]\n"
     ]
    }
   ],
   "source": [
    "import numpy as np\n",
    "a1=np.arange(3*3).reshape(3,3)\n",
    "# b1=np.outer(a1,a1)\n",
    "# b1=np.kron(a1,a1)\n",
    "b1=np.einsum('ij,kl->ijkl',a1,a1)\n",
    "print('a1=\\n',a1)\n",
    "print('b1.shape=',b1.shape)\n",
    "print('b1=\\n',b1)\n"
   ]
  },
  {
   "cell_type": "code",
   "execution_count": 16,
   "id": "35d065f7",
   "metadata": {},
   "outputs": [],
   "source": [
    "import  pandas as pd\n",
    "pd.set_option('max_columns',None)\n",
    "pd.set_option('max_row',None)\n"
   ]
  },
  {
   "cell_type": "code",
   "execution_count": 7,
   "id": "f413c450",
   "metadata": {},
   "outputs": [
    {
     "name": "stdout",
     "output_type": "stream",
     "text": [
      "b1.shape= (20000, 20000)\n"
     ]
    }
   ],
   "source": [
    "import numpy as np\n",
    "a1=np.arange(2e4).reshape(-1,1)\n",
    "# print('a1=\\n',a1)\n",
    "b1=a1@a1.T\n",
    "# print('b1=\\n',b1)\n",
    "print('b1.shape=',b1.shape)\n",
    "\n"
   ]
  }
 ],
 "metadata": {
  "kernelspec": {
   "display_name": "Python 3",
   "language": "python",
   "name": "python3"
  },
  "language_info": {
   "codemirror_mode": {
    "name": "ipython",
    "version": 3
   },
   "file_extension": ".py",
   "mimetype": "text/x-python",
   "name": "python",
   "nbconvert_exporter": "python",
   "pygments_lexer": "ipython3",
   "version": "3.8.8"
  }
 },
 "nbformat": 4,
 "nbformat_minor": 5
}
