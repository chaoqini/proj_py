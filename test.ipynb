{
 "cells": [
  {
   "cell_type": "code",
   "execution_count": 1,
   "id": "c8429069",
   "metadata": {},
   "outputs": [],
   "source": [
    "import numpy as np\n",
    "import mnist"
   ]
  },
  {
   "cell_type": "code",
   "execution_count": 21,
   "id": "95ca1992",
   "metadata": {},
   "outputs": [
    {
     "data": {
      "text/plain": [
       "array([[ 0,  0,  0,  0,  0],\n",
       "       [ 0,  1,  2,  3,  4],\n",
       "       [ 0,  2,  4,  6,  8],\n",
       "       [ 0,  3,  6,  9, 12],\n",
       "       [ 0,  4,  8, 12, 16]])"
      ]
     },
     "execution_count": 21,
     "metadata": {},
     "output_type": "execute_result"
    }
   ],
   "source": [
    "# aa=np.arange(5).reshape(5,1)\n",
    "aa=np.arange(5).reshape(-1,1)\n",
    "# aa=np.arange(5)\n",
    "# assert(aa.shape==(-1,1))\n",
    "assert(aa.shape==(5,1))\n",
    "aa.shape\n",
    "aa@aa.T\n",
    "# type(aa)"
   ]
  },
  {
   "cell_type": "code",
   "execution_count": 26,
   "id": "bbc41a19",
   "metadata": {},
   "outputs": [
    {
     "data": {
      "text/plain": [
       "0.2"
      ]
     },
     "execution_count": 26,
     "metadata": {},
     "output_type": "execute_result"
    }
   ],
   "source": [
    "def relu(x,k=0): return nmax(k,x)\n",
    "\n",
    "relu(-12,0.2)"
   ]
  },
  {
   "cell_type": "code",
   "execution_count": 58,
   "id": "dcf76adb",
   "metadata": {},
   "outputs": [
    {
     "data": {
      "text/plain": [
       "array([0, 1, 2])"
      ]
     },
     "execution_count": 58,
     "metadata": {},
     "output_type": "execute_result"
    }
   ],
   "source": [
    "import numpy as np \n",
    "class ann:\n",
    "#    def bp(self,x,params):\n",
    "#     def relu(x,k=0):   k=max(0,min(1,k)); return max(k*x,x)\n",
    "#     def relu(x,k=0):k=(k if k>0 and k<1 else 0) ; return np.max(k*x,x)\n",
    "#     def relu(x):  return  max(0,x)\n",
    "#     def relu(x):  return  max(np.zeros(np.array(x).shape),x)\n",
    "    def relu(x,k=0): return np.maximum(k,x)\n",
    "    \n",
    "x=np.arange(3)\n",
    "y=0\n",
    "np.array(y).shape\n",
    "ann.relu(x)\n",
    "# relu(22)"
   ]
  },
  {
   "cell_type": "code",
   "execution_count": 3,
   "id": "dab09037",
   "metadata": {},
   "outputs": [
    {
     "data": {
      "text/plain": [
       "1"
      ]
     },
     "execution_count": 3,
     "metadata": {},
     "output_type": "execute_result"
    }
   ],
   "source": [
    "def d_relu(x): return (1 if x>0 else 0)\n",
    "d_relu(22)\n"
   ]
  },
  {
   "cell_type": "code",
   "execution_count": 7,
   "id": "614fde7b",
   "metadata": {
    "collapsed": true
   },
   "outputs": [
    {
     "data": {
      "text/plain": [
       "'名称'"
      ]
     },
     "execution_count": 7,
     "metadata": {},
     "output_type": "execute_result"
    }
   ],
   "source": [
    "# coding:utf-8\n",
    "# python3.10\n",
    "\n",
    "student = {\"NAME\":{\"label\":\"名称\",\"fieldName\":\"NAME\"},\"ADDRESS\":{\"label\":\"地址\",\"fieldName\":\"ADDRESS\"},\"LON\":{\"label\":\"经度\",\"fieldName\":\"LON\"},\"LAT\":{\"label\":\"纬度\",\"fieldName\":\"LAT\"},\"SOURCE\":{\"label\":\"数据来源\",\"fieldName\":\"SOURCE\"},\"CITYCODE\":{\"label\":\"城市代码\",\"fieldName\":\"CITYCODE\"},\"PRODATE\":{\"label\":\"处理日期\",\"fieldName\":\"PRODATE\"}}\n",
    "\n",
    "\n",
    "student['NAME']['label']"
   ]
  },
  {
   "cell_type": "code",
   "execution_count": 23,
   "id": "ad773b84",
   "metadata": {},
   "outputs": [
    {
     "data": {
      "text/plain": [
       "array([0., 1.])"
      ]
     },
     "execution_count": 23,
     "metadata": {},
     "output_type": "execute_result"
    }
   ],
   "source": [
    "import numpy as np \n",
    "x=[-2,2]\n",
    "\n",
    "def relu(x): return np.maximum(0,x)\n",
    "relu(x)\n",
    "y=(np.sign(x)+1)/2\n",
    "y\n"
   ]
  },
  {
   "cell_type": "code",
   "execution_count": 26,
   "id": "181486a1",
   "metadata": {},
   "outputs": [
    {
     "data": {
      "text/plain": [
       "array([[1.e-06],\n",
       "       [1.e-06],\n",
       "       [1.e+00]])"
      ]
     },
     "execution_count": 26,
     "metadata": {},
     "output_type": "execute_result"
    }
   ],
   "source": [
    "y=np.eye(3)[2].reshape(-1,1)\n",
    "y2=np.maximum(1e-6,y)\n",
    "y2"
   ]
  },
  {
   "cell_type": "code",
   "execution_count": 53,
   "id": "e66cbb26",
   "metadata": {},
   "outputs": [
    {
     "data": {
      "text/plain": [
       "{'aa': [11, 22, 33],\n",
       " 'bb': [44, 55, 66],\n",
       " 'cc': array([[0, 1, 2],\n",
       "        [3, 4, 5],\n",
       "        [6, 7, 8]])}"
      ]
     },
     "execution_count": 53,
     "metadata": {},
     "output_type": "execute_result"
    }
   ],
   "source": [
    "tt={}\n",
    "tt['aa']=[11,22,33]\n",
    "tt['bb']=[44,55,66]\n",
    "tt['cc']=np.arange(3*3).reshape(3,3)\n",
    "\n",
    "tt"
   ]
  },
  {
   "cell_type": "code",
   "execution_count": 64,
   "id": "70dd9003",
   "metadata": {},
   "outputs": [
    {
     "name": "stdout",
     "output_type": "stream",
     "text": [
      "aa\n",
      "[12, 23, 34]\n",
      "bb\n",
      "[45, 56, 67]\n",
      "cc\n",
      "[[1 2 3]\n",
      " [4 5 6]\n",
      " [7 8 9]]\n"
     ]
    },
    {
     "data": {
      "text/plain": [
       "{'aa': [14, 25, 36],\n",
       " 'bb': [47, 58, 69],\n",
       " 'cc': array([[ 3,  4,  5],\n",
       "        [ 6,  7,  8],\n",
       "        [ 9, 10, 11]])}"
      ]
     },
     "execution_count": 64,
     "metadata": {},
     "output_type": "execute_result"
    }
   ],
   "source": [
    "for (k,v) in tt.items():\n",
    "    print(k)\n",
    "    print(v)\n",
    "    for i in range(len(v)):\n",
    "        v[i]+=2\n",
    "tt"
   ]
  },
  {
   "cell_type": "code",
   "execution_count": 47,
   "id": "b005535d",
   "metadata": {},
   "outputs": [
    {
     "name": "stdout",
     "output_type": "stream",
     "text": [
      "aa\n",
      "[11, 22, 33]\n",
      "11\n",
      "22\n",
      "33\n",
      "bb\n",
      "[44, 55, 66]\n",
      "44\n",
      "55\n",
      "66\n"
     ]
    },
    {
     "data": {
      "text/plain": [
       "{'aa': [11, 22, 33], 'bb': [44, 55, 66]}"
      ]
     },
     "execution_count": 47,
     "metadata": {},
     "output_type": "execute_result"
    }
   ],
   "source": [
    "for k,v in tt.items():\n",
    "    print(k)\n",
    "    print(v)\n",
    "    for i in v :\n",
    "        print(i)\n",
    "        i+=2 \n",
    "    \n",
    "#     v=v+2\n",
    "tt\n"
   ]
  },
  {
   "cell_type": "code",
   "execution_count": 37,
   "id": "6666a2f6",
   "metadata": {},
   "outputs": [
    {
     "ename": "SyntaxError",
     "evalue": "'function call' is an illegal expression for augmented assignment (1508829061.py, line 2)",
     "output_type": "error",
     "traceback": [
      "\u001b[0;36m  Input \u001b[0;32mIn [37]\u001b[0;36m\u001b[0m\n\u001b[0;31m    tt['aa'](v)+=2\u001b[0m\n\u001b[0m    ^\u001b[0m\n\u001b[0;31mSyntaxError\u001b[0m\u001b[0;31m:\u001b[0m 'function call' is an illegal expression for augmented assignment\n"
     ]
    }
   ],
   "source": [
    "for v in tt['aa']:\n",
    "    tt['aa'](v)+=2\n",
    "tt\n",
    "\n",
    "\n"
   ]
  },
  {
   "cell_type": "code",
   "execution_count": 36,
   "id": "249a9731",
   "metadata": {},
   "outputs": [
    {
     "data": {
      "text/plain": [
       "{'aa': [13, 24, 35], 'bb': 22}"
      ]
     },
     "execution_count": 36,
     "metadata": {},
     "output_type": "execute_result"
    }
   ],
   "source": [
    "for i in range(len(tt['aa'])):\n",
    "    tt['aa'][i]+=2\n",
    "tt"
   ]
  },
  {
   "cell_type": "code",
   "execution_count": 52,
   "id": "5b1616d1",
   "metadata": {},
   "outputs": [
    {
     "name": "stdout",
     "output_type": "stream",
     "text": [
      "[1 2 3]\n",
      "[4 5 6]\n",
      "[7 8 9]\n"
     ]
    }
   ],
   "source": [
    "aa=np.arange(3*3).reshape(3,3)\n",
    "# aa\n",
    "for i in range(len(aa)):\n",
    "    print(aa[i]+1)"
   ]
  }
 ],
 "metadata": {
  "kernelspec": {
   "display_name": "Python 3 (ipykernel)",
   "language": "python",
   "name": "python3"
  },
  "language_info": {
   "codemirror_mode": {
    "name": "ipython",
    "version": 3
   },
   "file_extension": ".py",
   "mimetype": "text/x-python",
   "name": "python",
   "nbconvert_exporter": "python",
   "pygments_lexer": "ipython3",
   "version": "3.10.2"
  }
 },
 "nbformat": 4,
 "nbformat_minor": 5
}
