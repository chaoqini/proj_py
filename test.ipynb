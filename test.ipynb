{
 "cells": [
  {
   "cell_type": "code",
   "execution_count": 126,
   "id": "c4b40ddb",
   "metadata": {},
   "outputs": [
    {
     "name": "stdout",
     "output_type": "stream",
     "text": [
      "iteration number=:0/5000\n"
     ]
    },
    {
     "name": "stderr",
     "output_type": "stream",
     "text": [
      "/home/qc/proj_py/ann.py:84: RuntimeWarning: divide by zero encountered in log\n",
      "  YL=YL.reshape(YL.shape+(1,))\n",
      "/home/qc/proj_py/ann.py:84: RuntimeWarning: invalid value encountered in multiply\n",
      "  YL=YL.reshape(YL.shape+(1,))\n"
     ]
    },
    {
     "name": "stdout",
     "output_type": "stream",
     "text": [
      "iteration number=:500/5000\n",
      "iteration number=:1000/5000\n",
      "iteration number=:1500/5000\n",
      "iteration number=:2000/5000\n",
      "iteration number=:2500/5000\n",
      "iteration number=:3000/5000\n",
      "iteration number=:3500/5000\n",
      "iteration number=:4000/5000\n",
      "iteration number=:4500/5000\n",
      "iteration number=:4999/5000\n"
     ]
    },
    {
     "data": {
      "image/png": "[encoded data removed]",
      "text/plain": [
       "<Figure size 432x288 with 1 Axes>"
      ]
     },
     "metadata": {
      "needs_background": "light"
     },
     "output_type": "display_data"
    },
    {
     "name": "stdout",
     "output_type": "stream",
     "text": [
      "valid percent is : 88.06%\n"
     ]
    },
    {
     "name": "stderr",
     "output_type": "stream",
     "text": [
      "/home/qc/proj_py/ann.py:84: RuntimeWarning: divide by zero encountered in log\n",
      "  YL=YL.reshape(YL.shape+(1,))\n",
      "/home/qc/proj_py/ann.py:84: RuntimeWarning: invalid value encountered in multiply\n",
      "  YL=YL.reshape(YL.shape+(1,))\n"
     ]
    },
    {
     "data": {
      "text/plain": [
       "<module 'ann' from '/home/qc/proj_py/ann.py'>"
      ]
     },
     "execution_count": 126,
     "metadata": {},
     "output_type": "execute_result"
    }
   ],
   "source": [
    "import ann\n",
    "import imp\n",
    "imp.reload(ann)"
   ]
  },
  {
   "cell_type": "code",
   "execution_count": 125,
   "id": "98022c92",
   "metadata": {},
   "outputs": [
    {
     "name": "stdout",
     "output_type": "stream",
     "text": [
      "Real lab number is :\t2\n",
      "Precdict number is :\t2\n"
     ]
    },
    {
     "data": {
      "image/png": "[encoded data removed]",
      "text/plain": [
       "<Figure size 432x288 with 1 Axes>"
      ]
     },
     "metadata": {
      "needs_background": "light"
     },
     "output_type": "display_data"
    }
   ],
   "source": [
    "# ann.show(11)\n",
    "ann.show()"
   ]
  },
  {
   "cell_type": "code",
   "execution_count": null,
   "id": "00220e09",
   "metadata": {},
   "outputs": [],
   "source": []
  }
 ],
 "metadata": {
  "kernelspec": {
   "display_name": "Python 3 (ipykernel)",
   "language": "python",
   "name": "python3"
  },
  "language_info": {
   "codemirror_mode": {
    "name": "ipython",
    "version": 3
   },
   "file_extension": ".py",
   "mimetype": "text/x-python",
   "name": "python",
   "nbconvert_exporter": "python",
   "pygments_lexer": "ipython3",
   "version": "3.10.2"
  }
 },
 "nbformat": 4,
 "nbformat_minor": 5
}
