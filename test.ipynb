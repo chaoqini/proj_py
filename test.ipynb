{
 "cells": [
  {
   "cell_type": "code",
   "execution_count": 19,
   "id": "4527472d",
   "metadata": {},
   "outputs": [
    {
     "name": "stdout",
     "output_type": "stream",
     "text": [
      "a1=\n",
      " [[[ 1  2]\n",
      "  [ 3  4]]\n",
      "\n",
      " [[ 5  6]\n",
      "  [ 7  8]]\n",
      "\n",
      " [[ 9 10]\n",
      "  [11 12]]]\n",
      "b1=\n",
      " [[[-2 -1]\n",
      "  [ 0  1]]\n",
      "\n",
      " [[-2 -1]\n",
      "  [ 0  1]]\n",
      "\n",
      " [[-2 -1]\n",
      "  [ 0  1]]]\n",
      "c1=\n",
      " [[[0 0]\n",
      "  [0 1]]\n",
      "\n",
      " [[0 0]\n",
      "  [0 1]]\n",
      "\n",
      " [[0 0]\n",
      "  [0 1]]]\n",
      "a1.shape= (3, 2, 2)\n",
      "b1.shape= (3, 2, 2)\n"
     ]
    }
   ],
   "source": [
    "import numpy as np\n",
    "a1=np.arange(3*2*2).reshape(3,2,2)+1\n",
    "b1=(a1-a1.max((-2,-1),keepdims=1)+1)\n",
    "c1=b1.copy()\n",
    "c1[b1<1]=0\n",
    "\n",
    "print('a1=\\n',a1)\n",
    "print('b1=\\n',b1)\n",
    "print('c1=\\n',c1)\n",
    "print('a1.shape=',a1.shape)\n",
    "print('b1.shape=',b1.shape)"
   ]
  },
  {
   "cell_type": "code",
   "execution_count": 62,
   "id": "eed2f4bb",
   "metadata": {},
   "outputs": [
    {
     "name": "stdout",
     "output_type": "stream",
     "text": [
      "a1.shape= (1, 1, 6, 6)\n",
      "b1.shape= (1, 1, 3, 3, 2, 2)\n",
      "a1=\n",
      " [[ 1  2  3  4  5  6]\n",
      " [ 7  8  9 10 11 12]\n",
      " [13 14 15 16 17 18]\n",
      " [19 20 21 22 23 24]\n",
      " [25 26 27 28 29 30]\n",
      " [31 32 33 34 35 36]]\n",
      "b1=\n",
      " [[[[ 1  2]\n",
      "   [ 7  8]]\n",
      "\n",
      "  [[ 3  4]\n",
      "   [ 9 10]]\n",
      "\n",
      "  [[ 5  6]\n",
      "   [11 12]]]\n",
      "\n",
      "\n",
      " [[[13 14]\n",
      "   [19 20]]\n",
      "\n",
      "  [[15 16]\n",
      "   [21 22]]\n",
      "\n",
      "  [[17 18]\n",
      "   [23 24]]]\n",
      "\n",
      "\n",
      " [[[25 26]\n",
      "   [31 32]]\n",
      "\n",
      "  [[27 28]\n",
      "   [33 34]]\n",
      "\n",
      "  [[29 30]\n",
      "   [35 36]]]]\n"
     ]
    }
   ],
   "source": [
    "import numpy as np\n",
    "def im2col(im,k=3,s=1,pad=1):\n",
    "#\tassert(im.ndim==4 and im.shape[-1]==1)\n",
    "#\tim2=np.pad(im,((0,0),(0,0),(0,int(np.ceil(im.shape[-2]%2))),(0,int(np.ceil(im.shape[-1]%2)))))\n",
    "    p=int(k/2)\n",
    "    (ba,c,h,w)=im.shape\n",
    "    if pad==1: imp=np.pad(im,((0,0),(0,0),(p,p),(p,p)))\n",
    "    else: imp=im\n",
    "    (ba,cp,hp,wp)=imp.shape\n",
    "    strd=(c*hp*wp,hp*wp,wp*s,s,wp,1)\n",
    "    strd=(i*imp.itemsize for i in strd)\n",
    "    # \tcol=np.lib.stride_tricks.as_strided(imp,shape=(ba,c,h,w,k,k),strides=strd)\n",
    "    col=np.lib.stride_tricks.as_strided(imp,shape=(ba,c,int((hp-k)/s)+1,int((wp-k)/s)+1,k,k),strides=strd)\n",
    "    return col\n",
    "\n",
    "h,w=(6,6)\n",
    "a1=np.arange(1*1*h*w).reshape(1,1,h,w)+1\n",
    "# b1=im2col(a1,s=1,pad=1)\n",
    "# b1=im2col(a1,s=1,pad=0)\n",
    "# b1=im2col(a1,s=3,pad=0)\n",
    "b1=im2col(a1,k=2,s=2,pad=0)\n",
    "print('a1.shape=',a1.shape)o\n",
    "print('b1.shape=',b1.shape)\n",
    "print('a1=\\n',a1.squeeze())\n",
    "print('b1=\\n',b1.squeeze())\n",
    "\n"
   ]
  },
  {
   "cell_type": "code",
   "execution_count": 43,
   "id": "fd697b30",
   "metadata": {},
   "outputs": [
    {
     "data": {
      "text/plain": [
       "2.807354922057604"
      ]
     },
     "execution_count": 43,
     "metadata": {},
     "output_type": "execute_result"
    }
   ],
   "source": [
    "import numpy as np\n",
    "np.log2(7)\n",
    "\n"
   ]
  },
  {
   "cell_type": "code",
   "execution_count": null,
   "id": "53d19a75",
   "metadata": {},
   "outputs": [],
   "source": [
    "a2=\n",
    " [[[[ 0  0  0  0  0  0]\n",
    "   [ 0  1  2  3  4  0]\n",
    "   [ 0  5  6  7  8  0]\n",
    "   [ 0  9 10 11 12  0]\n",
    "   [ 0 13 14 15 16  0]\n",
    "   [ 0  0  0  0  0  0]]\n",
    "\n",
    "  [[ 0  0  0  0  0  0]\n",
    "   [ 0 17 18 19 20  0]\n",
    "   [ 0 21 22 23 24  0]\n",
    "   [ 0 25 26 27 28  0]\n",
    "   [ 0 29 30 31 32  0]\n",
    "   [ 0  0  0  0  0  0]]]]"
   ]
  }
 ],
 "metadata": {
  "kernelspec": {
   "display_name": "Python 3",
   "language": "python",
   "name": "python3"
  },
  "language_info": {
   "codemirror_mode": {
    "name": "ipython",
    "version": 3
   },
   "file_extension": ".py",
   "mimetype": "text/x-python",
   "name": "python",
   "nbconvert_exporter": "python",
   "pygments_lexer": "ipython3",
   "version": "3.8.8"
  }
 },
 "nbformat": 4,
 "nbformat_minor": 5
}
