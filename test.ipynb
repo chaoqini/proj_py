{
 "cells": [
  {
   "cell_type": "code",
   "execution_count": 66,
   "id": "c4b40ddb",
   "metadata": {},
   "outputs": [
    {
     "name": "stdout",
     "output_type": "stream",
     "text": [
      "==========\n",
      "the loss in 0/50000 before update is : 0.9000000000000005\n",
      "the loss in 0/50000 after update is : 0.562260310185206\n",
      "loss grade is : 0.3377396898147945\n",
      "==========\n",
      "the loss in 1/50000 before update is : 0.9125623493134192\n",
      "the loss in 1/50000 after update is : 0.4002142301310165\n",
      "loss grade is : 0.5123481191824026\n",
      "==========\n",
      "the loss in 2/50000 before update is : 0.9199247747149932\n",
      "the loss in 2/50000 after update is : 0.7628224482461864\n",
      "loss grade is : 0.15710232646880684\n",
      "==========\n",
      "the loss in 3/50000 before update is : 0.9696187632934188\n",
      "the loss in 3/50000 after update is : 0.3732562934660205\n",
      "loss grade is : 0.5963624698273983\n",
      "==========\n",
      "the loss in 4/50000 before update is : 0.9445289441435638\n",
      "the loss in 4/50000 after update is : 0.6123418323549045\n",
      "loss grade is : 0.33218711178865934\n",
      "==========\n",
      "the loss in 5/50000 before update is : 0.7962171098998008\n",
      "the loss in 5/50000 after update is : 0.5252655171524312\n",
      "loss grade is : 0.2709515927473696\n",
      "==========\n",
      "the loss in 6/50000 before update is : 0.8036453401441633\n",
      "the loss in 6/50000 after update is : 0.33964479054527846\n",
      "loss grade is : 0.46400054959888487\n",
      "==========\n",
      "the loss in 7/50000 before update is : 0.980857421457766\n",
      "the loss in 7/50000 after update is : 0.6432467293554867\n",
      "loss grade is : 0.33761069210227934\n",
      "==========\n",
      "the loss in 8/50000 before update is : 1.0199351703612336\n",
      "the loss in 8/50000 after update is : 0.5434246375634556\n",
      "loss grade is : 0.476510532797778\n",
      "==========\n",
      "the loss in 9/50000 before update is : 0.8978028007970767\n",
      "the loss in 9/50000 after update is : 0.3041819229326733\n",
      "loss grade is : 0.5936208778644034\n",
      "==========\n",
      "the loss in 10/50000 before update is : 0.8112909541907835\n",
      "the loss in 10/50000 after update is : 0.22741100129328934\n",
      "loss grade is : 0.5838799528974941\n",
      "==========\n",
      "the loss in 11/50000 before update is : 1.07331502174563\n",
      "the loss in 11/50000 after update is : 0.6291309181747037\n",
      "loss grade is : 0.4441841035709263\n",
      "==========\n",
      "the loss in 12/50000 before update is : 0.5878847588801976\n",
      "the loss in 12/50000 after update is : 0.1623807364843997\n",
      "loss grade is : 0.42550402239579793\n",
      "==========\n",
      "the loss in 13/50000 before update is : 0.5958953931860546\n",
      "the loss in 13/50000 after update is : 0.08425575017076935\n",
      "loss grade is : 0.5116396430152852\n",
      "==========\n",
      "the loss in 14/50000 before update is : 0.8217057175049279\n",
      "the loss in 14/50000 after update is : 0.5692564273881334\n",
      "loss grade is : 0.2524492901167945\n",
      "==========\n",
      "the loss in 15/50000 before update is : 1.0882090131557463\n",
      "the loss in 15/50000 after update is : 0.6672267447213749\n",
      "loss grade is : 0.42098226843437137\n",
      "==========\n",
      "the loss in 16/50000 before update is : 0.5660928512291249\n",
      "the loss in 16/50000 after update is : 0.11827509310841802\n",
      "loss grade is : 0.4478177581207069\n",
      "==========\n",
      "the loss in 17/50000 before update is : 1.0737525334158962\n",
      "the loss in 17/50000 after update is : 0.5298062998383533\n",
      "loss grade is : 0.5439462335775429\n",
      "==========\n",
      "the loss in 18/50000 before update is : 1.0870866994965236\n",
      "the loss in 18/50000 after update is : 0.5632756209932721\n",
      "loss grade is : 0.5238110785032515\n",
      "==========\n",
      "the loss in 19/50000 before update is : 1.0175326201934003\n",
      "the loss in 19/50000 after update is : 0.6352426621468096\n",
      "loss grade is : 0.3822899580465907\n"
     ]
    },
    {
     "data": {
      "text/plain": [
       "<module 'ann2' from '/home/qc/proj_py/ann2.py'>"
      ]
     },
     "execution_count": 66,
     "metadata": {},
     "output_type": "execute_result"
    }
   ],
   "source": [
    "import ann2\n",
    "import imp\n",
    "imp.reload(ann2)\n"
   ]
  }
 ],
 "metadata": {
  "kernelspec": {
   "display_name": "Python 3 (ipykernel)",
   "language": "python",
   "name": "python3"
  },
  "language_info": {
   "codemirror_mode": {
    "name": "ipython",
    "version": 3
   },
   "file_extension": ".py",
   "mimetype": "text/x-python",
   "name": "python",
   "nbconvert_exporter": "python",
   "pygments_lexer": "ipython3",
   "version": "3.10.2"
  }
 },
 "nbformat": 4,
 "nbformat_minor": 5
}
