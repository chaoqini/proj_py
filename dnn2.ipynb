{
 "cells": [
  {
   "cell_type": "code",
   "execution_count": 7,
   "id": "d1f675c5",
   "metadata": {},
   "outputs": [
    {
     "name": "stdout",
     "output_type": "stream",
     "text": [
      "Training running ...\n",
      "Train learning rate = 0.05\n",
      "Train batch = 11\n",
      "Train input X.shape=(4545, 11, 784, 1), LAB.shape=(4545, 11, 1, 1)\n",
      "params b0.shape= (200, 1)\n",
      "params b1.shape= (100, 1)\n",
      "params b2.shape= (10, 1)\n",
      "params w0.shape= (200, 784)\n",
      "params w1.shape= (100, 200)\n",
      "params w2.shape= (10, 100)\n",
      "active function g[0] is: relu\n",
      "active function g[1] is: relu\n",
      "active function g[2] is: softmax\n",
      "active function g[3] is: log_loss\n",
      "Training bath running ...\n",
      "Training iteration number = 0/4545\n",
      "the spending time of 0/4545 batch is 34.589529037475586 mS\n",
      "Training iteration number = 454/4545\n",
      "the spending time of 454/4545 batch is 14.549970626831055 mS\n",
      "Training iteration number = 908/4545\n",
      "the spending time of 908/4545 batch is 14.548063278198242 mS\n",
      "Training iteration number = 1362/4545\n",
      "the spending time of 1362/4545 batch is 14.67585563659668 mS\n",
      "Training iteration number = 1816/4545\n",
      "the spending time of 1816/4545 batch is 14.708280563354492 mS\n",
      "Training iteration number = 2270/4545\n",
      "the spending time of 2270/4545 batch is 15.048503875732422 mS\n",
      "Training iteration number = 2724/4545\n",
      "the spending time of 2724/4545 batch is 14.70041275024414 mS\n",
      "Training iteration number = 3178/4545\n",
      "the spending time of 3178/4545 batch is 14.726638793945312 mS\n",
      "Training iteration number = 3632/4545\n",
      "the spending time of 3632/4545 batch is 14.427423477172852 mS\n",
      "Training iteration number = 4086/4545\n",
      "the spending time of 4086/4545 batch is 14.985322952270508 mS\n",
      "Training iteration number = 4540/4545\n",
      "the spending time of 4540/4545 batch is 15.109062194824219 mS\n",
      "Training iteration number = 4544/4545\n",
      "the spending time of 4544/4545 batch is 15.027761459350586 mS\n"
     ]
    },
    {
     "data": {
      "image/png": "[encoded data removed]",
      "text/plain": [
       "<Figure size 432x288 with 1 Axes>"
      ]
     },
     "metadata": {
      "needs_background": "light"
     },
     "output_type": "display_data"
    },
    {
     "name": "stdout",
     "output_type": "stream",
     "text": [
      "Valid running ...\n",
      "Valid Input X.shape=(100, 100, 784, 1), LAB.shape=(100, 100, 1, 1)\n",
      "Valid batch running ...\n",
      "Valid iteration number = 0/100\n",
      "Valid iteration number = 10/100\n",
      "Valid iteration number = 20/100\n",
      "Valid iteration number = 30/100\n",
      "Valid iteration number = 40/100\n",
      "Valid iteration number = 50/100\n",
      "Valid iteration number = 60/100\n",
      "Valid iteration number = 70/100\n",
      "Valid iteration number = 80/100\n",
      "Valid iteration number = 90/100\n",
      "Valid iteration number = 99/100\n",
      "Valid L2 norm:\n",
      "Valid L2_normalize_b0 = 0.0004657116949851873\n",
      "Valid L2_normalize_b1 = 0.002341701389600369\n",
      "Valid L2_normalize_b2 = 0.13524838023224162\n",
      "Valid L2_normalize_w0 = 4.423446030231469e-05\n",
      "Valid L2_normalize_w1 = 0.00019385948294928676\n",
      "Valid L2_normalize_w2 = 0.0042949139956457785\n",
      "Valid percent is : 94.06%\n",
      "Valid_train Input X.shape=(500, 100, 784, 1), LAB.shape=(500, 100, 1, 1)\n",
      "Valid_train batch running ...\n",
      "Valid_train iteration number = 0/500\n",
      "Valid_train iteration number = 50/500\n",
      "Valid_train iteration number = 100/500\n",
      "Valid_train iteration number = 150/500\n",
      "Valid_train iteration number = 200/500\n",
      "Valid_train iteration number = 250/500\n",
      "Valid_train iteration number = 300/500\n",
      "Valid_train iteration number = 350/500\n",
      "Valid_train iteration number = 400/500\n",
      "Valid_train iteration number = 450/500\n",
      "Valid_train iteration number = 499/500\n",
      "Valid_train L2_normalize_b0 = 0.0004657116949851873\n",
      "Valid_train L2_normalize_b1 = 0.002341701389600369\n",
      "Valid_train L2_normalize_b2 = 0.13524838023224162\n",
      "Valid_train L2_normalize_w0 = 4.423446030231469e-05\n",
      "Valid_train L2_normalize_w1 = 0.00019385948294928676\n",
      "Valid_train L2_normalize_w2 = 0.0042949139956457785\n",
      "Valid_train percent is : 93.46%\n",
      "params write in dnn_p1.pkl\n",
      "Grade check running ...\n",
      "grad_check: abs_error= {'d_b0': 5.398329771258416e-11, 'd_b1': 6.195957481240618e-11, 'd_b2': 9.186669034854005e-12, 'd_w0': 2.415463553202625e-07, 'd_w1': 6.063161753128398e-08, 'd_w2': 9.193760927502668e-08}\n",
      "grad_check: ratio_error= {'d_b0': 4.820079580057634e-08, 'd_b1': 4.112743597319376e-08, 'd_b2': 6.8236416571437646e-09, 'd_w0': 9.051287817983745e-08, 'd_w1': 5.7909783298777095e-08, 'd_w2': 1.6057734664223566e-07}\n",
      "Grade check end.\n"
     ]
    },
    {
     "ename": "TypeError",
     "evalue": "'module' object is not callable",
     "output_type": "error",
     "traceback": [
      "\u001b[0;31m---------------------------------------------------------------------------\u001b[0m",
      "\u001b[0;31mTypeError\u001b[0m                                 Traceback (most recent call last)",
      "Input \u001b[0;32mIn [7]\u001b[0m, in \u001b[0;36m<module>\u001b[0;34m\u001b[0m\n\u001b[1;32m      2\u001b[0m \u001b[38;5;28;01mimport\u001b[39;00m \u001b[38;5;21;01mnumpy\u001b[39;00m \u001b[38;5;28;01mas\u001b[39;00m \u001b[38;5;21;01mnp\u001b[39;00m\n\u001b[1;32m      3\u001b[0m \u001b[38;5;28;01mimport\u001b[39;00m \u001b[38;5;21;01mimp\u001b[39;00m\n\u001b[0;32m----> 4\u001b[0m imp\u001b[38;5;241m.\u001b[39mreload(\u001b[43mdnn\u001b[49m\u001b[43m(\u001b[49m\u001b[38;5;241;43m0.2\u001b[39;49m\u001b[43m,\u001b[49m\u001b[38;5;241;43m11\u001b[39;49m\u001b[43m)\u001b[49m)\n",
      "\u001b[0;31mTypeError\u001b[0m: 'module' object is not callable"
     ]
    }
   ],
   "source": [
    "import dnn\n",
    "import numpy as np\n",
    "import imp\n",
    "imp.reload(dnn(0.2,11))"
   ]
  },
  {
   "cell_type": "code",
   "execution_count": 23,
   "id": "017ba2e4",
   "metadata": {
    "collapsed": true
   },
   "outputs": [
    {
     "name": "stdout",
     "output_type": "stream",
     "text": [
      "Real lab number is :\t7\n",
      "Precdict number is :\t7\n"
     ]
    },
    {
     "data": {
      "image/png": "[encoded data removed]",
      "text/plain": [
       "<Figure size 432x288 with 1 Axes>"
      ]
     },
     "metadata": {
      "needs_background": "light"
     },
     "output_type": "display_data"
    }
   ],
   "source": [
    "dnn.show()"
   ]
  }
 ],
 "metadata": {
  "kernelspec": {
   "display_name": "Python 3 (ipykernel)",
   "language": "python",
   "name": "python3"
  },
  "language_info": {
   "codemirror_mode": {
    "name": "ipython",
    "version": 3
   },
   "file_extension": ".py",
   "mimetype": "text/x-python",
   "name": "python",
   "nbconvert_exporter": "python",
   "pygments_lexer": "ipython3",
   "version": "3.10.2"
  }
 },
 "nbformat": 4,
 "nbformat_minor": 5
}
