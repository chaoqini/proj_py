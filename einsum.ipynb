{
 "cells": [
  {
   "cell_type": "code",
   "execution_count": 1,
   "id": "4494476b",
   "metadata": {},
   "outputs": [],
   "source": [
    "import numpy as np"
   ]
  },
  {
   "cell_type": "code",
   "execution_count": 257,
   "id": "cb7c9e12",
   "metadata": {},
   "outputs": [
    {
     "name": "stdout",
     "output_type": "stream",
     "text": [
      "a1 shape: (2, 3)\n",
      "[[1 2 3]\n",
      " [4 5 6]]\n",
      "b1 shape: (3, 4)\n",
      "[[1 1 1 1]\n",
      " [0 0 0 0]\n",
      " [1 1 1 1]]\n"
     ]
    }
   ],
   "source": [
    "n=2\n",
    "a1=np.arange(n*3*1).reshape(n,3)+1\n",
    "# b1=np.ones((3,4),dtype=int)\n",
    "b1 =np.array([[1,1,1,1],[0,0,0,0],[1,1,1,1]])\n",
    "print('a1 shape:',a1.shape)\n",
    "print(a1)\n",
    "print('b1 shape:',b1.shape)\n",
    "print(b1)"
   ]
  },
  {
   "cell_type": "code",
   "execution_count": 254,
   "id": "c5f9a843",
   "metadata": {},
   "outputs": [
    {
     "name": "stdout",
     "output_type": "stream",
     "text": [
      "[[[1 1 1 1]\n",
      "  [0 0 0 0]\n",
      "  [3 3 3 3]]\n",
      "\n",
      " [[4 4 4 4]\n",
      "  [0 0 0 0]\n",
      "  [6 6 6 6]]\n",
      "\n",
      " [[7 7 7 7]\n",
      "  [0 0 0 0]\n",
      "  [9 9 9 9]]]\n"
     ]
    },
    {
     "data": {
      "text/plain": [
       "(3, 3, 4)"
      ]
     },
     "execution_count": 254,
     "metadata": {},
     "output_type": "execute_result"
    }
   ],
   "source": [
    "aa1=np.einsum('ij,jl->ijl',a1,b1)\n",
    "print(aa1)\n",
    "aa1.shape"
   ]
  },
  {
   "cell_type": "code",
   "execution_count": 256,
   "id": "4f4af657",
   "metadata": {},
   "outputs": [
    {
     "name": "stdout",
     "output_type": "stream",
     "text": [
      "[[ 4  0 12]\n",
      " [16  0 24]\n",
      " [28  0 36]]\n"
     ]
    },
    {
     "data": {
      "text/plain": [
       "(3, 3)"
      ]
     },
     "execution_count": 256,
     "metadata": {},
     "output_type": "execute_result"
    }
   ],
   "source": [
    "aa3=np.einsum('ij,jl->ij',a1,b1)\n",
    "print(aa3)\n",
    "aa3.shape"
   ]
  },
  {
   "cell_type": "code",
   "execution_count": 285,
   "id": "30e78025",
   "metadata": {},
   "outputs": [
    {
     "name": "stdout",
     "output_type": "stream",
     "text": [
      "(2, 3, 4, 3)\n",
      "[[[[1 0 1]\n",
      "   [1 0 1]\n",
      "   [1 0 1]\n",
      "   [1 0 1]]\n",
      "\n",
      "  [[2 0 2]\n",
      "   [2 0 2]\n",
      "   [2 0 2]\n",
      "   [2 0 2]]\n",
      "\n",
      "  [[3 0 3]\n",
      "   [3 0 3]\n",
      "   [3 0 3]\n",
      "   [3 0 3]]]\n",
      "\n",
      "\n",
      " [[[4 0 4]\n",
      "   [4 0 4]\n",
      "   [4 0 4]\n",
      "   [4 0 4]]\n",
      "\n",
      "  [[5 0 5]\n",
      "   [5 0 5]\n",
      "   [5 0 5]\n",
      "   [5 0 5]]\n",
      "\n",
      "  [[6 0 6]\n",
      "   [6 0 6]\n",
      "   [6 0 6]\n",
      "   [6 0 6]]]]\n"
     ]
    }
   ],
   "source": [
    "aa2=np.einsum('ij,lk->ijkl',a1,b1)\n",
    "# aa2=np.einsum('ij,kl->ijkl',a1,b1)\n",
    "print(aa2.shape)\n",
    "print(aa2)"
   ]
  },
  {
   "cell_type": "code",
   "execution_count": 165,
   "id": "5a9c539d",
   "metadata": {},
   "outputs": [
    {
     "name": "stdout",
     "output_type": "stream",
     "text": [
      "[[[[0. 0. 0. 0.]\n",
      "   [0. 0. 0. 0.]\n",
      "   [0. 0. 0. 0.]]\n",
      "\n",
      "  [[1. 1. 1. 1.]\n",
      "   [1. 1. 1. 1.]\n",
      "   [1. 1. 1. 1.]]\n",
      "\n",
      "  [[2. 2. 2. 2.]\n",
      "   [2. 2. 2. 2.]\n",
      "   [2. 2. 2. 2.]]]\n",
      "\n",
      "\n",
      " [[[3. 3. 3. 3.]\n",
      "   [3. 3. 3. 3.]\n",
      "   [3. 3. 3. 3.]]\n",
      "\n",
      "  [[4. 4. 4. 4.]\n",
      "   [4. 4. 4. 4.]\n",
      "   [4. 4. 4. 4.]]\n",
      "\n",
      "  [[5. 5. 5. 5.]\n",
      "   [5. 5. 5. 5.]\n",
      "   [5. 5. 5. 5.]]]]\n"
     ]
    },
    {
     "data": {
      "text/plain": [
       "(2, 3, 3, 4)"
      ]
     },
     "execution_count": 165,
     "metadata": {},
     "output_type": "execute_result"
    }
   ],
   "source": [
    "c1=np.einsum('ij,kl->ijkl',a1,b1)\n",
    "print(c1)\n",
    "c1.shape"
   ]
  },
  {
   "cell_type": "code",
   "execution_count": 141,
   "id": "afdf3629",
   "metadata": {},
   "outputs": [
    {
     "name": "stdout",
     "output_type": "stream",
     "text": [
      "[[[[0. 1. 2.]\n",
      "   [3. 4. 5.]]\n",
      "\n",
      "  [[0. 1. 2.]\n",
      "   [3. 4. 5.]]\n",
      "\n",
      "  [[0. 1. 2.]\n",
      "   [3. 4. 5.]]\n",
      "\n",
      "  [[0. 1. 2.]\n",
      "   [3. 4. 5.]]]\n",
      "\n",
      "\n",
      " [[[0. 1. 2.]\n",
      "   [3. 4. 5.]]\n",
      "\n",
      "  [[0. 1. 2.]\n",
      "   [3. 4. 5.]]\n",
      "\n",
      "  [[0. 1. 2.]\n",
      "   [3. 4. 5.]]\n",
      "\n",
      "  [[0. 1. 2.]\n",
      "   [3. 4. 5.]]]\n",
      "\n",
      "\n",
      " [[[0. 1. 2.]\n",
      "   [3. 4. 5.]]\n",
      "\n",
      "  [[0. 1. 2.]\n",
      "   [3. 4. 5.]]\n",
      "\n",
      "  [[0. 1. 2.]\n",
      "   [3. 4. 5.]]\n",
      "\n",
      "  [[0. 1. 2.]\n",
      "   [3. 4. 5.]]]\n",
      "\n",
      "\n",
      " [[[0. 1. 2.]\n",
      "   [3. 4. 5.]]\n",
      "\n",
      "  [[0. 1. 2.]\n",
      "   [3. 4. 5.]]\n",
      "\n",
      "  [[0. 1. 2.]\n",
      "   [3. 4. 5.]]\n",
      "\n",
      "  [[0. 1. 2.]\n",
      "   [3. 4. 5.]]]\n",
      "\n",
      "\n",
      " [[[0. 1. 2.]\n",
      "   [3. 4. 5.]]\n",
      "\n",
      "  [[0. 1. 2.]\n",
      "   [3. 4. 5.]]\n",
      "\n",
      "  [[0. 1. 2.]\n",
      "   [3. 4. 5.]]\n",
      "\n",
      "  [[0. 1. 2.]\n",
      "   [3. 4. 5.]]]]\n"
     ]
    },
    {
     "data": {
      "text/plain": [
       "(5, 4, 2, 3)"
      ]
     },
     "execution_count": 141,
     "metadata": {},
     "output_type": "execute_result"
    }
   ],
   "source": [
    "d1=np.einsum('ij,kl->ijkl',b1,a1)\n",
    "print(d1)\n",
    "d1.shape"
   ]
  },
  {
   "cell_type": "code",
   "execution_count": 136,
   "id": "59a217cb",
   "metadata": {
    "collapsed": true
   },
   "outputs": [
    {
     "name": "stdout",
     "output_type": "stream",
     "text": [
      "[[[ 0.  3.  6.]\n",
      "  [ 9. 12. 15.]]\n",
      "\n",
      " [[ 0.  3.  6.]\n",
      "  [ 9. 12. 15.]]\n",
      "\n",
      " [[ 0.  3.  6.]\n",
      "  [ 9. 12. 15.]]\n",
      "\n",
      " [[ 0.  3.  6.]\n",
      "  [ 9. 12. 15.]]\n",
      "\n",
      " [[ 0.  3.  6.]\n",
      "  [ 9. 12. 15.]]]\n"
     ]
    },
    {
     "data": {
      "text/plain": [
       "(5, 2, 3)"
      ]
     },
     "execution_count": 136,
     "metadata": {},
     "output_type": "execute_result"
    }
   ],
   "source": [
    "e1=np.einsum('ij,kl->jkl',b1,a1)\n",
    "print(e1)\n",
    "e1.shape"
   ]
  }
 ],
 "metadata": {
  "kernelspec": {
   "display_name": "Python 3 (ipykernel)",
   "language": "python",
   "name": "python3"
  },
  "language_info": {
   "codemirror_mode": {
    "name": "ipython",
    "version": 3
   },
   "file_extension": ".py",
   "mimetype": "text/x-python",
   "name": "python",
   "nbconvert_exporter": "python",
   "pygments_lexer": "ipython3",
   "version": "3.10.2"
  }
 },
 "nbformat": 4,
 "nbformat_minor": 5
}
