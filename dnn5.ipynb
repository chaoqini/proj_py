{
 "cells": [
  {
   "cell_type": "code",
   "execution_count": null,
   "id": "30538201",
   "metadata": {},
   "outputs": [
    {
     "name": "stdout",
     "output_type": "stream",
     "text": [
      "Training running ...\n",
      "Train learning rate = 0.1\n",
      "Train batch = 20\n",
      "Train input X.shape=(2500, 20, 784, 1), LAB.shape=(2500, 20, 1, 1)\n",
      "params b0.shape= (400, 1)\n",
      "params b1.shape= (100, 1)\n",
      "params b2.shape= (10, 1)\n",
      "params w0.shape= (400, 784)\n",
      "params w1.shape= (100, 400)\n",
      "params w2.shape= (10, 100)\n",
      "active function g[0] is: relu\n",
      "active function g[1] is: relu\n",
      "active function g[2] is: softmax\n",
      "active function g[3] is: log_loss\n",
      "Training bath running ...\n",
      "Training iteration number = 0/2500\n",
      "the spending time of 0/2500 batch is 133.29792022705078 mS\n",
      "Training iteration number = 250/2500\n",
      "the spending time of 250/2500 batch is 127.76899337768555 mS\n",
      "Training iteration number = 500/2500\n",
      "the spending time of 500/2500 batch is 124.21941757202148 mS\n",
      "Training iteration number = 750/2500\n",
      "the spending time of 750/2500 batch is 118.71051788330078 mS\n",
      "Training iteration number = 1000/2500\n",
      "the spending time of 1000/2500 batch is 125.31280517578125 mS\n",
      "Training iteration number = 1250/2500\n",
      "the spending time of 1250/2500 batch is 121.69551849365234 mS\n",
      "Training iteration number = 1500/2500\n",
      "the spending time of 1500/2500 batch is 121.71769142150879 mS\n",
      "Training iteration number = 1750/2500\n",
      "the spending time of 1750/2500 batch is 120.53251266479492 mS\n",
      "Training iteration number = 2000/2500\n",
      "the spending time of 2000/2500 batch is 122.44462966918945 mS\n",
      "Training iteration number = 2250/2500\n",
      "the spending time of 2250/2500 batch is 124.56536293029785 mS\n",
      "Training iteration number = 2499/2500\n",
      "the spending time of 2499/2500 batch is 117.05970764160156 mS\n"
     ]
    },
    {
     "data": {
      "image/png": "[encoded data removed]",
      "text/plain": [
       "<Figure size 432x288 with 1 Axes>"
      ]
     },
     "metadata": {
      "needs_background": "light"
     },
     "output_type": "display_data"
    },
    {
     "name": "stdout",
     "output_type": "stream",
     "text": [
      "Valid running ...\n",
      "Valid Input X.shape=(100, 100, 784, 1), LAB.shape=(100, 100, 1, 1)\n",
      "Valid batch running ...\n",
      "Valid iteration number = 0/100\n",
      "Valid iteration number = 10/100\n",
      "Valid iteration number = 20/100\n",
      "Valid iteration number = 30/100\n",
      "Valid iteration number = 40/100\n",
      "Valid iteration number = 50/100\n",
      "Valid iteration number = 60/100\n",
      "Valid iteration number = 70/100\n",
      "Valid iteration number = 80/100\n",
      "Valid iteration number = 90/100\n",
      "Valid iteration number = 99/100\n",
      "Valid L2 norm:\n",
      "Valid L2_normalize_b0 = 0.0003230725457962783\n",
      "Valid L2_normalize_b1 = 0.003928354008944576\n",
      "Valid L2_normalize_b2 = 0.12429992525438124\n",
      "Valid L2_normalize_w0 = 2.5811011553826e-05\n",
      "Valid L2_normalize_w1 = 0.00010966277876543642\n",
      "Valid L2_normalize_w2 = 0.004329524077512927\n",
      "Valid percent is : 94.99%\n",
      "Valid_train Input X.shape=(500, 100, 784, 1), LAB.shape=(500, 100, 1, 1)\n",
      "Valid_train batch running ...\n",
      "Valid_train iteration number = 0/500\n",
      "Valid_train iteration number = 50/500\n",
      "Valid_train iteration number = 100/500\n",
      "Valid_train iteration number = 150/500\n",
      "Valid_train iteration number = 200/500\n",
      "Valid_train iteration number = 250/500\n",
      "Valid_train iteration number = 300/500\n",
      "Valid_train iteration number = 350/500\n",
      "Valid_train iteration number = 400/500\n",
      "Valid_train iteration number = 450/500\n",
      "Valid_train iteration number = 499/500\n",
      "Valid_train L2_normalize_b0 = 0.0003230725457962783\n",
      "Valid_train L2_normalize_b1 = 0.003928354008944576\n",
      "Valid_train L2_normalize_b2 = 0.12429992525438124\n",
      "Valid_train L2_normalize_w0 = 2.5811011553826e-05\n",
      "Valid_train L2_normalize_w1 = 0.00010966277876543642\n",
      "Valid_train L2_normalize_w2 = 0.004329524077512927\n",
      "Valid_train percent is : 94.52%\n",
      "params write in dnn_p1.pkl\n",
      "Grade check running ...\n"
     ]
    },
    {
     "name": "stderr",
     "output_type": "stream",
     "text": [
      "/home/qc/proj_py/dnn.py:76: RuntimeWarning: divide by zero encountered in log\n",
      "  LOSS=-np.sum(YL*np.log(Y),axis=1)\n",
      "/home/qc/proj_py/dnn.py:76: RuntimeWarning: invalid value encountered in multiply\n",
      "  LOSS=-np.sum(YL*np.log(Y),axis=1)\n"
     ]
    }
   ],
   "source": [
    "import dnn\n",
    "import numpy as np\n",
    "import imp\n",
    "imp.reload(dnn)"
   ]
  },
  {
   "cell_type": "code",
   "execution_count": null,
   "id": "dc022986",
   "metadata": {},
   "outputs": [],
   "source": [
    "dnn.show()"
   ]
  }
 ],
 "metadata": {
  "kernelspec": {
   "display_name": "Python 3 (ipykernel)",
   "language": "python",
   "name": "python3"
  },
  "language_info": {
   "codemirror_mode": {
    "name": "ipython",
    "version": 3
   },
   "file_extension": ".py",
   "mimetype": "text/x-python",
   "name": "python",
   "nbconvert_exporter": "python",
   "pygments_lexer": "ipython3",
   "version": "3.10.2"
  }
 },
 "nbformat": 4,
 "nbformat_minor": 5
}
