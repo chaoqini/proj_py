{
 "cells": [
  {
   "cell_type": "code",
   "execution_count": 14,
   "id": "db86d46d",
   "metadata": {},
   "outputs": [
    {
     "name": "stdout",
     "output_type": "stream",
     "text": [
      "init_params: ch= [1, 2, 4, 6, 8, 10]\n",
      "fp: A-1.shape= (2, 1, 28, 28)\n",
      "fp: Z0_tmp.shape= (2, 2, 1, 28, 28)\n",
      "fp: A-1_idt.shape= (2, 1, 1, 28, 28)\n",
      "fp: af Z0_tmp.shape= (2, 2, 1, 28, 28)\n",
      "fp: af Z0.shape= (2, 2, 28, 28)\n",
      "fp: A0.shape= (2, 2, 14, 14)\n",
      "fp: Z1_tmp.shape= (2, 4, 2, 14, 14)\n",
      "fp: A0_idt.shape= (2, 1, 2, 14, 14)\n",
      "fp: af Z1_tmp.shape= (2, 4, 2, 14, 14)\n",
      "fp: af Z1.shape= (2, 4, 14, 14)\n",
      "fp: A1.shape= (2, 4, 14, 14)\n",
      "fp: Z2_tmp.shape= (2, 6, 4, 14, 14)\n",
      "fp: A1_idt.shape= (2, 1, 4, 14, 14)\n",
      "fp: af Z2_tmp.shape= (2, 6, 4, 14, 14)\n",
      "fp: af Z2.shape= (2, 6, 14, 14)\n",
      "fp: A2.shape= (2, 6, 14, 14)\n",
      "fp: Z3_tmp.shape= (2, 8, 6, 14, 14)\n",
      "fp: A2_idt.shape= (2, 1, 6, 14, 14)\n",
      "fp: af Z3_tmp.shape= (2, 8, 6, 14, 14)\n",
      "fp: af Z3.shape= (2, 8, 14, 14)\n",
      "params.keys()=\n",
      " dict_keys(['k0', 'gama0', 'beta0', 'k1', 'gama1', 'beta1', 'k2', 'gama2', 'beta2', 'k3', 'gama3', 'beta3', 'w4'])\n",
      "op.keys()=\n",
      " dict_keys(['A-1', 'C-1', 'Z0', 'ZdM0', 'M0', 'u0', 'v0', 'X0', 'Y0', 'A0', 'C0', 'Z1', 'ZdM1', 'M1', 'u1', 'v1', 'X1', 'Y1', 'A1', 'C1', 'Z2', 'ZdM2', 'M2', 'u2', 'v2', 'X2', 'Y2', 'A2', 'C2', 'Z3', 'ZdM3', 'M3', 'u3', 'v3', 'X3', 'Y3', 'A3', 'C3', 'Z4', 'ZdM4', 'M4', 'u4', 'v4', 'X4', 'Y4', 'A4'])\n"
     ]
    },
    {
     "data": {
      "text/plain": [
       "<module 'renn' from '/home/qc/proj_py/renn.py'>"
      ]
     },
     "execution_count": 14,
     "metadata": {},
     "output_type": "execute_result"
    }
   ],
   "source": [
    "import renn\n",
    "import numpy as np\n",
    "import pickle\n",
    "import imp\n",
    "imp.reload(renn)\n",
    "# (params,params_init,g,g_d)=cnn.init_params(lays=16,imchin=8,dimch=2)\n",
    "# params=cnn.hyperparams_test(params,params_init,g,g_d,nloop=18,batch=64,isl2grad=1)\n",
    "# with open('cnn_p1.pkl', 'wb') as f: pickle.dump(params,f)\n",
    "# with open('cnn_p1.pkl', 'rb') as f: params2=pickle.load(f)\n",
    "# for k,v in params2.items(): print('%s.shape='%k,v.shape)\n",
    "# cnn.show(params,g)\n"
   ]
  }
 ],
 "metadata": {
  "kernelspec": {
   "display_name": "Python 3",
   "language": "python",
   "name": "python3"
  },
  "language_info": {
   "codemirror_mode": {
    "name": "ipython",
    "version": 3
   },
   "file_extension": ".py",
   "mimetype": "text/x-python",
   "name": "python",
   "nbconvert_exporter": "python",
   "pygments_lexer": "ipython3",
   "version": "3.8.8"
  }
 },
 "nbformat": 4,
 "nbformat_minor": 5
}
