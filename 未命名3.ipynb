{
 "cells": [
  {
   "cell_type": "code",
   "execution_count": 5,
   "id": "016cc9e3",
   "metadata": {},
   "outputs": [],
   "source": [
    "import ann2\n",
    "\n"
   ]
  },
  {
   "cell_type": "code",
   "execution_count": null,
   "id": "50b4899e",
   "metadata": {},
   "outputs": [],
   "source": [
    "#with open('p2.pkl', 'wb') as f: pickle.dump(params, f)\n",
    "#with open('p2.pkl', 'rb') as f: params=pickle.load(f)\n",
    "nx=28*28; ny=10\n",
    "params_init={'b0':0*np.ones(nx),'b1':0*np.ones(ny),'w1':1*np.ones([ny,nx])}\n",
    "params=params_init\n",
    "\n",
    "#x=np.arange(28*28)*1e-8\n",
    "#num=11\n",
    "#x=mnist.test_img[num]\n",
    "#lab=mnist.test_lab[num]\n",
    "#img=x.reshape(28,28)\n",
    "#plt.imshow(img,cmap='gray');plt.show()\n",
    "#(y,op)=ann.fp(x,params)\n",
    "#loss=ann.cost(x,params,lab)\n",
    "#grad=ann.bp(op,params,lab)\n",
    "#k=ann.k(x,params,lab)\n",
    "\n",
    "batch_size=100\n",
    "\n",
    "#for n in range(int(mnist.train_num*1e-2)):\n",
    "for n in range(20):\n",
    "    x=mnist.test_img[n]\n",
    "    lab=mnist.test_lab[n]\n",
    "    l1=ann.loss(x,params,lab)\n",
    "    print('='*10)\n",
    "    print('the loss in %s/%s before update is : %s'%(n,mnist.train_num,l1))\n",
    "    (y,op)=ann.fp(x,params)\n",
    "#    grad=ann.bp(op,params,lab)\n",
    "    grad=ann.k(x,params,lab)\n",
    "    print(grad['d_b1'].T)\n",
    "    params=ann.update_params(params,grad,1)\n",
    "    l2=ann.loss(x,params,lab)\n",
    "    print('the loss in %s/%s after update is : %s'%(n,mnist.train_num,l2))\n",
    "    print('loss grade is : %s'%(l1-l2))\n",
    "\n",
    "\n",
    "#params=ann.update_params(params,grad,1)\n",
    "#print(params.values())\n",
    "#print(params.keys())\n",
    "#print(params[params.keys()[0]])\n",
    "#print(params['b1'].shape)\n",
    "#print(op['params']['w1'].shape)\n"
   ]
  },
  {
   "cell_type": "code",
   "execution_count": null,
   "id": "5b06ba60",
   "metadata": {},
   "outputs": [],
   "source": [
    "print(params)"
   ]
  }
 ],
 "metadata": {
  "kernelspec": {
   "display_name": "Python 3 (ipykernel)",
   "language": "python",
   "name": "python3"
  },
  "language_info": {
   "codemirror_mode": {
    "name": "ipython",
    "version": 3
   },
   "file_extension": ".py",
   "mimetype": "text/x-python",
   "name": "python",
   "nbconvert_exporter": "python",
   "pygments_lexer": "ipython3",
   "version": "3.10.2"
  }
 },
 "nbformat": 4,
 "nbformat_minor": 5
}
